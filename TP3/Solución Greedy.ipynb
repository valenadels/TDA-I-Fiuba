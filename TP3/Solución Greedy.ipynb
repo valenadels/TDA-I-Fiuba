{
 "cells": [
  {
   "cell_type": "code",
   "execution_count": null,
   "metadata": {},
   "outputs": [],
   "source": [
    "from collections import Counter\n",
    "\n",
    "def ordenar_jugadores_por_apariciones(pedidos_de_la_prensa):\n",
    "    jugadores = [jugador for lista in pedidos_de_la_prensa for jugador in lista]\n",
    "    contador_jugadores = Counter(jugadores)\n",
    "    jugadores_ordenados = sorted(contador_jugadores, key=lambda jugador: contador_jugadores[jugador], reverse=True)\n",
    "    return jugadores_ordenados\n",
    "\n",
    "def solucion_greedy(jugadores_ordenados, pedidos_de_la_prensa):\n",
    "    i = 0\n",
    "    solucionado = False\n",
    "    solucion = []\n",
    "    while i < len(jugadores_ordenados) and not solucionado:\n",
    "        jugador_actual = jugadores_ordenados[0]\n",
    "        solucion.append(jugador_actual)\n",
    "        \n",
    "        if verificar_solucion_para_Scaloni(pedidos_de_la_prensa, solucion):\n",
    "            solucionado = True\n",
    "        else:\n",
    "            pedidos_de_la_prensa = [lista for lista in pedidos_de_la_prensa if jugador_actual not in lista]\n",
    "            jugadores_ordenados = ordenar_jugadores_por_apariciones(pedidos_de_la_prensa)\n",
    "        \n",
    "        i += 1\n",
    "    return solucion\n",
    "\n",
    "archivo_path = path_7\n",
    "pedidos_de_la_prensa = obtener_pedidos_de_la_prensa(archivo_path)\n",
    "jugadores_ordenados = ordenar_jugadores_por_apariciones(pedidos_de_la_prensa)\n",
    "solucion = solucion_greedy(jugadores_ordenados, pedidos_de_la_prensa)\n",
    "print(solucion)"
   ]
  }
 ],
 "metadata": {
  "language_info": {
   "name": "python"
  }
 },
 "nbformat": 4,
 "nbformat_minor": 2
}
