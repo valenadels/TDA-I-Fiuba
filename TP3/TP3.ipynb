{
 "cells": [
  {
   "cell_type": "markdown",
   "metadata": {},
   "source": [
    "# TP3: Problemas NP-Completos"
   ]
  },
  {
   "cell_type": "code",
   "execution_count": null,
   "metadata": {},
   "outputs": [],
   "source": [
    "import time\n",
    "import random\n",
    "# pip install matplotlib\n",
    "from matplotlib import pyplot as plt\n",
    "# pip install tabulate\n",
    "from tabulate import tabulate\n",
    "# pip install pulp\n",
    "import pulp\n"
   ]
  },
  {
   "cell_type": "markdown",
   "metadata": {},
   "source": [
    "### ¿Hitting-Set Problem está en NP?"
   ]
  },
  {
   "cell_type": "code",
   "execution_count": null,
   "metadata": {},
   "outputs": [],
   "source": [
    "#Verificamos la solucion polinomialmente\n",
    "def verificar_solucion(B, C, k):\n",
    "    if len(C) > k:\n",
    "        return False\n",
    "    satisface_Bi = [False] * len(B)\n",
    "\n",
    "    for c in C:                      # O(#C) \n",
    "        for i in range(len(B)):\n",
    "            if c in B[i]:            # O(#B[i])\n",
    "                satisface_Bi[i] = True\n",
    "\n",
    "    return all(satisface_Bi)      # O(#B)         "
   ]
  },
  {
   "cell_type": "markdown",
   "metadata": {},
   "source": [
    "### Funciones auxiliares\n"
   ]
  },
  {
   "cell_type": "code",
   "execution_count": null,
   "metadata": {},
   "outputs": [],
   "source": [
    "# Recibe el path con el archivo a leer.\n",
    "# Leemos y devolvemos un array de listas, donde cada lista posee los jugadores que piden los diferentes medios y periodistas.\n",
    "def obtener_pedidos_de_la_prensa(path):\n",
    "    with open(path, 'r') as archivo:\n",
    "        lineas = archivo.readlines()\n",
    "\n",
    "    pedidos_de_la_prensa = []\n",
    "\n",
    "    for linea in lineas:\n",
    "        preseleccion_linea = linea.strip().split(',')\n",
    "        pedidos_de_la_prensa.append(preseleccion_linea)\n",
    "\n",
    "    return pedidos_de_la_prensa\n",
    "\n",
    "# Recibe una lista de listas, donde cada lista posee los jugadores que piden los diferentes medios y periodistas.\n",
    "# Devuelve un set con todos los jugadores que son solicitados por la prensa.\n",
    "def obtener_todos_jugadores(pedidos_de_la_prensa):\n",
    "    jugadores = set()\n",
    "    for pedido in pedidos_de_la_prensa:\n",
    "        for jugador in pedido:\n",
    "            jugadores.add(jugador)\n",
    "    return jugadores"
   ]
  },
  {
   "cell_type": "code",
   "execution_count": null,
   "metadata": {},
   "outputs": [],
   "source": [
    "# Clase que representa el resultado.\n",
    "# Recibe el nombre del archivo, la cantidad minima de jugadores que resuelve y los jugadores que se seleccionaron como solucion.\n",
    "class Resultado:\n",
    "    def __init__(self, nombre_archivo, cantidad_minima, jugadores):\n",
    "        self.nombre_archivo = nombre_archivo\n",
    "        self.cantidad_minima = cantidad_minima\n",
    "        self.jugadores = jugadores\n",
    "        \n",
    "\n",
    "def obtener_resultados_esperados(nombre_archivo):\n",
    "    with open(nombre_archivo, 'r') as archivo:\n",
    "        contenido = archivo.read() \n",
    "    resultados = []\n",
    "\n",
    "    # Separa el contenido en bloques\n",
    "    bloques = contenido.split('\\n\\n')\n",
    "    \n",
    "    # Itera a través de cada bloque y busca \".txt\" (para obtener el nombre del archivo) y \n",
    "    # \"Cantidad\" (para obtener la cantidad minima de jugadores que resuelve y los jugadores que se seleccionaron como solucion)\n",
    "    for bloque in bloques:\n",
    "        nombre_archivo = ''\n",
    "        cantidad_minima = 0\n",
    "        jugadores = []\n",
    "\n",
    "        lineas = bloque.split('\\n')\n",
    "        for linea in lineas:\n",
    "            if \".txt\" in linea:\n",
    "                nombre_archivo = linea\n",
    "            if 'Cantidad' in linea:\n",
    "                cantidad_minima = int(linea.split(\":\")[1].split(\"(\")[0].strip())\n",
    "                jugadores_linea = linea.split(\"(\")[1].split(\")\")[0]\n",
    "                jugadores = [jugador.strip() for jugador in jugadores_linea.split(\",\")]\n",
    "                resultados.append(Resultado(nombre_archivo, cantidad_minima, jugadores))\n",
    "\n",
    "    return resultados\n"
   ]
  },
  {
   "cell_type": "markdown",
   "metadata": {},
   "source": [
    "### Sets de datos"
   ]
  },
  {
   "cell_type": "code",
   "execution_count": null,
   "metadata": {},
   "outputs": [],
   "source": [
    "#Paths de los archivos de la catedra\n",
    "path_5 = 'sets/sets de la catedra/5.txt'\n",
    "path_7 = 'sets/sets de la catedra/7.txt'\n",
    "path_10_pocos = 'sets/sets de la catedra/10_pocos.txt'\n",
    "path_10_todos = 'sets/sets de la catedra/10_todos.txt'\n",
    "path_10_varios = 'sets/sets de la catedra/10_varios.txt'\n",
    "path_15 = 'sets/sets de la catedra/15.txt'\n",
    "path_20 = 'sets/sets de la catedra/20.txt'\n",
    "path_50 = 'sets/sets de la catedra/50.txt'\n",
    "path_75 = 'sets/sets de la catedra/75.txt'\n",
    "path_100 = 'sets/sets de la catedra/100.txt'\n",
    "path_200 = 'sets/sets de la catedra/200.txt'\n",
    "resultados_sets_catedra = 'sets/sets de la catedra/Resultados Esperados.txt'"
   ]
  },
  {
   "cell_type": "markdown",
   "metadata": {},
   "source": [
    "#### Creación sets de datos propios"
   ]
  },
  {
   "cell_type": "code",
   "execution_count": null,
   "metadata": {},
   "outputs": [],
   "source": [
    "random.seed(0)\n",
    "\n",
    "pedidos_de_prensa_max = obtener_pedidos_de_la_prensa(path_200)\n",
    "universe = list(set([pedido for pedidos in pedidos_de_prensa_max for pedido in pedidos]))\n",
    "\n",
    "def generar_instancia(universe_size, num_sets, max_set_size, min_set_size = 1):\n",
    "    sets = [{universe[random.randint(0, universe_size)] for _ in range(random.randint(min_set_size, max_set_size))} for _ in range(num_sets)]\n",
    "    return sets\n",
    "\n",
    "def generar_instancia_cant_por_jugador_fija(universe_size, num_sets, cant_jugadores):\n",
    "    i = 0\n",
    "    sets = []\n",
    "    for _ in range(num_sets):\n",
    "        current_set = set()\n",
    "        while i < cant_jugadores:\n",
    "            nuevo_jugador = universe[random.randint(0, universe_size)]\n",
    "            while nuevo_jugador in current_set:\n",
    "                nuevo_jugador = universe[random.randint(1, universe_size)]\n",
    "            current_set.add(nuevo_jugador)\n",
    "            i += 1\n",
    "        i = 0\n",
    "        sets.append(current_set)\n",
    "    return sets\n",
    "\n",
    "def crear_archivos(sets, nombre_archivo):\n",
    "    with open(nombre_archivo, 'w') as archivo:\n",
    "        for set in sets:\n",
    "            archivo.write(','.join(set) + '\\n')\n",
    "\n",
    "sets_5 = generar_instancia(30, 5, 6)\n",
    "sets_15 = generar_instancia(30, 15, 15)\n",
    "sets_20 = generar_instancia(30, 20, 6)\n",
    "sets_50 = generar_instancia(30, 50, 2)\n",
    "\n",
    "# Testear como aumenta el tiempo de ejecucion a medida que aumenta la cantidad periodista\n",
    "def crear_archivos_periodistas():\n",
    "    for i in range(0, 30001, 150):\n",
    "        sets = generar_instancia(30, i, 7)\n",
    "        crear_archivos(sets, 'sets/nuestros/performance_hasta_7_jugadores/' + str(i) + '_periodistas.txt')\n",
    "\n",
    "# Testear con gran variacion de jugadores por periodista\n",
    "def crear_archivos_periodistas_variacion_jugadores():\n",
    "    for i in range(0, 30001, 150):\n",
    "        sets = generar_instancia(30, i, 30)\n",
    "        crear_archivos(sets, 'sets/nuestros/performance_hasta_31_jugadores/' + str(i) + '_periodistas.txt')\n",
    "\n",
    "# Testear con gran variacion de jugadores por periodista\n",
    "def crear_archivos_periodistas_min_jugadores():\n",
    "    sets = generar_instancia(30, 2000, 30, 3)\n",
    "    crear_archivos(sets, 'sets/nuestros/performance_min_jugadores/' + str(2000) + '_periodistas_min_3.txt')\n",
    "    sets = generar_instancia(30, 2000, 30, 4)\n",
    "    crear_archivos(sets, 'sets/nuestros/performance_min_jugadores/' + str(2000) + '_periodistas_min_4.txt')\n",
    "    sets = generar_instancia(30, 2000, 30, 5)\n",
    "    crear_archivos(sets, 'sets/nuestros/performance_min_jugadores/' + str(2000) + '_periodistas_min_5.txt')\n",
    "       \n",
    "# Ya que tarda mucho en ejecutar, lo dejamos comentado (se puede descomentar para ejecutarlo, pero los archivos ya se generaron)\n",
    "# crear_archivos(sets_5, 'sets/nuestros/5.txt')\n",
    "# crear_archivos(sets_15, 'sets/nuestros/15.txt')\n",
    "# crear_archivos(sets_20, 'sets/nuestros/20.txt')\n",
    "# crear_archivos(sets_50, 'sets/nuestros/50.txt')\n",
    "# crear_archivos_periodistas()\n",
    "# crear_archivos(generar_instancia(30,30000,15,3) , 'sets/nuestros/30k.txt')\n",
    "# crear_archivos_periodistas_variacion_jugadores()\n",
    "# crear_archivos_periodistas_min_jugadores()"
   ]
  },
  {
   "cell_type": "code",
   "execution_count": null,
   "metadata": {},
   "outputs": [],
   "source": [
    "#Paths de los archivos nuestros\n",
    "path_5_nuestro = 'sets/nuestros/5.txt'\n",
    "path_15_nuestro = 'sets/nuestros/15.txt'\n",
    "path_15_un_jugador_nuestro = 'sets/nuestros/15_un_jugador.txt'\n",
    "path_20_nuestro = 'sets/nuestros/20.txt'\n",
    "path_50_nuestro = 'sets/nuestros/50.txt'\n",
    "path_30k_nuestro = 'sets/nuestros/30k.txt'\n",
    "path_300k_nuestro = 'sets/nuestros/300k.txt'"
   ]
  },
  {
   "cell_type": "markdown",
   "metadata": {},
   "source": [
    "### Obtención pedidos de la prensa"
   ]
  },
  {
   "cell_type": "code",
   "execution_count": null,
   "metadata": {},
   "outputs": [],
   "source": [
    "# Sets de la catedra\n",
    "pedidos_prensa_catedra = {\n",
    "    '5': obtener_pedidos_de_la_prensa(path_5),\n",
    "    '7': obtener_pedidos_de_la_prensa(path_7),\n",
    "    '10_pocos': obtener_pedidos_de_la_prensa(path_10_pocos),\n",
    "    '10_varios': obtener_pedidos_de_la_prensa(path_10_varios),\n",
    "    '10_todos': obtener_pedidos_de_la_prensa(path_10_todos),\n",
    "    '15': obtener_pedidos_de_la_prensa(path_15),\n",
    "    '20': obtener_pedidos_de_la_prensa(path_20),\n",
    "    '50': obtener_pedidos_de_la_prensa(path_50),\n",
    "    '75': obtener_pedidos_de_la_prensa(path_75),\n",
    "    '100': obtener_pedidos_de_la_prensa(path_100),\n",
    "    '200': obtener_pedidos_de_la_prensa(path_200)\n",
    "}\n",
    "\n",
    "# Resultados esperados\n",
    "resultados_esperados = obtener_resultados_esperados(resultados_sets_catedra)\n",
    "\n",
    "# Sets nuestros\n",
    "pedidos_prensa_nuestro = {\n",
    "    '5': obtener_pedidos_de_la_prensa(path_5_nuestro),\n",
    "    '15': obtener_pedidos_de_la_prensa(path_15_nuestro),\n",
    "    '15_un_jugador': obtener_pedidos_de_la_prensa(path_15_un_jugador_nuestro),\n",
    "    '20': obtener_pedidos_de_la_prensa(path_20_nuestro),\n",
    "    '50': obtener_pedidos_de_la_prensa(path_50_nuestro),\n",
    "    '30k': obtener_pedidos_de_la_prensa(path_30k_nuestro),\n",
    "    '300k': obtener_pedidos_de_la_prensa(path_300k_nuestro)\n",
    "}\n"
   ]
  },
  {
   "cell_type": "markdown",
   "metadata": {},
   "source": [
    "### Función verificadora"
   ]
  },
  {
   "cell_type": "code",
   "execution_count": null,
   "metadata": {},
   "outputs": [],
   "source": [
    "# Recibe una lista de listas (cada lista posee los jugadores que piden los diferentes medios y periodistas) y un \n",
    "# conjunto de jugadores que se seleccionaron como solucion.\n",
    "# Verifica si el conjunto C cubre a todos los B_i\n",
    "# Tomamos como base la verificación del Hitting-Set Problem y lo ajustamos para nuestro problema.\n",
    "def verificar_solucion_para_Scaloni(B, C):\n",
    "    for subconjunto in B:\n",
    "        if not any(elemento in C for elemento in subconjunto):\n",
    "            return False\n",
    "    return True "
   ]
  },
  {
   "cell_type": "markdown",
   "metadata": {},
   "source": [
    "### Solución por Backtracking"
   ]
  },
  {
   "cell_type": "code",
   "execution_count": null,
   "metadata": {},
   "outputs": [],
   "source": [
    "# Recibe un pedido de la prensa (B_i) y una posible solucion (C)\n",
    "# Verifica si el pedido del periodista esta satisfecho por la solucion.\n",
    "# Devuelve True si el pedido esta satisfecho, False en caso contrario.\n",
    "def satisfecho(pedido, solucion):\n",
    "    return any(jugador in pedido for jugador in solucion)\n",
    "\n",
    "# Obtiene el conjunto minimo de jugador que satisface a todos los periodistas.\n",
    "# Recibe:\n",
    "# - pedidos_de_prensa: una lista de listas (cada lista posee los jugadores que piden los diferentes medios y periodistas).\n",
    "# - solucion_actual: una lista con los jugadores que se seleccionaron como solucion parcial.\n",
    "# - i: indice que indica el pedido de prensa que se esta analizando.\n",
    "# - solucion: una lista con los jugadores que se seleccionaron como mejor solucion.\n",
    "def conjunto_minimo_para_Scaloni(pedidos_de_prensa, solucion_actual, i, solucion):\n",
    "    cantidad_de_jugadores = len(solucion_actual)\n",
    "    largo_solucion = len(solucion)\n",
    "\n",
    "    if(largo_solucion > 0 and cantidad_de_jugadores == largo_solucion):\n",
    "        return False\n",
    "\n",
    "    pedido_actual = pedidos_de_prensa[i]\n",
    "\n",
    "    if satisfecho(pedido_actual, solucion_actual):\n",
    "        return conjunto_minimo_para_Scaloni(pedidos_de_prensa, solucion_actual, i + 1, solucion)\n",
    "\n",
    "\n",
    "    for jugador in pedido_actual:\n",
    "        if largo_solucion > 0 and cantidad_de_jugadores + 1 >= largo_solucion: \n",
    "            return True\n",
    "\n",
    "        solucion_actual.append(jugador)\n",
    "        cantidad_de_jugadores += 1\n",
    "\n",
    "        if verificar_solucion_para_Scaloni(pedidos_de_prensa[i:], solucion_actual):\n",
    "            solucion[:] = solucion_actual\n",
    "            largo_solucion = cantidad_de_jugadores\n",
    "        else:\n",
    "            valido = conjunto_minimo_para_Scaloni(pedidos_de_prensa, solucion_actual, i + 1, solucion)\n",
    "\n",
    "            if not valido:\n",
    "                solucion_actual.pop()\n",
    "                break \n",
    "        solucion_actual.pop()\n",
    "        cantidad_de_jugadores -= 1\n",
    "\n",
    "    return True"
   ]
  },
  {
   "cell_type": "code",
   "execution_count": null,
   "metadata": {},
   "outputs": [],
   "source": [
    "# Obtiene el conjunto minimo de jugador que satisface a todos los pedidios_de_prensa.\n",
    "# Recibe:\n",
    "# - pedidos_de_prensa: una lista de listas (cada lista posee los jugadores que piden los diferentes medios y periodistas).\n",
    "# Devuele:\n",
    "# - solucion: una lista con los jugadores que se seleccionaron como mejor solucion.\n",
    "# - tiempo_ejecucion: tiempo de ejecucion en segundos que tardo en encontrar la solucion.\n",
    "def solucion_para_Scaloni_BT(pedidos_de_prensa):\n",
    "    solucion = []\n",
    "    pedidos_ordenados = sorted(pedidos_de_prensa, key= len)\n",
    "    tiempo_inicial = time.time()\n",
    "    conjunto_minimo_para_Scaloni(pedidos_ordenados, [], 0, solucion)\n",
    "    tiempo_final = time.time()\n",
    "    tiempo_ejecucion = tiempo_final - tiempo_inicial\n",
    "    return solucion, tiempo_ejecucion"
   ]
  },
  {
   "cell_type": "markdown",
   "metadata": {},
   "source": [
    "#### Chequeo solución \n",
    "\n",
    "##### 1 - Usando sets de la cátedra"
   ]
  },
  {
   "cell_type": "code",
   "execution_count": null,
   "metadata": {},
   "outputs": [],
   "source": [
    "# Lista de resultados y tiempos\n",
    "resultados_obtenidos = []\n",
    "\n",
    "# Iterar sobre los pedidos de prensa de la catedra\n",
    "for key, value in pedidos_prensa_catedra.items():\n",
    "  solucion, tiempo_ejecucion = solucion_para_Scaloni_BT(value)\n",
    "  resultados_obtenidos.append((key, solucion, tiempo_ejecucion))\n"
   ]
  },
  {
   "cell_type": "code",
   "execution_count": null,
   "metadata": {},
   "outputs": [],
   "source": [
    "# Imprime los resultados obtenidos y los esperados en una tabla\n",
    "resultados = []\n",
    "i = 0\n",
    "for resultado_esperado in resultados_esperados:\n",
    "  key, solucion, tiempo_ejecucion = resultados_obtenidos[i]\n",
    "  es_correcto = \"Sí\" if resultado_esperado.cantidad_minima == len(solucion) and \\\n",
    "    verificar_solucion_para_Scaloni(pedidos_prensa_catedra[key], solucion) else \"No\"\n",
    "  resultados.append([resultado_esperado.nombre_archivo, resultado_esperado.cantidad_minima, len(solucion), es_correcto, tiempo_ejecucion]) \n",
    "  i += 1\n",
    "print(tabulate(resultados, headers=['Archivo', 'Cantidad mínima esperada', 'Cantidad mínima obtenida', 'Se obtuvo el resultado esperado?', 'Tiempo de ejecución (s)']))"
   ]
  },
  {
   "cell_type": "markdown",
   "metadata": {},
   "source": [
    "##### 2 - Usando sets propios"
   ]
  },
  {
   "cell_type": "code",
   "execution_count": null,
   "metadata": {},
   "outputs": [],
   "source": [
    "# Lista de resultados y tiempos\n",
    "resultados_obtenidos_nuestros = []\n",
    "# Iterar sobre los pedidos de prensa de la catedra\n",
    "for key, value in pedidos_prensa_nuestro.items():\n",
    "  solucion, tiempo_ejecucion = solucion_para_Scaloni_BT(value)\n",
    "  resultados_obtenidos_nuestros.append((key, solucion, tiempo_ejecucion))"
   ]
  },
  {
   "cell_type": "code",
   "execution_count": null,
   "metadata": {},
   "outputs": [],
   "source": [
    "# Imprime los resultados obtenidos y los esperados en una tabla\n",
    "resultados_nuestros = []\n",
    "i = 0\n",
    "for resultado_obtenido in resultados_obtenidos_nuestros:\n",
    "  archivo, solucion, tiempo_ejecucion = resultado_obtenido\n",
    "  es_correcto = \"Sí\" if verificar_solucion_para_Scaloni(pedidos_prensa_nuestro[archivo], solucion) else \"No\"\n",
    "  resultados_nuestros.append([archivo + '.txt', len(solucion), es_correcto , tiempo_ejecucion]) \n",
    "  i += 1\n",
    "print(tabulate(resultados_nuestros, headers=['Archivo', 'Cantidad minima obtenida', 'Es válida la solución?', 'Tiempo de ejecución (s)']))"
   ]
  },
  {
   "cell_type": "markdown",
   "metadata": {},
   "source": [
    "### Solución por Programación Lineal"
   ]
  },
  {
   "cell_type": "code",
   "execution_count": null,
   "metadata": {},
   "outputs": [],
   "source": [
    "# Obtiene el conjunto minimo de jugador que satisface a todos los periodistas utilizando programacion lineal entera.\n",
    "# Recibe:\n",
    "# - pedidos_de_prensa: una lista de listas (cada lista posee los jugadores que piden los diferentes medios y periodistas).\n",
    "# Devuele:\n",
    "# - solucion: una lista con los jugadores que se seleccionaron como mejor solucion.\n",
    "# - tiempo_ejecucion: tiempo de ejecucion en segundos que tardo en encontrar la solucion.\n",
    "def solucion_para_Scaloni_LP(pedidos_de_prensa):\n",
    "    tiempo_inicial = time.time()\n",
    "    prob = pulp.LpProblem(\"Scaloni\", pulp.LpMinimize)\n",
    "    jugadores = obtener_todos_jugadores(pedidos_de_prensa)\n",
    "    x = pulp.LpVariable.dicts(\"x\", jugadores, lowBound=0, upBound=1, cat=\"Integer\")\n",
    "    prob += pulp.lpSum([x[i] for i in jugadores])\n",
    "    for pedido in pedidos_de_prensa:\n",
    "        prob += pulp.lpSum([x[jugador] for jugador in pedido]) >= 1\n",
    "    prob.solve()\n",
    "    solucion = [x[i] for i in jugadores if x[i].value() == 1]\n",
    "    tiempo_final = time.time()\n",
    "    tiempo_ejecucion = tiempo_final - tiempo_inicial\n",
    "    return solucion, tiempo_ejecucion"
   ]
  },
  {
   "cell_type": "code",
   "execution_count": null,
   "metadata": {},
   "outputs": [],
   "source": [
    "# Elimina el valor x_ de los nombres de los jugadores y reemplaza los _ por espacios. Devuelve el resultado modificado.\n",
    "# Recibe:\n",
    "# - resultado: solución obtenida por el metodo de programacion lineal entera, donde cada jugador es un objeto de la clase LpVariable.\n",
    "def arreglar_resultado(resultado):\n",
    "  if isinstance(resultado[0], str):\n",
    "    return resultado\n",
    "  return [jugador.name.replace('x_', '').replace('_', ' ') for jugador in resultado]"
   ]
  },
  {
   "cell_type": "markdown",
   "metadata": {},
   "source": [
    "##### 1 - Sets de la cátedra"
   ]
  },
  {
   "cell_type": "code",
   "execution_count": null,
   "metadata": {},
   "outputs": [],
   "source": [
    "# Lista de resultados y tiempos\n",
    "resultados_obtenidos_lp = []\n",
    "# Iterar sobre los pedidos de prensa de la catedra\n",
    "for archivo, value in pedidos_prensa_catedra.items():\n",
    "  solucion, tiempo_ejecucion = solucion_para_Scaloni_LP(value)\n",
    "  solucion = arreglar_resultado(solucion)\n",
    "  resultados_obtenidos_lp.append((archivo, solucion, tiempo_ejecucion))"
   ]
  },
  {
   "cell_type": "code",
   "execution_count": null,
   "metadata": {},
   "outputs": [],
   "source": [
    "resultados_lp = []\n",
    "i = 0\n",
    "for resultado_esperado in resultados_esperados:\n",
    "  archivo, solucion, tiempo_ejecucion = resultados_obtenidos_lp[i]\n",
    "  es_correcto = \"Sí\" if resultado_esperado.cantidad_minima == len(solucion) and \\\n",
    "    verificar_solucion_para_Scaloni(pedidos_prensa_catedra[archivo],solucion) else \"No\"\n",
    "  resultados_lp.append([resultado_esperado.nombre_archivo, resultado_esperado.cantidad_minima, len(solucion), es_correcto, tiempo_ejecucion]) \n",
    "  i += 1\n",
    "\n",
    "print(tabulate(resultados_lp, headers=['Archivo', 'Cantidad mínima esperada', 'Cantidad mínima obtenida', 'Se obtuvo el resultado esperado?', 'Tiempo de ejecución (s)']))\n"
   ]
  },
  {
   "cell_type": "markdown",
   "metadata": {},
   "source": [
    "##### 2 - Sets propios"
   ]
  },
  {
   "cell_type": "code",
   "execution_count": null,
   "metadata": {},
   "outputs": [],
   "source": [
    "# Lista de resultados y tiempos\n",
    "resultados_obtenidos_lp_nuestros = []\n",
    "# Iterar sobre los pedidos de prensa de la catedra\n",
    "for archivo, value in pedidos_prensa_nuestro.items():\n",
    "  solucion, tiempo_ejecucion = solucion_para_Scaloni_LP(value)\n",
    "  solucion = arreglar_resultado(solucion)\n",
    "  resultados_obtenidos_lp_nuestros.append((archivo, solucion, tiempo_ejecucion))"
   ]
  },
  {
   "cell_type": "code",
   "execution_count": null,
   "metadata": {},
   "outputs": [],
   "source": [
    "# Imprime los resultados obtenidos y los esperados en una tabla\n",
    "resultados_lp_nuestros = []\n",
    "i = 0\n",
    "for resultado_obtenido in resultados_obtenidos_lp_nuestros:\n",
    "  archivo, solucion, tiempo_ejecucion = resultado_obtenido\n",
    "  es_correcto = \"Sí\" if verificar_solucion_para_Scaloni(pedidos_prensa_nuestro[archivo],solucion) else \"No\"\n",
    "  resultados_lp_nuestros.append([archivo + '.txt', len(solucion), es_correcto, tiempo_ejecucion]) \n",
    "  i += 1\n",
    "\n",
    "print(tabulate(resultados_lp_nuestros, headers=['Archivo', 'Cantidad mínima obtenida', 'Es válida?', 'Tiempo de ejecución (s)']))"
   ]
  },
  {
   "cell_type": "markdown",
   "metadata": {},
   "source": [
    "### Comparación de tiempos de ejecución según cantidad minima de jugadores"
   ]
  },
  {
   "cell_type": "code",
   "execution_count": null,
   "metadata": {},
   "outputs": [],
   "source": [
    "pedidos_prensa_perfo_min_jugadores_400 = []\n",
    "pedidos_prensa_perfo_min_jugadores_2000 = []\n",
    "for i in range(3,6):\n",
    "  pedidos_prensa_perfo_min_jugadores_400.append(obtener_pedidos_de_la_prensa('sets/nuestros/performance_min_jugadores/' + str(400) + '_periodistas_min_' + str(i) + '.txt'))\n",
    "  pedidos_prensa_perfo_min_jugadores_2000.append(obtener_pedidos_de_la_prensa('sets/nuestros/performance_min_jugadores/' + str(2000) + '_periodistas_min_' + str(i) + '.txt'))"
   ]
  },
  {
   "cell_type": "markdown",
   "metadata": {},
   "source": [
    "##### Algoritmo de Backtracking"
   ]
  },
  {
   "cell_type": "code",
   "execution_count": null,
   "metadata": {},
   "outputs": [],
   "source": [
    "def obtener_tiempos_ejecucion(pedidos_prensa):\n",
    "    tiempos_ejecucion = []\n",
    "    i = 0\n",
    "    for pedidos in pedidos_prensa:\n",
    "        _, tiempo_ejecucion = solucion_para_Scaloni_BT(pedidos)\n",
    "        tiempos_ejecucion.append(tiempo_ejecucion)\n",
    "        i += 1\n",
    "    return tiempos_ejecucion"
   ]
  },
  {
   "cell_type": "code",
   "execution_count": null,
   "metadata": {},
   "outputs": [],
   "source": [
    "tiempo_ejecucion_perfo_min_jugadores_400 = obtener_tiempos_ejecucion(pedidos_prensa_perfo_min_jugadores_400)\n",
    "tiempo_ejecucion_perfo_min_jugadores_2000 = obtener_tiempos_ejecucion(pedidos_prensa_perfo_min_jugadores_2000)"
   ]
  },
  {
   "cell_type": "markdown",
   "metadata": {},
   "source": [
    "##### Algoritmo de Programacion lineal"
   ]
  },
  {
   "cell_type": "code",
   "execution_count": null,
   "metadata": {},
   "outputs": [],
   "source": [
    "def obtener_tiempos_ejecucion_LP(pedidos_prensa):\n",
    "    tiempos_ejecucion = []\n",
    "    i = 0\n",
    "    for pedidos in pedidos_prensa:\n",
    "        _, tiempo_ejecucion = solucion_para_Scaloni_LP(pedidos) \n",
    "        tiempos_ejecucion.append(tiempo_ejecucion)\n",
    "        i += 1\n",
    "    return tiempos_ejecucion"
   ]
  },
  {
   "cell_type": "code",
   "execution_count": null,
   "metadata": {},
   "outputs": [],
   "source": [
    "tiempo_ejecucion_perfo_min_jugadores_400_lp = obtener_tiempos_ejecucion_LP(pedidos_prensa_perfo_min_jugadores_400)\n",
    "tiempo_ejecucion_perfo_min_jugadores_2000_lp = obtener_tiempos_ejecucion_LP(pedidos_prensa_perfo_min_jugadores_2000)"
   ]
  },
  {
   "cell_type": "markdown",
   "metadata": {},
   "source": [
    "##### Comparacion"
   ]
  },
  {
   "cell_type": "code",
   "execution_count": null,
   "metadata": {},
   "outputs": [],
   "source": [
    "archivos_performance = [\"400\", \"400\", \"400\", \"2000\", \"2000\", \"2000\"]\n",
    "cant_min_jugadores = [\"3\", \"4\", \"5\", \"3\", \"4\", \"5\"]\n",
    "tiempos_ejecucion_performance_min = tiempo_ejecucion_perfo_min_jugadores_400 + tiempo_ejecucion_perfo_min_jugadores_2000\n",
    "tiempos_ejecucion_performance_min_lp = tiempo_ejecucion_perfo_min_jugadores_400_lp + tiempo_ejecucion_perfo_min_jugadores_2000_lp\n",
    "\n",
    "# Imprime los resultados obtenidos y los esperados en una tabla\n",
    "resultados_comparacion = []\n",
    "i = 0\n",
    "for i in range(0,6):\n",
    "  archivo = archivos_performance[i]\n",
    "  tiempo_ejecucion = tiempos_ejecucion_performance_min[i]\n",
    "  tiempo_ejecucion_lp = tiempos_ejecucion_performance_min_lp[i]\n",
    "  resultados_comparacion.append([archivo, cant_min_jugadores[i], tiempo_ejecucion, tiempo_ejecucion_lp])\n",
    "\n",
    "  i += 1\n",
    "print(tabulate(resultados_comparacion, headers=['Archivo', 'Cantidad mínima de jugadores', 'Tiempo Ejecucion Backtracking (s)', 'Tiempo Ejecucion PL (s)']))"
   ]
  },
  {
   "cell_type": "markdown",
   "metadata": {},
   "source": [
    "### Aproximación usando Programación Lineal y Redondeo"
   ]
  },
  {
   "cell_type": "code",
   "execution_count": null,
   "metadata": {},
   "outputs": [],
   "source": [
    "def solucion_para_Scaloni_LP_aprox(pedidos_de_prensa):\n",
    "    b = len(max(pedidos_de_prensa))\n",
    "    preseleccion = obtener_todos_jugadores(pedidos_de_prensa)\n",
    "    tiempo_inicial = time.time()\n",
    "    prob = pulp.LpProblem(\"Scaloni\", pulp.LpMinimize)\n",
    "    x = pulp.LpVariable.dicts(\"x\", preseleccion, lowBound=0, upBound=1, cat=\"Continuous\")\n",
    "    prob += pulp.lpSum([x[i] for i in preseleccion])\n",
    "    \n",
    "    for pedido in pedidos_de_prensa:\n",
    "        prob += pulp.lpSum([x[jugador] for jugador in pedido]) >= 1\n",
    "    prob.solve()\n",
    "    \n",
    "    # Redondeamos el resultado final\n",
    "    solucion = [i for i in preseleccion if pulp.value(x[i]) >= 1/b]\n",
    "    \n",
    "    tiempo_final = time.time()\n",
    "    tiempo_ejecucion = tiempo_final - tiempo_inicial\n",
    "    return solucion, tiempo_ejecucion"
   ]
  },
  {
   "cell_type": "code",
   "execution_count": null,
   "metadata": {},
   "outputs": [],
   "source": [
    "# Lista de resultados y tiempos\n",
    "resultados_obtenidos_lp_aprox = []\n",
    "# Iterar sobre los pedidos de prensa de la catedra\n",
    "for archivo, value in pedidos_prensa_catedra.items():\n",
    "  solucion, tiempo_ejecucion = solucion_para_Scaloni_LP_aprox(value)\n",
    "  solucion = arreglar_resultado(solucion)\n",
    "  resultados_obtenidos_lp_aprox.append((archivo, solucion, tiempo_ejecucion))"
   ]
  },
  {
   "cell_type": "code",
   "execution_count": null,
   "metadata": {},
   "outputs": [],
   "source": [
    "# Imprime los resultados obtenidos y los esperados en una tabla\n",
    "resultados_lp = []\n",
    "i = 0\n",
    "for resultado_esperado in resultados_esperados:\n",
    "  archivo, solucion, tiempo_ejecucion = resultados_obtenidos_lp_aprox[i]\n",
    "  es_correcto = \"Sí\" if resultado_esperado.cantidad_minima == len(solucion) and \\\n",
    "    verificar_solucion_para_Scaloni(pedidos_prensa_catedra[archivo],solucion) else \"No\"\n",
    "  resultados_lp.append([resultado_esperado.nombre_archivo, resultado_esperado.cantidad_minima, len(solucion), es_correcto, tiempo_ejecucion]) \n",
    "  i += 1\n",
    "\n",
    "print(tabulate(resultados_lp, headers=['Archivo', 'Cantidad mínima esperada', 'Cantidad mínima obtenida', 'Se obtuvo el resultado esperado?', 'Tiempo de ejecución (s)']))\n"
   ]
  },
  {
   "cell_type": "markdown",
   "metadata": {},
   "source": [
    "Mostramos el resultado de los sets de datos de mayor volumen"
   ]
  },
  {
   "cell_type": "code",
   "execution_count": null,
   "metadata": {},
   "outputs": [],
   "source": [
    "# Probamos con volumenes de datos mayores:\n",
    "solucion_300k_lp, tiempo_ejecucion_300k_lp = solucion_para_Scaloni_LP_aprox(pedidos_prensa_nuestro['300k'])\n",
    "solucion_30k_lp, tiempo_ejecucion_30k_lp = solucion_para_Scaloni_LP_aprox(pedidos_prensa_nuestro['30k'])\n",
    "\n",
    "print(\"Mínimo de jugadores para 300k datos: \", len(solucion_300k_lp))\n",
    "print(\"Mínimo de jugadores para 30k datos: \", len(solucion_30k_lp))"
   ]
  },
  {
   "cell_type": "markdown",
   "metadata": {},
   "source": [
    "Vamos a verificar si la relación hallada r(A) = b se verifica"
   ]
  },
  {
   "cell_type": "code",
   "execution_count": null,
   "metadata": {},
   "outputs": [],
   "source": [
    "def relacion_aproximacion(pedidos_de_prensa, solucion, optimo):\n",
    "    b = len(max(pedidos_de_prensa))\n",
    "    r = len(solucion) / optimo\n",
    "    return r, b"
   ]
  },
  {
   "cell_type": "code",
   "execution_count": null,
   "metadata": {},
   "outputs": [],
   "source": [
    "from tabulate import tabulate\n",
    "\n",
    "table_data = []\n",
    "i = 0\n",
    "for resultado_esperado in resultados_esperados:\n",
    "    archivo, solucion, tiempo_ejecucion = resultados_obtenidos_lp_aprox[i]\n",
    "    r, b = relacion_aproximacion(pedidos_prensa_catedra[archivo], solucion, resultado_esperado.cantidad_minima)\n",
    "    row = [\n",
    "        resultado_esperado.nombre_archivo,\n",
    "        resultado_esperado.cantidad_minima,\n",
    "        len(solucion),\n",
    "        b,\n",
    "        r\n",
    "    ]\n",
    "    if r <= b:\n",
    "        row.append(\"Sí\")\n",
    "    else:\n",
    "        row.append(\"No\")\n",
    "    table_data.append(row)\n",
    "    i += 1\n",
    "\n",
    "headers = [\"Archivo\", \"Óptimo\", \"Aproximación\", \"b\", \"r(A)\", \"Cumple relación de aproximación\"]\n",
    "\n",
    "print(tabulate(table_data, headers=headers))\n"
   ]
  },
  {
   "cell_type": "markdown",
   "metadata": {},
   "source": [
    "### Algoritmo Greedy"
   ]
  },
  {
   "cell_type": "code",
   "execution_count": null,
   "metadata": {},
   "outputs": [],
   "source": [
    "from collections import Counter\n",
    "\n",
    "def ordenar_jugadores_por_apariciones(pedidos_de_la_prensa):\n",
    "    jugadores = [jugador for lista in pedidos_de_la_prensa for jugador in lista]\n",
    "    contador_jugadores = Counter(jugadores)\n",
    "    jugadores_ordenados = sorted(contador_jugadores, key=lambda jugador: contador_jugadores[jugador], reverse=True)\n",
    "    return jugadores_ordenados\n",
    "\n",
    "def solucion_greedy(pedidos_de_la_prensa, constante):\n",
    "    tiempo = time.time()\n",
    "    solucionado = False\n",
    "    solucion = []\n",
    "    jugadores_ordenados = ordenar_jugadores_por_apariciones(pedidos_de_la_prensa)\n",
    "    while not solucionado:\n",
    "        jugador_actual = jugadores_ordenados[0]\n",
    "        solucion.append(jugador_actual)\n",
    "\n",
    "        if verificar_solucion_para_Scaloni(constante, solucion):\n",
    "            solucionado = True\n",
    "        else:\n",
    "            pedidos_de_la_prensa = [lista for lista in pedidos_de_la_prensa if jugador_actual not in lista]\n",
    "            jugadores_ordenados = ordenar_jugadores_por_apariciones(pedidos_de_la_prensa)\n",
    "\n",
    "    tiempo = time.time() - tiempo\n",
    "    return solucion, tiempo"
   ]
  },
  {
   "cell_type": "markdown",
   "metadata": {},
   "source": [
    "#### Sets de la cátedra"
   ]
  },
  {
   "cell_type": "code",
   "execution_count": null,
   "metadata": {},
   "outputs": [],
   "source": [
    "# Lista de resultados y tiempos\n",
    "resultados_obtenidos_greedy = []\n",
    "# Iterar sobre los pedidos de prensa de la catedra\n",
    "for archivo, value in pedidos_prensa_catedra.items():\n",
    "  solucion, tiempo_ejecucion = solucion_greedy(value, value)\n",
    "  resultados_obtenidos_greedy.append((archivo, solucion, tiempo_ejecucion))\n",
    "\n",
    "# Imprime los resultados obtenidos y los esperados en una tabla\n",
    "resultados = []\n",
    "i = 0\n",
    "for resultado_esperado in resultados_esperados:\n",
    "  key, solucion, tiempo_ejecucion = resultados_obtenidos_greedy[i]\n",
    "  es_valida = \"Sí\" if verificar_solucion_para_Scaloni(pedidos_prensa_catedra[key], solucion) else \"No\"\n",
    "  es_correcto = \"Sí\" if resultado_esperado.cantidad_minima == len(solucion) and es_valida else \"No\"\n",
    "  resultados.append([resultado_esperado.nombre_archivo, resultado_esperado.cantidad_minima, len(solucion), es_correcto,es_valida, tiempo_ejecucion]) \n",
    "  i += 1\n",
    "print(tabulate(resultados, headers=['Archivo', 'Cantidad mínima esperada', 'Cantidad mínima obtenida', 'Se obtuvo el resultado esperado?', 'Es Válida', 'Tiempo de ejecución (s)']))\n",
    "  "
   ]
  },
  {
   "cell_type": "markdown",
   "metadata": {},
   "source": [
    "#### Sets nuestros"
   ]
  },
  {
   "cell_type": "code",
   "execution_count": null,
   "metadata": {},
   "outputs": [],
   "source": [
    "# Lista de resultados y tiempos\n",
    "resultados_obtenidos_greedy_nuestros = []\n",
    "# Iterar sobre los pedidos de prensa de la catedra\n",
    "for archivo, value in pedidos_prensa_nuestro.items():\n",
    "  solucion, tiempo_ejecucion = solucion_greedy(value, value)\n",
    "  resultados_obtenidos_greedy_nuestros.append((archivo, solucion, tiempo_ejecucion))\n",
    "\n",
    "\n",
    "# Imprime los resultados obtenidos y los esperados en una tabla\n",
    "resultados_nuestros_greedy = []\n",
    "i = 0\n",
    "for resultado_obtenido in resultados_obtenidos_greedy_nuestros:\n",
    "  archivo, solucion, tiempo_ejecucion = resultado_obtenido\n",
    "  es_correcto = \"Sí\" if verificar_solucion_para_Scaloni(pedidos_prensa_nuestro[archivo], solucion) else \"No\"\n",
    "  resultados_nuestros_greedy.append([archivo + '.txt', len(solucion), es_correcto , tiempo_ejecucion]) \n",
    "  i += 1\n",
    "print(tabulate(resultados_nuestros_greedy, headers=['Archivo', 'Cantidad minima obtenida', 'Es válida la solución?', 'Tiempo de ejecución (s)']))"
   ]
  },
  {
   "cell_type": "markdown",
   "metadata": {},
   "source": [
    "## Sección para pruebas del Usuario"
   ]
  },
  {
   "cell_type": "markdown",
   "metadata": {},
   "source": [
    "### Backtracking"
   ]
  },
  {
   "cell_type": "code",
   "execution_count": null,
   "metadata": {},
   "outputs": [],
   "source": [
    "path = \"sets/nuestros/performance_min_jugadores/2000_periodistas_min_4.txt\"\n",
    "pedidos_de_prensa = obtener_pedidos_de_la_prensa(path)\n",
    "solucion, tiempo_ejecucion = solucion_para_Scaloni_BT(pedidos_de_prensa)\n",
    "print(\"Solucion:\", solucion, \"\\nTiempo de ejecucion:\", tiempo_ejecucion)\n"
   ]
  },
  {
   "cell_type": "markdown",
   "metadata": {},
   "source": [
    "### Programacion lineal entera"
   ]
  },
  {
   "cell_type": "code",
   "execution_count": null,
   "metadata": {},
   "outputs": [],
   "source": [
    "path = \"sets/sets de la catedra/50.txt\"\n",
    "pedidos_de_prensa = obtener_pedidos_de_la_prensa(path)\n",
    "solucion, tiempo_ejecucion = solucion_para_Scaloni_LP(pedidos_de_prensa)\n",
    "solucion = arreglar_resultado(solucion)\n",
    "print(\"Solucion:\", solucion, \"\\nTiempo de ejecucion:\", tiempo_ejecucion)"
   ]
  },
  {
   "cell_type": "markdown",
   "metadata": {},
   "source": [
    "### Programacion lineal"
   ]
  },
  {
   "cell_type": "code",
   "execution_count": null,
   "metadata": {},
   "outputs": [],
   "source": [
    "path = \"sets/sets de la catedra/75.txt\"\n",
    "pedidos_de_prensa = obtener_pedidos_de_la_prensa(path)\n",
    "solucion, tiempo_ejecucion = solucion_para_Scaloni_LP_aprox(pedidos_de_prensa)\n",
    "solucion = arreglar_resultado(solucion)\n",
    "print(\"Solucion:\", solucion, \"\\nTiempo de ejecucion:\", tiempo_ejecucion)"
   ]
  },
  {
   "cell_type": "markdown",
   "metadata": {},
   "source": [
    "### Greedy"
   ]
  },
  {
   "cell_type": "code",
   "execution_count": null,
   "metadata": {},
   "outputs": [],
   "source": [
    "path = \"sets/sets de la catedra/10_todos.txt\"\n",
    "pedidos_de_prensa = obtener_pedidos_de_la_prensa(path)\n",
    "solucion = solucion_greedy(pedidos_de_prensa, pedidos_de_prensa)\n",
    "print(solucion)\n"
   ]
  }
 ],
 "metadata": {
  "kernelspec": {
   "display_name": "Python 3",
   "language": "python",
   "name": "python3"
  },
  "language_info": {
   "codemirror_mode": {
    "name": "ipython",
    "version": 3
   },
   "file_extension": ".py",
   "mimetype": "text/x-python",
   "name": "python",
   "nbconvert_exporter": "python",
   "pygments_lexer": "ipython3",
   "version": "3.11.4"
  }
 },
 "nbformat": 4,
 "nbformat_minor": 2
}
