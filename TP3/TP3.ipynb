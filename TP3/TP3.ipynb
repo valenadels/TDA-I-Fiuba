{
 "cells": [
  {
   "cell_type": "markdown",
   "metadata": {},
   "source": [
    "# TP3: Problemas NP-Completos"
   ]
  },
  {
   "cell_type": "markdown",
   "metadata": {},
   "source": [
    "### ¿Hitting-Set Problem está en NP?"
   ]
  },
  {
   "cell_type": "code",
   "execution_count": null,
   "metadata": {},
   "outputs": [],
   "source": [
    "#Verificamos la solucion polinomialmente\n",
    "def verificar_solucion(B, C):\n",
    "    satisface_Bi = [False] * len(B)\n",
    "\n",
    "    for c in C:                      # O(#C) \n",
    "        for i in range(len(B)):\n",
    "            if c in B[i]:            # O(#B[i])\n",
    "                satisface_Bi[i] = True\n",
    "\n",
    "    return all(satisface_Bi)      # O(#B)         "
   ]
  },
  {
   "cell_type": "markdown",
   "metadata": {},
   "source": [
    "#### Funciones auxiliares\n"
   ]
  },
  {
   "cell_type": "code",
   "execution_count": null,
   "metadata": {},
   "outputs": [],
   "source": [
    "# Recibe el path con el archivo a leer.\n",
    "# Leemos y devolvemos dos arrays. \n",
    "# - El primero corresponde a un array de listas, donde cada lista posee los jugadores que piden los diferentes medios y periodistas.\n",
    "# - El segundo array posee todos los jugadores que aparecen en el array anterior, siendo los jugadores que Scaloni puede elegir, su preselección.\n",
    "# Este algoritmo, devuelve una preselección sin orden.\n",
    "def obtener_preseleccion_y_pedidos_de_la_prensa(path):\n",
    "    with open(path, 'r') as archivo:\n",
    "        lineas = archivo.readlines()\n",
    "\n",
    "    pedidos_de_la_prensa = []\n",
    "    preseleccion = set()\n",
    "\n",
    "    for linea in lineas:\n",
    "        preseleccion_linea = linea.strip().split(',')\n",
    "        pedidos_de_la_prensa.append(preseleccion_linea)\n",
    "        preseleccion.update(set(preseleccion_linea))\n",
    "\n",
    "    return pedidos_de_la_prensa, list(preseleccion)\n"
   ]
  },
  {
   "cell_type": "code",
   "execution_count": null,
   "metadata": {},
   "outputs": [],
   "source": [
    "#Paths de los archivos a utilizar\n",
    "path_5 = 'sets de la catedra/5.txt'\n",
    "path_7 = 'sets de la catedra/7.txt'\n",
    "path_10_pocos = 'sets de la catedra/10_pocos.txt'\n",
    "path_10_todos = 'sets de la catedra/10_todos.txt'\n",
    "path_10_varios = 'sets de la catedra/10_varios.txt'\n",
    "path_15 = 'sets de la catedra/15.txt'\n",
    "path_20 = 'sets de la catedra/20.txt'\n",
    "path_75 = 'sets de la catedra/75.txt'\n",
    "path_100 = 'sets de la catedra/100.txt'\n",
    "path_200 = 'sets de la catedra/200.txt'\n",
    "\n",
    "\n",
    "\n",
    "\n"
   ]
  },
  {
   "cell_type": "code",
   "execution_count": null,
   "metadata": {},
   "outputs": [],
   "source": [
    "# Me guardo los resultados esperados, dados por la cátedra\n",
    "class Resultado:\n",
    "    def __init__(self, cantidad_minima, jugadores):\n",
    "        self.cantidad_minima = cantidad_minima\n",
    "        self.jugadores = jugadores\n",
    "\n",
    "def obtener_resultados_esperados(nombre_archivo):\n",
    "    with open(nombre_archivo, 'r') as file:\n",
    "        lineas = file.readlines()\n",
    "        resultados = []\n",
    "\n",
    "        for linea in lineas:\n",
    "            if \"Cantidad\" in linea:\n",
    "                cantidad_minima = int(linea.split(\":\")[1].split(\"(\")[0].strip())\n",
    "                jugadores_linea = linea.split(\"(\")[1].split(\")\")[0]\n",
    "                jugadores = [jugador.strip() for jugador in jugadores_linea.split(\",\")]\n",
    "                resultados.append(Resultado(cantidad_minima, jugadores))\n",
    "\n",
    "        return resultados\n"
   ]
  },
  {
   "cell_type": "markdown",
   "metadata": {},
   "source": [
    "### Función verificadora"
   ]
  },
  {
   "cell_type": "code",
   "execution_count": 14,
   "metadata": {},
   "outputs": [],
   "source": [
    "#Tomamos como base la verificación del Hitting-Set Problem. Y lo ajustamos para nuestro problema.\n",
    "def verificar_solucion_para_Scaloni(B, C):\n",
    "    if len(C) == 0:\n",
    "        return False\n",
    "    \n",
    "    satisface_Bi = [False] * len(B)\n",
    "\n",
    "    for c in C:                      # O(#C) \n",
    "        for i in range(len(B)):\n",
    "            if c in B[i]:            # O(#B[i])\n",
    "                satisface_Bi[i] = True\n",
    "\n",
    "    return all(satisface_Bi)      # O(#B) "
   ]
  },
  {
   "cell_type": "markdown",
   "metadata": {},
   "source": [
    "### Solución por Backtracking\n"
   ]
  },
  {
   "cell_type": "code",
   "execution_count": 25,
   "metadata": {},
   "outputs": [
    {
     "name": "stdout",
     "output_type": "stream",
     "text": [
      "['Cuti Romero', 'Messi', 'Colo Barco', \"Barcon't\"]\n"
     ]
    },
    {
     "ename": "KeyboardInterrupt",
     "evalue": "",
     "output_type": "error",
     "traceback": [
      "\u001b[1;31m---------------------------------------------------------------------------\u001b[0m",
      "\u001b[1;31mKeyboardInterrupt\u001b[0m                         Traceback (most recent call last)",
      "\u001b[1;32mc:\\Users\\tobia\\TDA-I-Fiuba\\TP3\\TP3.ipynb Cell 11\u001b[0m line \u001b[0;36m3\n\u001b[0;32m     <a href='vscode-notebook-cell:/c%3A/Users/tobia/TDA-I-Fiuba/TP3/TP3.ipynb#X13sZmlsZQ%3D%3D?line=28'>29</a>\u001b[0m archivo_path \u001b[39m=\u001b[39m path_5\n\u001b[0;32m     <a href='vscode-notebook-cell:/c%3A/Users/tobia/TDA-I-Fiuba/TP3/TP3.ipynb#X13sZmlsZQ%3D%3D?line=29'>30</a>\u001b[0m pedidos_de_la_prensa, preseleccion \u001b[39m=\u001b[39m obtener_preseleccion_y_pedidos_de_la_prensa(archivo_path)\n\u001b[1;32m---> <a href='vscode-notebook-cell:/c%3A/Users/tobia/TDA-I-Fiuba/TP3/TP3.ipynb#X13sZmlsZQ%3D%3D?line=30'>31</a>\u001b[0m solucion \u001b[39m=\u001b[39m solucion_para_Scaloni(preseleccion, pedidos_de_la_prensa)\n\u001b[0;32m     <a href='vscode-notebook-cell:/c%3A/Users/tobia/TDA-I-Fiuba/TP3/TP3.ipynb#X13sZmlsZQ%3D%3D?line=31'>32</a>\u001b[0m \u001b[39mprint\u001b[39m(solucion)\n",
      "\u001b[1;32mc:\\Users\\tobia\\TDA-I-Fiuba\\TP3\\TP3.ipynb Cell 11\u001b[0m line \u001b[0;36m2\n\u001b[0;32m     <a href='vscode-notebook-cell:/c%3A/Users/tobia/TDA-I-Fiuba/TP3/TP3.ipynb#X13sZmlsZQ%3D%3D?line=21'>22</a>\u001b[0m solucion \u001b[39m=\u001b[39m []\n\u001b[0;32m     <a href='vscode-notebook-cell:/c%3A/Users/tobia/TDA-I-Fiuba/TP3/TP3.ipynb#X13sZmlsZQ%3D%3D?line=22'>23</a>\u001b[0m solucion_actual \u001b[39m=\u001b[39m []\n\u001b[1;32m---> <a href='vscode-notebook-cell:/c%3A/Users/tobia/TDA-I-Fiuba/TP3/TP3.ipynb#X13sZmlsZQ%3D%3D?line=23'>24</a>\u001b[0m conjunto_minimo_para_Scaloni(preseleccion, solucion_actual, pedidos_de_prensa, \u001b[39m0\u001b[39;49m, solucion)\n\u001b[0;32m     <a href='vscode-notebook-cell:/c%3A/Users/tobia/TDA-I-Fiuba/TP3/TP3.ipynb#X13sZmlsZQ%3D%3D?line=24'>25</a>\u001b[0m \u001b[39mreturn\u001b[39;00m solucion\n",
      "\u001b[1;32mc:\\Users\\tobia\\TDA-I-Fiuba\\TP3\\TP3.ipynb Cell 11\u001b[0m line \u001b[0;36m1\n\u001b[0;32m     <a href='vscode-notebook-cell:/c%3A/Users/tobia/TDA-I-Fiuba/TP3/TP3.ipynb#X13sZmlsZQ%3D%3D?line=15'>16</a>\u001b[0m \u001b[39mif\u001b[39;00m verificar_solucion_para_Scaloni(pedidos_de_prensa, solucion_actual):\n\u001b[0;32m     <a href='vscode-notebook-cell:/c%3A/Users/tobia/TDA-I-Fiuba/TP3/TP3.ipynb#X13sZmlsZQ%3D%3D?line=16'>17</a>\u001b[0m     actualizar_solucion(solucion_actual, solucion)\n\u001b[1;32m---> <a href='vscode-notebook-cell:/c%3A/Users/tobia/TDA-I-Fiuba/TP3/TP3.ipynb#X13sZmlsZQ%3D%3D?line=17'>18</a>\u001b[0m conjunto_minimo_para_Scaloni(preseleccion, solucion_actual, pedidos_de_prensa, indice \u001b[39m+\u001b[39;49m \u001b[39m1\u001b[39;49m, solucion)\n\u001b[0;32m     <a href='vscode-notebook-cell:/c%3A/Users/tobia/TDA-I-Fiuba/TP3/TP3.ipynb#X13sZmlsZQ%3D%3D?line=18'>19</a>\u001b[0m solucion_actual\u001b[39m.\u001b[39mremove(solucion_actual[\u001b[39mlen\u001b[39m(solucion_actual) \u001b[39m-\u001b[39m \u001b[39m1\u001b[39m])\n",
      "\u001b[1;32mc:\\Users\\tobia\\TDA-I-Fiuba\\TP3\\TP3.ipynb Cell 11\u001b[0m line \u001b[0;36m1\n\u001b[0;32m     <a href='vscode-notebook-cell:/c%3A/Users/tobia/TDA-I-Fiuba/TP3/TP3.ipynb#X13sZmlsZQ%3D%3D?line=15'>16</a>\u001b[0m \u001b[39mif\u001b[39;00m verificar_solucion_para_Scaloni(pedidos_de_prensa, solucion_actual):\n\u001b[0;32m     <a href='vscode-notebook-cell:/c%3A/Users/tobia/TDA-I-Fiuba/TP3/TP3.ipynb#X13sZmlsZQ%3D%3D?line=16'>17</a>\u001b[0m     actualizar_solucion(solucion_actual, solucion)\n\u001b[1;32m---> <a href='vscode-notebook-cell:/c%3A/Users/tobia/TDA-I-Fiuba/TP3/TP3.ipynb#X13sZmlsZQ%3D%3D?line=17'>18</a>\u001b[0m conjunto_minimo_para_Scaloni(preseleccion, solucion_actual, pedidos_de_prensa, indice \u001b[39m+\u001b[39;49m \u001b[39m1\u001b[39;49m, solucion)\n\u001b[0;32m     <a href='vscode-notebook-cell:/c%3A/Users/tobia/TDA-I-Fiuba/TP3/TP3.ipynb#X13sZmlsZQ%3D%3D?line=18'>19</a>\u001b[0m solucion_actual\u001b[39m.\u001b[39mremove(solucion_actual[\u001b[39mlen\u001b[39m(solucion_actual) \u001b[39m-\u001b[39m \u001b[39m1\u001b[39m])\n",
      "    \u001b[1;31m[... skipping similar frames: conjunto_minimo_para_Scaloni at line 18 (1 times)]\u001b[0m\n",
      "\u001b[1;32mc:\\Users\\tobia\\TDA-I-Fiuba\\TP3\\TP3.ipynb Cell 11\u001b[0m line \u001b[0;36m1\n\u001b[0;32m     <a href='vscode-notebook-cell:/c%3A/Users/tobia/TDA-I-Fiuba/TP3/TP3.ipynb#X13sZmlsZQ%3D%3D?line=15'>16</a>\u001b[0m \u001b[39mif\u001b[39;00m verificar_solucion_para_Scaloni(pedidos_de_prensa, solucion_actual):\n\u001b[0;32m     <a href='vscode-notebook-cell:/c%3A/Users/tobia/TDA-I-Fiuba/TP3/TP3.ipynb#X13sZmlsZQ%3D%3D?line=16'>17</a>\u001b[0m     actualizar_solucion(solucion_actual, solucion)\n\u001b[1;32m---> <a href='vscode-notebook-cell:/c%3A/Users/tobia/TDA-I-Fiuba/TP3/TP3.ipynb#X13sZmlsZQ%3D%3D?line=17'>18</a>\u001b[0m conjunto_minimo_para_Scaloni(preseleccion, solucion_actual, pedidos_de_prensa, indice \u001b[39m+\u001b[39;49m \u001b[39m1\u001b[39;49m, solucion)\n\u001b[0;32m     <a href='vscode-notebook-cell:/c%3A/Users/tobia/TDA-I-Fiuba/TP3/TP3.ipynb#X13sZmlsZQ%3D%3D?line=18'>19</a>\u001b[0m solucion_actual\u001b[39m.\u001b[39mremove(solucion_actual[\u001b[39mlen\u001b[39m(solucion_actual) \u001b[39m-\u001b[39m \u001b[39m1\u001b[39m])\n",
      "\u001b[1;32mc:\\Users\\tobia\\TDA-I-Fiuba\\TP3\\TP3.ipynb Cell 11\u001b[0m line \u001b[0;36m1\n\u001b[0;32m     <a href='vscode-notebook-cell:/c%3A/Users/tobia/TDA-I-Fiuba/TP3/TP3.ipynb#X13sZmlsZQ%3D%3D?line=13'>14</a>\u001b[0m \u001b[39mfor\u001b[39;00m i \u001b[39min\u001b[39;00m \u001b[39mrange\u001b[39m(indice, (\u001b[39mlen\u001b[39m(preseleccion)\u001b[39m-\u001b[39m\u001b[39m1\u001b[39m)):\n\u001b[0;32m     <a href='vscode-notebook-cell:/c%3A/Users/tobia/TDA-I-Fiuba/TP3/TP3.ipynb#X13sZmlsZQ%3D%3D?line=14'>15</a>\u001b[0m     solucion_actual\u001b[39m.\u001b[39mappend(preseleccion[(indice)])\n\u001b[1;32m---> <a href='vscode-notebook-cell:/c%3A/Users/tobia/TDA-I-Fiuba/TP3/TP3.ipynb#X13sZmlsZQ%3D%3D?line=15'>16</a>\u001b[0m     \u001b[39mif\u001b[39;00m verificar_solucion_para_Scaloni(pedidos_de_prensa, solucion_actual):\n\u001b[0;32m     <a href='vscode-notebook-cell:/c%3A/Users/tobia/TDA-I-Fiuba/TP3/TP3.ipynb#X13sZmlsZQ%3D%3D?line=16'>17</a>\u001b[0m         actualizar_solucion(solucion_actual, solucion)\n\u001b[0;32m     <a href='vscode-notebook-cell:/c%3A/Users/tobia/TDA-I-Fiuba/TP3/TP3.ipynb#X13sZmlsZQ%3D%3D?line=17'>18</a>\u001b[0m     conjunto_minimo_para_Scaloni(preseleccion, solucion_actual, pedidos_de_prensa, indice \u001b[39m+\u001b[39m \u001b[39m1\u001b[39m, solucion)\n",
      "\u001b[1;32mc:\\Users\\tobia\\TDA-I-Fiuba\\TP3\\TP3.ipynb Cell 11\u001b[0m line \u001b[0;36m1\n\u001b[0;32m     <a href='vscode-notebook-cell:/c%3A/Users/tobia/TDA-I-Fiuba/TP3/TP3.ipynb#X13sZmlsZQ%3D%3D?line=13'>14</a>\u001b[0m \u001b[39mfor\u001b[39;00m i \u001b[39min\u001b[39;00m \u001b[39mrange\u001b[39m(indice, (\u001b[39mlen\u001b[39m(preseleccion)\u001b[39m-\u001b[39m\u001b[39m1\u001b[39m)):\n\u001b[0;32m     <a href='vscode-notebook-cell:/c%3A/Users/tobia/TDA-I-Fiuba/TP3/TP3.ipynb#X13sZmlsZQ%3D%3D?line=14'>15</a>\u001b[0m     solucion_actual\u001b[39m.\u001b[39mappend(preseleccion[(indice)])\n\u001b[1;32m---> <a href='vscode-notebook-cell:/c%3A/Users/tobia/TDA-I-Fiuba/TP3/TP3.ipynb#X13sZmlsZQ%3D%3D?line=15'>16</a>\u001b[0m     \u001b[39mif\u001b[39;00m verificar_solucion_para_Scaloni(pedidos_de_prensa, solucion_actual):\n\u001b[0;32m     <a href='vscode-notebook-cell:/c%3A/Users/tobia/TDA-I-Fiuba/TP3/TP3.ipynb#X13sZmlsZQ%3D%3D?line=16'>17</a>\u001b[0m         actualizar_solucion(solucion_actual, solucion)\n\u001b[0;32m     <a href='vscode-notebook-cell:/c%3A/Users/tobia/TDA-I-Fiuba/TP3/TP3.ipynb#X13sZmlsZQ%3D%3D?line=17'>18</a>\u001b[0m     conjunto_minimo_para_Scaloni(preseleccion, solucion_actual, pedidos_de_prensa, indice \u001b[39m+\u001b[39m \u001b[39m1\u001b[39m, solucion)\n",
      "File \u001b[1;32m_pydevd_bundle/pydevd_cython.pyx:1457\u001b[0m, in \u001b[0;36m_pydevd_bundle.pydevd_cython.SafeCallWrapper.__call__\u001b[1;34m()\u001b[0m\n",
      "File \u001b[1;32m_pydevd_bundle/pydevd_cython.pyx:701\u001b[0m, in \u001b[0;36m_pydevd_bundle.pydevd_cython.PyDBFrame.trace_dispatch\u001b[1;34m()\u001b[0m\n",
      "File \u001b[1;32m_pydevd_bundle/pydevd_cython.pyx:1395\u001b[0m, in \u001b[0;36m_pydevd_bundle.pydevd_cython.PyDBFrame.trace_dispatch\u001b[1;34m()\u001b[0m\n",
      "File \u001b[1;32m_pydevd_bundle/pydevd_cython.pyx:1344\u001b[0m, in \u001b[0;36m_pydevd_bundle.pydevd_cython.PyDBFrame.trace_dispatch\u001b[1;34m()\u001b[0m\n",
      "File \u001b[1;32m_pydevd_bundle/pydevd_cython.pyx:312\u001b[0m, in \u001b[0;36m_pydevd_bundle.pydevd_cython.PyDBFrame.do_wait_suspend\u001b[1;34m()\u001b[0m\n",
      "File \u001b[1;32m~\\AppData\\Roaming\\Python\\Python311\\site-packages\\debugpy\\_vendored\\pydevd\\pydevd.py:2070\u001b[0m, in \u001b[0;36mPyDB.do_wait_suspend\u001b[1;34m(self, thread, frame, event, arg, exception_type)\u001b[0m\n\u001b[0;32m   2067\u001b[0m             from_this_thread\u001b[39m.\u001b[39mappend(frame_custom_thread_id)\n\u001b[0;32m   2069\u001b[0m     \u001b[39mwith\u001b[39;00m \u001b[39mself\u001b[39m\u001b[39m.\u001b[39m_threads_suspended_single_notification\u001b[39m.\u001b[39mnotify_thread_suspended(thread_id, thread, stop_reason):\n\u001b[1;32m-> 2070\u001b[0m         keep_suspended \u001b[39m=\u001b[39m \u001b[39mself\u001b[39;49m\u001b[39m.\u001b[39;49m_do_wait_suspend(thread, frame, event, arg, suspend_type, from_this_thread, frames_tracker)\n\u001b[0;32m   2072\u001b[0m frames_list \u001b[39m=\u001b[39m \u001b[39mNone\u001b[39;00m\n\u001b[0;32m   2074\u001b[0m \u001b[39mif\u001b[39;00m keep_suspended:\n\u001b[0;32m   2075\u001b[0m     \u001b[39m# This means that we should pause again after a set next statement.\u001b[39;00m\n",
      "File \u001b[1;32m~\\AppData\\Roaming\\Python\\Python311\\site-packages\\debugpy\\_vendored\\pydevd\\pydevd.py:2106\u001b[0m, in \u001b[0;36mPyDB._do_wait_suspend\u001b[1;34m(self, thread, frame, event, arg, suspend_type, from_this_thread, frames_tracker)\u001b[0m\n\u001b[0;32m   2103\u001b[0m         \u001b[39mself\u001b[39m\u001b[39m.\u001b[39m_call_input_hook()\n\u001b[0;32m   2105\u001b[0m     \u001b[39mself\u001b[39m\u001b[39m.\u001b[39mprocess_internal_commands()\n\u001b[1;32m-> 2106\u001b[0m     time\u001b[39m.\u001b[39msleep(\u001b[39m0.01\u001b[39m)\n\u001b[0;32m   2108\u001b[0m \u001b[39mself\u001b[39m\u001b[39m.\u001b[39mcancel_async_evaluation(get_current_thread_id(thread), \u001b[39mstr\u001b[39m(\u001b[39mid\u001b[39m(frame)))\n\u001b[0;32m   2110\u001b[0m \u001b[39m# process any stepping instructions\u001b[39;00m\n",
      "\u001b[1;31mKeyboardInterrupt\u001b[0m: "
     ]
    }
   ],
   "source": [
    "def actualizar_solucion(solucion_actual, solucion):\n",
    "    if len(solucion_actual) < len(solucion) or len(solucion) == 0:\n",
    "        print(solucion_actual)\n",
    "        solucion[:] = solucion_actual\n",
    "\n",
    "\n",
    "def conjunto_minimo_para_Scaloni(preseleccion, solucion_actual, pedidos_de_prensa, indice, solucion):\n",
    "    cantidad_de_jugadores = len(solucion_actual)\n",
    "    max_jugadores = 16\n",
    "\n",
    "    if(cantidad_de_jugadores >= len(pedidos_de_prensa) or cantidad_de_jugadores >= max_jugadores):\n",
    "        return \n",
    "    \n",
    "    for i in range(indice, (len(preseleccion)-1)):\n",
    "        solucion_actual.append(preseleccion[(indice)])\n",
    "        if verificar_solucion_para_Scaloni(pedidos_de_prensa, solucion_actual):\n",
    "            actualizar_solucion(solucion_actual, solucion)\n",
    "        conjunto_minimo_para_Scaloni(preseleccion, solucion_actual, pedidos_de_prensa, indice + 1, solucion)\n",
    "        solucion_actual.remove(solucion_actual[len(solucion_actual) - 1])\n",
    "\n",
    "# def conjunto_minimo_para_Scaloni(preseleccion, solucion_actual, pedidos_de_prensa, indice, solucion):\n",
    "#     cantidad_de_jugadores = len(solucion_actual)\n",
    "#     max_jugadores = 16\n",
    "\n",
    "#     if(cantidad_de_jugadores >= len(pedidos_de_prensa) or cantidad_de_jugadores >= max_jugadores):\n",
    "#         return \n",
    "    \n",
    "#     for i in range(indice, (len(preseleccion)-1)):\n",
    "#         solucion_actual.append(preseleccion[(indice)])\n",
    "#         if verificar_solucion_para_Scaloni(pedidos_de_prensa, solucion_actual):\n",
    "#             actualizar_solucion(solucion_actual, solucion)\n",
    "#         conjunto_minimo_para_Scaloni(preseleccion, solucion_actual, pedidos_de_prensa, indice + 1, solucion)\n",
    "#         solucion_actual.remove(solucion_actual[len(solucion_actual) - 1]) \n",
    "\n",
    "\n",
    "def solucion_para_Scaloni(preseleccion, pedidos_de_prensa):\n",
    "    solucion = []\n",
    "    solucion_actual = []\n",
    "    conjunto_minimo_para_Scaloni(preseleccion, solucion_actual, pedidos_de_prensa, 0, solucion)\n",
    "    return solucion\n",
    "\n",
    "\n",
    "# Ejemplo de uso\n",
    "archivo_path = path_5\n",
    "pedidos_de_la_prensa, preseleccion = obtener_preseleccion_y_pedidos_de_la_prensa(archivo_path)\n",
    "solucion = solucion_para_Scaloni(preseleccion, pedidos_de_la_prensa)\n",
    "print(solucion)\n",
    "\n",
    "\n",
    "\n"
   ]
  }
 ],
 "metadata": {
  "kernelspec": {
   "display_name": "Python 3",
   "language": "python",
   "name": "python3"
  },
  "language_info": {
   "codemirror_mode": {
    "name": "ipython",
    "version": 3
   },
   "file_extension": ".py",
   "mimetype": "text/x-python",
   "name": "python",
   "nbconvert_exporter": "python",
   "pygments_lexer": "ipython3",
   "version": "3.11.4"
  }
 },
 "nbformat": 4,
 "nbformat_minor": 2
}
