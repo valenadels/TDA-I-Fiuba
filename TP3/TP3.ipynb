{
 "cells": [
  {
   "cell_type": "markdown",
   "metadata": {},
   "source": [
    "# TP3: Problemas NP-Completos"
   ]
  },
  {
   "cell_type": "markdown",
   "metadata": {},
   "source": [
    "#### Funciones auxiliares\n"
   ]
  },
  {
   "cell_type": "code",
   "execution_count": 10,
   "metadata": {},
   "outputs": [],
   "source": [
    "# Recibe el path con el archivo a leer.\n",
    "# Leemos y devolvemos dos arrays. \n",
    "# - El primero corresponde a un array de listas, donde cada lista posee los jugadores que piden los diferentes medios y periodistas.\n",
    "# - El segundo array posee todos los jugadores que aparecen en el array anterior, siendo los jugadores que Scaloni puede elegir, su preselección.\n",
    "# Este algoritmo, devuelve una preselección sin orden.\n",
    "def obtener_preseleccion_y_pedidos_de_la_prensa(path):\n",
    "    with open(path, 'r') as archivo:\n",
    "        lineas = archivo.readlines()\n",
    "\n",
    "    pedidos_de_la_prensa = []\n",
    "    preseleccion = set()\n",
    "\n",
    "    for linea in lineas:\n",
    "        # Eliminar saltos de línea y dividir la línea en preseleccion\n",
    "        preseleccion_linea = linea.strip().split(',')\n",
    "\n",
    "        # Agregar la lista de preseleccion a 'pedidos_de_la_prensa'\n",
    "        pedidos_de_la_prensa.append(preseleccion_linea)\n",
    "\n",
    "        # Agregar cada nombre individual a 'preseleccion' si no existe previamente\n",
    "        preseleccion.update(set(preseleccion_linea))\n",
    "\n",
    "    return pedidos_de_la_prensa, list(preseleccion)\n",
    "\n"
   ]
  },
  {
   "cell_type": "code",
   "execution_count": 11,
   "metadata": {},
   "outputs": [],
   "source": [
    "# Recibe el path con el archivo a leer.\n",
    "# Leemos y devolvemos dos arrays. \n",
    "# - El primero corresponde a un array de listas, donde cada lista posee los jugadores que piden los diferentes medios y periodistas.\n",
    "# - El segundo array posee todos los jugadores que aparecen en el array anterior, siendo los jugadores que Scaloni puede elegir, su preselección.\n",
    "# Este algoritmo, devuelve una preselección en orden a medida que aparecen los jugadores en el archivo.\n",
    "def leer_archivo(path):\n",
    "    with open(path, 'r') as archivo:\n",
    "        lineas = archivo.readlines()\n",
    "\n",
    "    pedidos_de_la_prensa = []\n",
    "    preseleccion = []\n",
    "\n",
    "    for linea in lineas:\n",
    "        # Eliminar saltos de línea y dividir la línea en preseleccion\n",
    "        preseleccion_linea = linea.strip().split(',')\n",
    "\n",
    "        # Agregar la lista de preseleccion a 'pedidos_de_la_prensa'\n",
    "        pedidos_de_la_prensa.append(preseleccion_linea)\n",
    "\n",
    "        # Agregar cada nombre individual a 'preseleccion' si no existe previamente\n",
    "        for nombre in preseleccion_linea:\n",
    "            if nombre not in preseleccion:\n",
    "                preseleccion.append(nombre)\n",
    "\n",
    "    return pedidos_de_la_prensa, preseleccion\n"
   ]
  },
  {
   "cell_type": "code",
   "execution_count": 12,
   "metadata": {},
   "outputs": [],
   "source": [
    "#Paths de los archivos a utilizar\n",
    "path_5 = 'sets de la catedra/5.txt'\n",
    "path_7 = 'sets de la catedra/7.txt'\n",
    "path_10_pocos = 'sets de la catedra/10_pocos.txt'\n",
    "path_10_todos = 'sets de la catedra/10_todos.txt'\n",
    "path_10_varios = 'sets de la catedra/10_varios.txt'\n",
    "path_15 = 'sets de la catedra/15.txt'\n",
    "path_20 = 'sets de la catedra/20.txt'\n",
    "path_75 = 'sets de la catedra/75.txt'\n",
    "path_100 = 'sets de la catedra/100.txt'\n",
    "path_200 = 'sets de la catedra/200.txt'\n",
    "\n",
    "\n",
    "\n",
    "\n"
   ]
  }
 ],
 "metadata": {
  "kernelspec": {
   "display_name": "Python 3",
   "language": "python",
   "name": "python3"
  },
  "language_info": {
   "codemirror_mode": {
    "name": "ipython",
    "version": 3
   },
   "file_extension": ".py",
   "mimetype": "text/x-python",
   "name": "python",
   "nbconvert_exporter": "python",
   "pygments_lexer": "ipython3",
   "version": "3.11.4"
  }
 },
 "nbformat": 4,
 "nbformat_minor": 2
}
