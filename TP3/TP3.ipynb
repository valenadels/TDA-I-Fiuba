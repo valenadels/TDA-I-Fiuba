{
 "cells": [
  {
   "cell_type": "markdown",
   "metadata": {},
   "source": [
    "# TP3: Problemas NP-Completos"
   ]
  },
  {
   "cell_type": "markdown",
   "metadata": {},
   "source": [
    "### ¿Hitting-Set Problem está en NP?"
   ]
  },
  {
   "cell_type": "code",
   "execution_count": null,
   "metadata": {},
   "outputs": [],
   "source": [
    "#Verificamos la solucion polinomialmente\n",
    "def verificar_solucion(B, C):\n",
    "    satisface_Bi = [False] * len(B)\n",
    "\n",
    "    for c in C:                      # O(#C) \n",
    "        for i in range(len(B)):\n",
    "            if c in B[i]:            # O(#B[i])\n",
    "                satisface_Bi[i] = True\n",
    "\n",
    "    return all(satisface_Bi)      # O(#B)         "
   ]
  },
  {
   "cell_type": "markdown",
   "metadata": {},
   "source": [
    "#### Funciones auxiliares\n"
   ]
  },
  {
   "cell_type": "code",
   "execution_count": 7,
   "metadata": {},
   "outputs": [
    {
     "name": "stdout",
     "output_type": "stream",
     "text": [
      "Sets:\n",
      "[\"Barcon't\", 'Cuti Romero', 'Colidio', 'Casco']\n",
      "['Colo Barco', 'Wachoffisde Abila', 'Messi', 'Casco', 'Armani', 'Chiquito Romero']\n",
      "[\"Barcon't\", 'Wachoffisde Abila', 'Colidio', 'Casco']\n",
      "['Messi', 'Cuti Romero', 'Casco', 'Pezzella']\n",
      "['Colo Barco', 'Messi', 'Cuti Romero']\n",
      "\n",
      "Nombres:\n",
      "['Armani', 'Messi', 'Pezzella', \"Barcon't\", 'Colo Barco', 'Cuti Romero', 'Casco', 'Wachoffisde Abila', 'Colidio', 'Chiquito Romero']\n"
     ]
    }
   ],
   "source": [
    "# Recibe el path con el archivo a leer.\n",
    "# Leemos y devolvemos dos arrays. \n",
    "# - El primero corresponde a un array de listas, donde cada lista posee los jugadores que piden los diferentes medios y periodistas.\n",
    "# - El segundo array posee todos los jugadores que aparecen en el array anterior, siendo los jugadores que Scaloni puede elegir, su preselección.\n",
    "# Este algoritmo, devuelve una preselección sin orden.\n",
    "def obtener_preseleccion_y_pedidos_de_la_prensa(path):\n",
    "    with open(path, 'r') as archivo:\n",
    "        lineas = archivo.readlines()\n",
    "\n",
    "    pedidos_de_la_prensa = []\n",
    "    preseleccion = set()\n",
    "\n",
    "    for linea in lineas:\n",
    "        preseleccion_linea = linea.strip().split(',')\n",
    "        pedidos_de_la_prensa.append(preseleccion_linea)\n",
    "        preseleccion.update(set(preseleccion_linea))\n",
    "\n",
    "    return pedidos_de_la_prensa, list(preseleccion)\n"
   ]
  },
  {
   "cell_type": "code",
   "execution_count": 12,
   "metadata": {},
   "outputs": [],
   "source": [
    "#Paths de los archivos a utilizar\n",
    "path_5 = 'sets de la catedra/5.txt'\n",
    "path_7 = 'sets de la catedra/7.txt'\n",
    "path_10_pocos = 'sets de la catedra/10_pocos.txt'\n",
    "path_10_todos = 'sets de la catedra/10_todos.txt'\n",
    "path_10_varios = 'sets de la catedra/10_varios.txt'\n",
    "path_15 = 'sets de la catedra/15.txt'\n",
    "path_20 = 'sets de la catedra/20.txt'\n",
    "path_75 = 'sets de la catedra/75.txt'\n",
    "path_100 = 'sets de la catedra/100.txt'\n",
    "path_200 = 'sets de la catedra/200.txt'\n",
    "\n",
    "\n",
    "\n",
    "\n"
   ]
  },
  {
   "cell_type": "code",
   "execution_count": 22,
   "metadata": {},
   "outputs": [],
   "source": [
    "# Me guardo los resultados esperados, dados por la cátedra\n",
    "class Resultado:\n",
    "    def __init__(self, cantidad_minima, jugadores):\n",
    "        self.cantidad_minima = cantidad_minima\n",
    "        self.jugadores = jugadores\n",
    "\n",
    "def obtener_resultados_esperados(nombre_archivo):\n",
    "    with open(nombre_archivo, 'r') as file:\n",
    "        lineas = file.readlines()\n",
    "        resultados = []\n",
    "\n",
    "        for linea in lineas:\n",
    "            if \"Cantidad\" in linea:\n",
    "                cantidad_minima = int(linea.split(\":\")[1].split(\"(\")[0].strip())\n",
    "                jugadores_linea = linea.split(\"(\")[1].split(\")\")[0]\n",
    "                jugadores = [jugador.strip() for jugador in jugadores_linea.split(\",\")]\n",
    "                resultados.append(Resultado(cantidad_minima, jugadores))\n",
    "\n",
    "        return resultados\n"
   ]
  },
  {
   "cell_type": "markdown",
   "metadata": {},
   "source": [
    "### Función verificadora"
   ]
  },
  {
   "cell_type": "code",
   "execution_count": 25,
   "metadata": {},
   "outputs": [],
   "source": [
    "#Tomamos como base la verificación del Hitting-Set Problem. Y lo ajustamos para nuestro problema.\n",
    "def verificar_solucion_para_Scaloni(B, C):\n",
    "    cantidad_de_jugadores = len(C)\n",
    "    max_jugadores = 16\n",
    "\n",
    "    if(cantidad_de_jugadores > len(B) or cantidad_de_jugadores > max_jugadores):\n",
    "        return False\n",
    "\n",
    "    satisface_Bi = [False] * len(B)\n",
    "\n",
    "    for c in C:                      # O(#C) \n",
    "        for i in range(len(B)):\n",
    "            if c in B[i]:            # O(#B[i])\n",
    "                satisface_Bi[i] = True\n",
    "\n",
    "    return all(satisface_Bi)      # O(#B)         "
   ]
  }
 ],
 "metadata": {
  "kernelspec": {
   "display_name": "Python 3",
   "language": "python",
   "name": "python3"
  },
  "language_info": {
   "codemirror_mode": {
    "name": "ipython",
    "version": 3
   },
   "file_extension": ".py",
   "mimetype": "text/x-python",
   "name": "python",
   "nbconvert_exporter": "python",
   "pygments_lexer": "ipython3",
   "version": "3.11.4"
  }
 },
 "nbformat": 4,
 "nbformat_minor": 2
}
