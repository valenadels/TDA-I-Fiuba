{
 "cells": [
  {
   "cell_type": "markdown",
   "metadata": {},
   "source": [
    "# TP3: Problemas NP-Completos"
   ]
  },
  {
   "cell_type": "code",
   "execution_count": 5,
   "metadata": {},
   "outputs": [
    {
     "name": "stdout",
     "output_type": "stream",
     "text": [
      "Defaulting to user installation because normal site-packages is not writeable\n",
      "Collecting pulp\n",
      "  Downloading PuLP-2.7.0-py3-none-any.whl (14.3 MB)\n",
      "\u001b[2K     \u001b[90m━━━━━━━━━━━━━━━━━━━━━━━━━━━━━━━━━━━━━━━━\u001b[0m \u001b[32m14.3/14.3 MB\u001b[0m \u001b[31m7.4 MB/s\u001b[0m eta \u001b[36m0:00:00\u001b[0m00:01\u001b[0m00:01\u001b[0m\n",
      "\u001b[?25hInstalling collected packages: pulp\n",
      "Successfully installed pulp-2.7.0\n"
     ]
    }
   ],
   "source": [
    "import time\n",
    "import random\n",
    "# pip install matplotlib\n",
    "from matplotlib import pyplot as plt\n",
    "# pip install tabulate\n",
    "from tabulate import tabulate\n",
    "!pip install pulp\n",
    "import pulp\n"
   ]
  },
  {
   "cell_type": "markdown",
   "metadata": {},
   "source": [
    "### ¿Hitting-Set Problem está en NP?"
   ]
  },
  {
   "cell_type": "code",
   "execution_count": 6,
   "metadata": {},
   "outputs": [],
   "source": [
    "#Verificamos la solucion polinomialmente\n",
    "def verificar_solucion(B, C, k):\n",
    "    if len(C) > k:\n",
    "        return False\n",
    "    satisface_Bi = [False] * len(B)\n",
    "\n",
    "    for c in C:                      # O(#C) \n",
    "        for i in range(len(B)):\n",
    "            if c in B[i]:            # O(#B[i])\n",
    "                satisface_Bi[i] = True\n",
    "\n",
    "    return all(satisface_Bi)      # O(#B)         "
   ]
  },
  {
   "cell_type": "markdown",
   "metadata": {},
   "source": [
    "### Funciones auxiliares\n"
   ]
  },
  {
   "cell_type": "code",
   "execution_count": 7,
   "metadata": {},
   "outputs": [],
   "source": [
    "# Recibe el path con el archivo a leer.\n",
    "# Leemos y devolvemos un array de listas, donde cada lista posee los jugadores que piden los diferentes medios y periodistas.\n",
    "def obtener_pedidos_de_la_prensa(path):\n",
    "    with open(path, 'r') as archivo:\n",
    "        lineas = archivo.readlines()\n",
    "\n",
    "    pedidos_de_la_prensa = []\n",
    "\n",
    "    for linea in lineas:\n",
    "        preseleccion_linea = linea.strip().split(',')\n",
    "        pedidos_de_la_prensa.append(preseleccion_linea)\n",
    "\n",
    "    return pedidos_de_la_prensa\n",
    "\n",
    "def obtener_todos_jugadores(pedidos_de_la_prensa):\n",
    "    jugadores = set()\n",
    "    for pedido in pedidos_de_la_prensa:\n",
    "        for jugador in pedido:\n",
    "            jugadores.add(jugador)\n",
    "    return jugadores"
   ]
  },
  {
   "cell_type": "code",
   "execution_count": 8,
   "metadata": {},
   "outputs": [],
   "source": [
    "# Me guardo los resultados esperados, dados por la cátedra\n",
    "class Resultado:\n",
    "    def __init__(self, nombre_archivo, cantidad_minima, jugadores):\n",
    "        self.nombre_archivo = nombre_archivo\n",
    "        self.cantidad_minima = cantidad_minima\n",
    "        self.jugadores = jugadores\n",
    "\n",
    "def obtener_resultados_esperados(nombre_archivo):\n",
    "    with open(nombre_archivo, 'r') as archivo:\n",
    "        contenido = archivo.read() \n",
    "    resultados = []\n",
    "\n",
    "    # Separa el contenido en bloques\n",
    "    bloques = contenido.split('\\n\\n')\n",
    "    \n",
    "    # Itera a través de cada bloque y busca \"Ganancia maxima\" y \"Plan de entrenamiento\" dentro de cada uno\n",
    "    for bloque in bloques:\n",
    "        nombre_archivo = ''\n",
    "        cantidad_minima = 0\n",
    "        jugadores = []\n",
    "\n",
    "        lineas = bloque.split('\\n')\n",
    "        for linea in lineas:\n",
    "            if \".txt\" in linea:\n",
    "                nombre_archivo = linea\n",
    "            if 'Cantidad' in linea:\n",
    "                cantidad_minima = int(linea.split(\":\")[1].split(\"(\")[0].strip())\n",
    "                jugadores_linea = linea.split(\"(\")[1].split(\")\")[0]\n",
    "                jugadores = [jugador.strip() for jugador in jugadores_linea.split(\",\")]\n",
    "                resultados.append(Resultado(nombre_archivo, cantidad_minima, jugadores))\n",
    "\n",
    "    return resultados\n"
   ]
  },
  {
   "cell_type": "markdown",
   "metadata": {},
   "source": [
    "### Sets de datos"
   ]
  },
  {
   "cell_type": "code",
   "execution_count": 9,
   "metadata": {},
   "outputs": [],
   "source": [
    "#Paths de los archivos de la catedra\n",
    "path_5 = 'sets/sets de la catedra/5.txt'\n",
    "path_7 = 'sets/sets de la catedra/7.txt'\n",
    "path_10_pocos = 'sets/sets de la catedra/10_pocos.txt'\n",
    "path_10_todos = 'sets/sets de la catedra/10_todos.txt'\n",
    "path_10_varios = 'sets/sets de la catedra/10_varios.txt'\n",
    "path_15 = 'sets/sets de la catedra/15.txt'\n",
    "path_20 = 'sets/sets de la catedra/20.txt'\n",
    "path_50 = 'sets/sets de la catedra/50.txt'\n",
    "path_75 = 'sets/sets de la catedra/75.txt'\n",
    "path_100 = 'sets/sets de la catedra/100.txt'\n",
    "path_200 = 'sets/sets de la catedra/200.txt'\n",
    "resultados_sets_catedra = 'sets/sets de la catedra/Resultados Esperados.txt'"
   ]
  },
  {
   "cell_type": "markdown",
   "metadata": {},
   "source": [
    "#### Creación sets de datos propios"
   ]
  },
  {
   "cell_type": "code",
   "execution_count": 10,
   "metadata": {},
   "outputs": [],
   "source": [
    "random.seed(0)\n",
    "\n",
    "pedidos_de_prensa_max = obtener_pedidos_de_la_prensa(path_200)\n",
    "universe = list(set([pedido for pedidos in pedidos_de_prensa_max for pedido in pedidos]))\n",
    "\n",
    "def generar_instancia(universe_size, num_sets, max_set_size):\n",
    "    sets = [{universe[random.randint(0, universe_size)] for _ in range(random.randint(1, max_set_size))} for _ in range(num_sets)]\n",
    "    return sets\n",
    "\n",
    "def generar_instancia_cant_por_jugador_fija(universe_size, num_sets, cant_jugadores):\n",
    "    i = 0\n",
    "    sets = []\n",
    "    for _ in range(num_sets):\n",
    "        current_set = set()\n",
    "        while i < cant_jugadores:\n",
    "            nuevo_jugador = universe[random.randint(0, universe_size)]\n",
    "            while nuevo_jugador in current_set:\n",
    "                nuevo_jugador = universe[random.randint(1, universe_size)]\n",
    "            current_set.add(nuevo_jugador)\n",
    "            i += 1\n",
    "        i = 0\n",
    "        sets.append(current_set)\n",
    "    return sets\n",
    "\n",
    "def crear_archivos(sets, nombre_archivo):\n",
    "    with open(nombre_archivo, 'w') as archivo:\n",
    "        for set in sets:\n",
    "            archivo.write(','.join(set) + '\\n')\n",
    "\n",
    "sets_5 = generar_instancia(30, 5, 6)\n",
    "sets_15 = generar_instancia(30, 15, 15)\n",
    "sets_20 = generar_instancia(30, 20, 6)\n",
    "sets_50 = generar_instancia(30, 50, 2)\n",
    "\n",
    "# Testear como aumenta el tiempo de ejecucion a medida que aumenta la cantidad de jugadores por periodista\n",
    "def crear_archivos_periodistas():\n",
    "    for i in range(1, 100):\n",
    "        sets = generar_instancia(30, i, 7)\n",
    "        crear_archivos(sets, 'sets/nuestros/performance/' + str(i) + '_periodistas.txt')\n",
    "       \n",
    "crear_archivos(sets_5, 'sets/nuestros/5.txt')\n",
    "crear_archivos(sets_15, 'sets/nuestros/15.txt')\n",
    "crear_archivos(sets_20, 'sets/nuestros/20.txt')\n",
    "crear_archivos(sets_50, 'sets/nuestros/50.txt')\n",
    "crear_archivos_periodistas()\n"
   ]
  },
  {
   "cell_type": "code",
   "execution_count": 11,
   "metadata": {},
   "outputs": [],
   "source": [
    "#Paths de los archivos nuestros\n",
    "path_5_nuestro = 'sets/nuestros/5.txt'\n",
    "path_15_nuestro = 'sets/nuestros/15.txt'\n",
    "path_15_un_elemento_nuestro = 'sets/nuestros/15_un_elemento.txt'\n",
    "path_20_nuestro = 'sets/nuestros/20.txt'\n",
    "path_50_nuestro = 'sets/nuestros/50.txt'\n"
   ]
  },
  {
   "cell_type": "markdown",
   "metadata": {},
   "source": [
    "### Obtención pedidos de la prensa"
   ]
  },
  {
   "cell_type": "code",
   "execution_count": 12,
   "metadata": {},
   "outputs": [],
   "source": [
    "# Sets de la catedra\n",
    "pedidos_prensa_5 = obtener_pedidos_de_la_prensa(path_5)\n",
    "pedidos_prensa_7 = obtener_pedidos_de_la_prensa(path_7)\n",
    "pedidos_prensa_10_pocos = obtener_pedidos_de_la_prensa(path_10_pocos)\n",
    "pedidos_prensa_10_todos = obtener_pedidos_de_la_prensa(path_10_todos)\n",
    "pedidos_prensa_10_varios = obtener_pedidos_de_la_prensa(path_10_varios)\n",
    "pedidos_prensa_15 = obtener_pedidos_de_la_prensa(path_15)\n",
    "pedidos_prensa_20 = obtener_pedidos_de_la_prensa(path_20)\n",
    "pedidos_prensa_50 = obtener_pedidos_de_la_prensa(path_50)\n",
    "pedidos_prensa_75 = obtener_pedidos_de_la_prensa(path_75)\n",
    "pedidos_prensa_100 = obtener_pedidos_de_la_prensa(path_100)\n",
    "pedidos_prensa_200 = obtener_pedidos_de_la_prensa(path_200)\n",
    "\n",
    "# Resultados esperados\n",
    "resultados_esperados = obtener_resultados_esperados(resultados_sets_catedra)\n",
    "pedidos_prensa = [pedidos_prensa_5, pedidos_prensa_7, pedidos_prensa_10_pocos,pedidos_prensa_10_varios,\\\n",
    "                  pedidos_prensa_10_todos, pedidos_prensa_15, pedidos_prensa_20, pedidos_prensa_50,\\\n",
    "                  pedidos_prensa_75, pedidos_prensa_100, pedidos_prensa_200]\n",
    "\n",
    "# Sets nuestros\n",
    "pedidos_prensa_5_nuestro = obtener_pedidos_de_la_prensa(path_5_nuestro)\n",
    "pedidos_prensa_15_nuestro = obtener_pedidos_de_la_prensa(path_15_nuestro)\n",
    "pedidos_prensa_15_un_elemento_nuestro = obtener_pedidos_de_la_prensa(path_15_un_elemento_nuestro)\n",
    "pedidos_prensa_20_nuestro = obtener_pedidos_de_la_prensa(path_20_nuestro)\n",
    "pedidos_prensa_50_nuestro = obtener_pedidos_de_la_prensa(path_50_nuestro)\n",
    "\n",
    "archivos_nuestros = ['5.txt', '15.txt', '15_un_elemento.txt', '20.txt', '50.txt']\n",
    "pedidos_prensa_nuestro = [pedidos_prensa_5_nuestro, pedidos_prensa_15_nuestro, pedidos_prensa_15_un_elemento_nuestro,\\\n",
    "                          pedidos_prensa_20_nuestro, pedidos_prensa_50_nuestro]\n"
   ]
  },
  {
   "cell_type": "markdown",
   "metadata": {},
   "source": [
    "### Función verificadora"
   ]
  },
  {
   "cell_type": "code",
   "execution_count": 60,
   "metadata": {},
   "outputs": [],
   "source": [
    "#Tomamos como base la verificación del Hitting-Set Problem. Y lo ajustamos para nuestro problema.\n",
    "def verificar_solucion_para_Scaloni(B, C):\n",
    "    if len(C) == 0:\n",
    "        return False\n",
    "    \n",
    "    len_B = len(B)\n",
    "    satisface_Bi = [False] * len_B\n",
    "\n",
    "    for c in C:                      # O(#C) \n",
    "        for i in range(len_B):\n",
    "            if c in B[i]:            # O(#B[i])\n",
    "                satisface_Bi[i] = True\n",
    "\n",
    "    return all(satisface_Bi)      # O(#B) "
   ]
  },
  {
   "cell_type": "markdown",
   "metadata": {},
   "source": [
    "### Solución por Backtracking"
   ]
  },
  {
   "cell_type": "code",
   "execution_count": 66,
   "metadata": {},
   "outputs": [],
   "source": [
    "def conjunto_minimo_para_Scaloni(pedidos_de_prensa, solucion_actual, indice, solucion, max_jugadores, len_pedidos):\n",
    "    cantidad_de_jugadores = len(solucion_actual)\n",
    "    largo_solucion = len(solucion)\n",
    "    if(cantidad_de_jugadores == len_pedidos or\n",
    "       cantidad_de_jugadores == max_jugadores or \n",
    "       (largo_solucion > 0 and cantidad_de_jugadores == largo_solucion)):\n",
    "        return \n",
    "    \n",
    "    for i in range(indice, len_pedidos):\n",
    "        pedido_actual = pedidos_de_prensa[i]\n",
    "        for jugador in pedido_actual:\n",
    "            if jugador not in solucion_actual:\n",
    "                solucion_actual.append(jugador)\n",
    "                cantidad_de_jugadores += 1\n",
    "                \n",
    "                if verificar_solucion_para_Scaloni(pedidos_de_prensa, solucion_actual):\n",
    "                    if cantidad_de_jugadores < largo_solucion or largo_solucion == 0:\n",
    "                        solucion[:] = solucion_actual\n",
    "                        largo_solucion = cantidad_de_jugadores\n",
    "                else:        \n",
    "                    conjunto_minimo_para_Scaloni(pedidos_de_prensa, solucion_actual, i + 1, solucion, max_jugadores, len_pedidos)\n",
    "                solucion_actual.pop()\n",
    "                cantidad_de_jugadores -= 1"
   ]
  },
  {
   "cell_type": "code",
   "execution_count": 67,
   "metadata": {},
   "outputs": [
    {
     "name": "stdout",
     "output_type": "stream",
     "text": [
      "(['Mauro Zarate', 'Pezzella'], 0.0010504722595214844)\n"
     ]
    }
   ],
   "source": [
    "def solucion_para_Scaloni(pedidos_de_prensa):\n",
    "    solucion = []\n",
    "    tiempo_inicial = time.time()\n",
    "    max_jugadores = len(set([pedido for pedidos in pedidos_de_prensa for pedido in pedidos])) # ver complejidad\n",
    "    conjunto_minimo_para_Scaloni(pedidos_de_prensa, [], 0, solucion, max_jugadores, len(pedidos_de_prensa))\n",
    "    tiempo_final = time.time()\n",
    "    tiempo_ejecucion = tiempo_final - tiempo_inicial\n",
    "    return solucion, tiempo_ejecucion\n",
    "\n",
    "\n",
    "# Ejemplo de uso\n",
    "archivo_path = path_7\n",
    "pedidos_de_la_prensa = obtener_pedidos_de_la_prensa(archivo_path)\n",
    "solucion = solucion_para_Scaloni(pedidos_de_la_prensa)\n",
    "print(solucion)"
   ]
  },
  {
   "cell_type": "markdown",
   "metadata": {},
   "source": [
    "#### Chequeo solución \n",
    "\n",
    "##### 1 - Usando sets de la cátedra"
   ]
  },
  {
   "cell_type": "code",
   "execution_count": 68,
   "metadata": {},
   "outputs": [],
   "source": [
    "solucion_5, tiempo_ejecucion_5 = solucion_para_Scaloni(pedidos_prensa_5)\n",
    "solucion_7, tiempo_ejecucion_7 = solucion_para_Scaloni(pedidos_prensa_7)\n",
    "solucion_10_pocos, tiempo_ejecucion_10_pocos = solucion_para_Scaloni(pedidos_prensa_10_pocos)\n",
    "solucion_10_varios, tiempo_ejecucion_10_varios = solucion_para_Scaloni(pedidos_prensa_10_varios)\n",
    "solucion_10_todos, tiempo_ejecucion_10_todos = solucion_para_Scaloni(pedidos_prensa_10_todos)\n",
    "solucion_15, tiempo_ejecucion_15 = solucion_para_Scaloni(pedidos_prensa_15)\n",
    "# solucion_20, tiempo_ejecucion_20 = solucion_para_Scaloni(pedidos_prensa_20)\n",
    "# solucion_50, tiempo_ejecucion_50 = solucion_para_Scaloni(pedidos_prensa_50)\n",
    "# solucion_75, tiempo_ejecucion_75 = solucion_para_Scaloni(pedidos_prensa_75)\n",
    "# solucion_100, tiempo_ejecucion_100 = solucion_para_Scaloni(pedidos_prensa_100)\n",
    "# solucion_200, tiempo_ejecucion_200 = solucion_para_Scaloni(pedidos_prensa_200)"
   ]
  },
  {
   "cell_type": "code",
   "execution_count": 72,
   "metadata": {},
   "outputs": [],
   "source": [
    "solucion_20, tiempo_ejecucion_20 = solucion_para_Scaloni(pedidos_prensa_20)"
   ]
  },
  {
   "cell_type": "code",
   "execution_count": 73,
   "metadata": {},
   "outputs": [
    {
     "data": {
      "text/plain": [
       "[\"Barcon't\", 'Riquelme', 'Mauro Zarate', 'Ogro Fabianni', 'Buonanotte']"
      ]
     },
     "execution_count": 73,
     "metadata": {},
     "output_type": "execute_result"
    }
   ],
   "source": [
    "solucion_20"
   ]
  },
  {
   "cell_type": "code",
   "execution_count": 69,
   "metadata": {},
   "outputs": [],
   "source": [
    "resultados_esperados_reducido = resultados_esperados[:5]\n",
    "resultados_obtenidos = [solucion_5, solucion_7, solucion_10_pocos,solucion_10_varios, solucion_10_todos]\n",
    "tiempos_ejecucion = [tiempo_ejecucion_5, tiempo_ejecucion_7, tiempo_ejecucion_10_pocos, tiempo_ejecucion_10_varios, tiempo_ejecucion_10_todos]"
   ]
  },
  {
   "cell_type": "code",
   "execution_count": 70,
   "metadata": {},
   "outputs": [
    {
     "name": "stdout",
     "output_type": "stream",
     "text": [
      "Archivo          Cantidad mínima esperada    Cantidad mínima obtenida  Se obtuvo el resultado esperado?      Tiempo de ejecución (s)\n",
      "-------------  --------------------------  --------------------------  ----------------------------------  -------------------------\n",
      "5.txt                                   2                           2  Sí                                                0.000245571\n",
      "7.txt                                   2                           2  Sí                                                0.0012486\n",
      "10_pocos.txt                            3                           3  Sí                                                0.0678949\n",
      "10_varios.txt                           6                           6  Sí                                                2.15234\n",
      "10_todos.txt                           10                          10  Sí                                                6.22197\n"
     ]
    }
   ],
   "source": [
    "# Imprime los resultados obtenidos y los esperados en una tabla\n",
    "resultados = []\n",
    "i = 0\n",
    "for resultado_esperado in resultados_esperados_reducido:\n",
    "  es_correcto = \"Sí\" if resultado_esperado.cantidad_minima == len(resultados_obtenidos[i]) and \\\n",
    "    verificar_solucion_para_Scaloni(pedidos_prensa[i], resultados_obtenidos[i]) else \"No\"\n",
    "  resultados.append([resultado_esperado.nombre_archivo, resultado_esperado.cantidad_minima, len(resultados_obtenidos[i]), es_correcto, tiempos_ejecucion[i]]) \n",
    "  i += 1\n",
    "print(tabulate(resultados, headers=['Archivo', 'Cantidad mínima esperada', 'Cantidad mínima obtenida', 'Se obtuvo el resultado esperado?', 'Tiempo de ejecución (s)']))"
   ]
  },
  {
   "cell_type": "markdown",
   "metadata": {},
   "source": [
    "##### 2 - Usando sets propios"
   ]
  },
  {
   "cell_type": "code",
   "execution_count": null,
   "metadata": {},
   "outputs": [],
   "source": [
    "solucion_5_nuestro = solucion_para_Scaloni(pedidos_prensa_5_nuestro)\n",
    "solucion_15_nuestro = solucion_para_Scaloni(pedidos_prensa_15_nuestro)\n",
    "solucion_15_un_elemento_nuestro = solucion_para_Scaloni(pedidos_prensa_15_un_elemento_nuestro)\n",
    "solucion_20_nuestro = solucion_para_Scaloni(pedidos_prensa_20_nuestro)\n",
    "solucion_50_nuestro = solucion_para_Scaloni(pedidos_prensa_50_nuestro)"
   ]
  },
  {
   "cell_type": "code",
   "execution_count": null,
   "metadata": {},
   "outputs": [],
   "source": [
    "resultados_obtenidos_nuestros = [solucion_5_nuestro, solucion_15_nuestro, solucion_15_un_elemento_nuestro, solucion_20_nuestro, solucion_50_nuestro]"
   ]
  },
  {
   "cell_type": "code",
   "execution_count": null,
   "metadata": {},
   "outputs": [
    {
     "name": "stdout",
     "output_type": "stream",
     "text": [
      "Archivo               Cantidad minima obtenida  Es válida la soliución?      Tiempo de ejecución (s)\n",
      "------------------  --------------------------  -------------------------  -------------------------\n",
      "5.txt                                        3  Sí                                        0.00216675\n",
      "15.txt                                       5  Sí                                     7605.93\n",
      "15_un_elemento.txt                          14  Sí                                        0.20838\n",
      "20.txt                                       6  Sí                                     3032.28\n",
      "50.txt                                      20  Sí                                     4992.13\n"
     ]
    }
   ],
   "source": [
    "# Imprime los resultados obtenidos y los esperados en una tabla\n",
    "resultados = []\n",
    "i = 0\n",
    "for resultado_obtenido in resultados_obtenidos_nuestros:\n",
    "  es_correcto = \"Sí\" if verificar_solucion_para_Scaloni(pedidos_prensa_nuestro[i], resultado_obtenido[0]) else \"No\"\n",
    "  resultados.append([archivos_nuestros[i], len(resultado_obtenido[0]), es_correcto,resultado_obtenido[1] ]) \n",
    "  i += 1\n",
    "print(tabulate(resultados, headers=['Archivo', 'Cantidad minima obtenida', 'Es válida la soliución?', 'Tiempo de ejecución (s)']))"
   ]
  },
  {
   "cell_type": "markdown",
   "metadata": {},
   "source": [
    "### Solución por Programación Lineal"
   ]
  },
  {
   "cell_type": "markdown",
   "metadata": {},
   "source": [
    "Buscamos minimizar la suma de los elementos del conjunto $C$, tal que se cumpla que para todo $B_i \\in B$, $B_i \\cap C \\neq \\emptyset$.\n",
    "Lo pensamos como que cada jugador es una variable $x_i$ que puede tomar valor 0 o 1. Para cada set se debe cumplir que $x_j = 1$ para algún $j$. Es decir que dadas $n$ ecuaciones, cada una con $m$ variables (que representan a los jugadores), buscamos minimizar la suma de las variables, tal que se cumpla que para cada ecuación, al menos una de las variables es 1."
   ]
  },
  {
   "cell_type": "code",
   "execution_count": null,
   "metadata": {},
   "outputs": [],
   "source": [
    "def solucion_para_Scaloni_LP(pedidos_de_prensa):\n",
    "    tiempo_inicial = time.time()\n",
    "    prob = pulp.LpProblem(\"Scaloni\", pulp.LpMinimize)\n",
    "    jugadores = obtener_todos_jugadores(pedidos_de_prensa)\n",
    "    x = pulp.LpVariable.dicts(\"x\", jugadores, lowBound=0, upBound=1, cat=\"Integer\")\n",
    "    prob += pulp.lpSum([x[i] for i in jugadores])\n",
    "    for pedido in pedidos_de_prensa:\n",
    "        prob += pulp.lpSum([x[jugador] for jugador in pedido]) >= 1\n",
    "    prob.solve()\n",
    "    solucion = [x[i] for i in jugadores if x[i].value() == 1]\n",
    "    tiempo_final = time.time()\n",
    "    tiempo_ejecucion = tiempo_final - tiempo_inicial\n",
    "    return solucion, tiempo_ejecucion"
   ]
  },
  {
   "cell_type": "code",
   "execution_count": null,
   "metadata": {},
   "outputs": [],
   "source": [
    "def arreglar_resultados(resultados):\n",
    "  if isinstance(resultados[0][0], str):\n",
    "    return resultados\n",
    "  for resultado in resultados:\n",
    "    resultado[:] = [jugador.name.replace('x_', '').replace('_', ' ') for jugador in resultado]"
   ]
  },
  {
   "cell_type": "markdown",
   "metadata": {},
   "source": [
    "##### 1 - Sets de la cátedra\n",
    "Chequeamos con todos los sets de la cátedra ya que a diferencia de la solución por backtracking, se puede resolver en un tiempo de ejecución razonable."
   ]
  },
  {
   "cell_type": "code",
   "execution_count": null,
   "metadata": {},
   "outputs": [],
   "source": [
    "solucion_5_lp, tiempo_ejecucion_5_lp = solucion_para_Scaloni_LP(pedidos_prensa_5)\n",
    "solucion_7_lp, tiempo_ejecucion_7_lp = solucion_para_Scaloni_LP(pedidos_prensa_7)\n",
    "solucion_10_pocos_lp, tiempo_ejecucion_10_pocos_lp = solucion_para_Scaloni_LP(pedidos_prensa_10_pocos)\n",
    "solucion_10_varios_lp, tiempo_ejecucion_10_varios_lp = solucion_para_Scaloni_LP(pedidos_prensa_10_varios)\n",
    "solucion_10_todos_lp, tiempo_ejecucion_10_todos_lp = solucion_para_Scaloni_LP(pedidos_prensa_10_todos)\n",
    "solucion_15_lp, tiempo_ejecucion_15_lp = solucion_para_Scaloni_LP(pedidos_prensa_15)\n",
    "solucion_20_lp, tiempo_ejecucion_20_lp = solucion_para_Scaloni_LP(pedidos_prensa_20)\n",
    "solucion_50_lp, tiempo_ejecucion_50_lp = solucion_para_Scaloni_LP(pedidos_prensa_50)\n",
    "solucion_75_lp, tiempo_ejecucion_75_lp = solucion_para_Scaloni_LP(pedidos_prensa_75)\n",
    "solucion_100_lp, tiempo_ejecucion_100_lp = solucion_para_Scaloni_LP(pedidos_prensa_100)\n",
    "solucion_200_lp, tiempo_ejecucion_200_lp = solucion_para_Scaloni_LP(pedidos_prensa_200)"
   ]
  },
  {
   "cell_type": "code",
   "execution_count": null,
   "metadata": {},
   "outputs": [
    {
     "name": "stdout",
     "output_type": "stream",
     "text": [
      "Archivo          Cantidad mínima esperada    Cantidad mínima obtenida  Se obtuvo el resultado esperado?      Tiempo de ejecución (s)\n",
      "-------------  --------------------------  --------------------------  ----------------------------------  -------------------------\n",
      "5.txt                                   2                           2  Sí                                                  0.0403507\n",
      "7.txt                                   2                           2  Sí                                                  0.0172672\n",
      "10_pocos.txt                            3                           3  Sí                                                  0.0148146\n",
      "10_varios.txt                           6                           6  Sí                                                  0.0147517\n",
      "10_todos.txt                           10                          10  Sí                                                  0.0191102\n",
      "15.txt                                  4                           4  Sí                                                  0.019232\n",
      "20.txt                                  5                           5  Sí                                                  0.0191333\n",
      "50.txt                                  6                           6  Sí                                                  0.0288856\n",
      "75.txt                                  8                           8  Sí                                                  0.419941\n",
      "100.txt                                 9                           9  Sí                                                  0.884667\n",
      "200.txt                                 9                           9  Sí                                                  1.43241\n"
     ]
    }
   ],
   "source": [
    "arreglar_resultados([solucion_5_lp, solucion_7_lp, solucion_10_pocos_lp, solucion_10_varios_lp, solucion_10_todos_lp,\\\n",
    "                        solucion_15_lp, solucion_20_lp,solucion_50_lp, solucion_75_lp, solucion_100_lp, solucion_200_lp])\n",
    "pedidos_prensa_lp = [pedidos_prensa_5, pedidos_prensa_7, pedidos_prensa_10_pocos,\\\n",
    "                          pedidos_prensa_10_varios, pedidos_prensa_10_todos, pedidos_prensa_15,\\\n",
    "                          pedidos_prensa_20, pedidos_prensa_50, pedidos_prensa_75, pedidos_prensa_100,\\\n",
    "                          pedidos_prensa_200]\n",
    "\n",
    "tiempos_ejecucion_lp = [tiempo_ejecucion_5_lp, tiempo_ejecucion_7_lp, tiempo_ejecucion_10_pocos_lp, tiempo_ejecucion_10_varios_lp,\\\n",
    "                      tiempo_ejecucion_10_todos_lp, tiempo_ejecucion_15_lp, tiempo_ejecucion_20_lp, tiempo_ejecucion_50_lp,\\\n",
    "                      tiempo_ejecucion_75_lp, tiempo_ejecucion_100_lp, tiempo_ejecucion_200_lp]\n",
    "\n",
    "# Imprime los resultados obtenidos y los esperados en una tabla\n",
    "resultados_lp = []\n",
    "i = 0\n",
    "for resultado_esperado in resultados_esperados:\n",
    "  es_correcto = \"Sí\" if resultado_esperado.cantidad_minima == len(resultados_obtenidos_lp[i]) and \\\n",
    "    verificar_solucion_para_Scaloni(pedidos_prensa_lp[i],resultados_obtenidos_lp[i]) else \"No\"\n",
    "  resultados_lp.append([resultado_esperado.nombre_archivo, resultado_esperado.cantidad_minima, len(resultados_obtenidos_lp[i]), es_correcto, tiempos_ejecucion_lp[i]]) \n",
    "  i += 1\n",
    "\n",
    "print(tabulate(resultados_lp, headers=['Archivo', 'Cantidad mínima esperada', 'Cantidad mínima obtenida', 'Se obtuvo el resultado esperado?', 'Tiempo de ejecución (s)']))\n"
   ]
  },
  {
   "cell_type": "markdown",
   "metadata": {},
   "source": [
    "##### 2 - Sets propios"
   ]
  },
  {
   "cell_type": "code",
   "execution_count": null,
   "metadata": {},
   "outputs": [],
   "source": [
    "solucion_5_lp_nuestro, tiempo_ejecucion_5_lp_nuestro = solucion_para_Scaloni_LP(pedidos_prensa_5_nuestro)\n",
    "solucion_15_lp_nuestro, tiempo_ejecucion_15_lp_nuestro = solucion_para_Scaloni_LP(pedidos_prensa_15_nuestro)\n",
    "solucion_15_un_elemento_lp_nuestro, tiempo_ejecucion_15_un_elemento_lp_nuestro = solucion_para_Scaloni_LP(pedidos_prensa_15_un_elemento_nuestro)\n",
    "solucion_20_lp_nuestro, tiempo_ejecucion_20_lp_nuestro = solucion_para_Scaloni_LP(pedidos_prensa_20_nuestro)\n",
    "solucion_50_lp_nuestro, tiempo_ejecucion_50_lp_nuestro = solucion_para_Scaloni_LP(pedidos_prensa_50_nuestro)"
   ]
  },
  {
   "cell_type": "code",
   "execution_count": null,
   "metadata": {},
   "outputs": [],
   "source": [
    "resultados_obtenidos_nuestros_lp = [solucion_5_lp_nuestro, solucion_15_lp_nuestro, solucion_15_un_elemento_lp_nuestro,\\\n",
    "                                              solucion_20_lp_nuestro, solucion_50_lp_nuestro]\n",
    "arreglar_resultados(resultados_obtenidos_nuestros_lp)\n",
    "tiempos_ejecucion_nuestros_lp = [tiempo_ejecucion_5_lp_nuestro, tiempo_ejecucion_15_lp_nuestro, tiempo_ejecucion_15_un_elemento_lp_nuestro,\\\n",
    "                        tiempo_ejecucion_20_lp_nuestro, tiempo_ejecucion_50_lp_nuestro]"
   ]
  },
  {
   "cell_type": "code",
   "execution_count": null,
   "metadata": {},
   "outputs": [
    {
     "name": "stdout",
     "output_type": "stream",
     "text": [
      "Archivo               Cantidad mínima obtenida  Es válida?      Tiempo de ejecución (s)\n",
      "------------------  --------------------------  ------------  -------------------------\n",
      "5.txt                                        3  Sí                            0.0403507\n",
      "15.txt                                       4  Sí                            0.0172672\n",
      "15_un_elemento.txt                          14  Sí                            0.0148146\n",
      "20.txt                                       8  Sí                            0.0147517\n",
      "50.txt                                      20  Sí                            0.0191102\n"
     ]
    }
   ],
   "source": [
    "# Imprime los resultados obtenidos y los esperados en una tabla\n",
    "resultados_lp_nuestros = []\n",
    "i = 0\n",
    "for resultado_obtenido in resultados_obtenidos_nuestros_lp:\n",
    "  es_correcto = \"Sí\" if verificar_solucion_para_Scaloni(pedidos_prensa_nuestro[i],resultados_obtenidos_nuestros_lp[i]) else \"No\"\n",
    "  resultados_lp_nuestros.append([archivos_nuestros[i], len(resultados_obtenidos_nuestros_lp[i]), es_correcto, tiempos_ejecucion_lp[i]]) \n",
    "  i += 1\n",
    "\n",
    "print(tabulate(resultados_lp_nuestros, headers=['Archivo', 'Cantidad mínima obtenida', 'Es válida?', 'Tiempo de ejecución (s)']))\n"
   ]
  },
  {
   "cell_type": "markdown",
   "metadata": {},
   "source": [
    "### Comparación de tiempos de ejecución según cantidad de jugadores"
   ]
  },
  {
   "cell_type": "code",
   "execution_count": null,
   "metadata": {},
   "outputs": [],
   "source": [
    "def pedidos_prensa_periodistas_performance():\n",
    "    pedidos_prensa_periodistas = []\n",
    "    for i in range(1, 31):\n",
    "        pedidos_prensa_periodistas.append(obtener_pedidos_de_la_prensa('sets/nuestros/performance/'+ str(i) + '_periodistas.txt'))\n",
    "    return pedidos_prensa_periodistas\n",
    "\n",
    "pedidos_prensa_periodistas_graficar = pedidos_prensa_periodistas_performance()"
   ]
  },
  {
   "cell_type": "markdown",
   "metadata": {},
   "source": [
    "##### Algoritmo de Backtracking"
   ]
  },
  {
   "cell_type": "code",
   "execution_count": null,
   "metadata": {},
   "outputs": [
    {
     "name": "stdout",
     "output_type": "stream",
     "text": [
      "0\n",
      "1\n",
      "2\n",
      "3\n",
      "4\n",
      "5\n",
      "6\n",
      "7\n",
      "8\n",
      "9\n",
      "10\n",
      "11\n",
      "12\n",
      "13\n",
      "14\n",
      "15\n",
      "16\n",
      "17\n",
      "Unexpected exception formatting exception. Falling back to standard exception\n"
     ]
    },
    {
     "name": "stderr",
     "output_type": "stream",
     "text": [
      "Traceback (most recent call last):\n",
      "  File \"/home/carolina/.local/lib/python3.10/site-packages/IPython/core/interactiveshell.py\", line 3526, in run_code\n",
      "    exec(code_obj, self.user_global_ns, self.user_ns)\n",
      "  File \"/tmp/ipykernel_4635/2759629396.py\", line 10, in <module>\n",
      "    soluciones_periodistas = obtener_soluciones(pedidos_prensa_periodistas_graficar)\n",
      "  File \"/tmp/ipykernel_4635/2759629396.py\", line 6, in obtener_soluciones\n",
      "    soluciones.append(solucion_para_Scaloni(pedidos))\n",
      "  File \"/tmp/ipykernel_4635/2749121666.py\", line 5, in solucion_para_Scaloni\n",
      "    conjunto_minimo_para_Scaloni(pedidos_de_prensa, [], 0, solucion, max_jugadores, len(pedidos_de_prensa))\n",
      "  File \"/tmp/ipykernel_4635/1077157195.py\", line 18, in conjunto_minimo_para_Scaloni\n",
      "    conjunto_minimo_para_Scaloni(pedidos_de_prensa, solucion_actual, i + 1, solucion, max_jugadores, len_pedidos)\n",
      "  File \"/tmp/ipykernel_4635/1077157195.py\", line 18, in conjunto_minimo_para_Scaloni\n",
      "    conjunto_minimo_para_Scaloni(pedidos_de_prensa, solucion_actual, i + 1, solucion, max_jugadores, len_pedidos)\n",
      "  File \"/tmp/ipykernel_4635/1077157195.py\", line 18, in conjunto_minimo_para_Scaloni\n",
      "    conjunto_minimo_para_Scaloni(pedidos_de_prensa, solucion_actual, i + 1, solucion, max_jugadores, len_pedidos)\n",
      "  [Previous line repeated 6 more times]\n",
      "  File \"/tmp/ipykernel_4635/1077157195.py\", line 13, in conjunto_minimo_para_Scaloni\n",
      "    if verificar_solucion_para_Scaloni(pedidos_de_prensa, solucion_actual):\n",
      "  File \"/tmp/ipykernel_4635/3861241207.py\", line -1, in verificar_solucion_para_Scaloni\n",
      "KeyboardInterrupt\n",
      "\n",
      "During handling of the above exception, another exception occurred:\n",
      "\n",
      "Traceback (most recent call last):\n",
      "  File \"/home/carolina/.local/lib/python3.10/site-packages/IPython/core/interactiveshell.py\", line 2120, in showtraceback\n",
      "    stb = self.InteractiveTB.structured_traceback(\n",
      "  File \"/home/carolina/.local/lib/python3.10/site-packages/IPython/core/ultratb.py\", line 1435, in structured_traceback\n",
      "    return FormattedTB.structured_traceback(\n",
      "  File \"/home/carolina/.local/lib/python3.10/site-packages/IPython/core/ultratb.py\", line 1326, in structured_traceback\n",
      "    return VerboseTB.structured_traceback(\n",
      "  File \"/home/carolina/.local/lib/python3.10/site-packages/IPython/core/ultratb.py\", line 1173, in structured_traceback\n",
      "    formatted_exception = self.format_exception_as_a_whole(etype, evalue, etb, number_of_lines_of_context,\n",
      "  File \"/home/carolina/.local/lib/python3.10/site-packages/IPython/core/ultratb.py\", line 1088, in format_exception_as_a_whole\n",
      "    frames.append(self.format_record(record))\n",
      "  File \"/home/carolina/.local/lib/python3.10/site-packages/IPython/core/ultratb.py\", line 970, in format_record\n",
      "    frame_info.lines, Colors, self.has_colors, lvals\n",
      "  File \"/home/carolina/.local/lib/python3.10/site-packages/IPython/core/ultratb.py\", line 792, in lines\n",
      "    return self._sd.lines\n",
      "  File \"/home/carolina/.local/lib/python3.10/site-packages/stack_data/utils.py\", line 144, in cached_property_wrapper\n",
      "    value = obj.__dict__[self.func.__name__] = self.func(obj)\n",
      "  File \"/home/carolina/.local/lib/python3.10/site-packages/stack_data/core.py\", line 734, in lines\n",
      "    pieces = self.included_pieces\n",
      "  File \"/home/carolina/.local/lib/python3.10/site-packages/stack_data/utils.py\", line 144, in cached_property_wrapper\n",
      "    value = obj.__dict__[self.func.__name__] = self.func(obj)\n",
      "  File \"/home/carolina/.local/lib/python3.10/site-packages/stack_data/core.py\", line 681, in included_pieces\n",
      "    pos = scope_pieces.index(self.executing_piece)\n",
      "  File \"/home/carolina/.local/lib/python3.10/site-packages/stack_data/utils.py\", line 144, in cached_property_wrapper\n",
      "    value = obj.__dict__[self.func.__name__] = self.func(obj)\n",
      "  File \"/home/carolina/.local/lib/python3.10/site-packages/stack_data/core.py\", line 660, in executing_piece\n",
      "    return only(\n",
      "  File \"/home/carolina/.local/lib/python3.10/site-packages/executing/executing.py\", line 190, in only\n",
      "    raise NotOneValueFound('Expected one value, found 0')\n",
      "executing.executing.NotOneValueFound: Expected one value, found 0\n"
     ]
    }
   ],
   "source": [
    "def obtener_soluciones(pedidos_prensa):\n",
    "    soluciones = []\n",
    "    i = 0\n",
    "    for pedidos in pedidos_prensa:\n",
    "        print(i)\n",
    "        soluciones.append(solucion_para_Scaloni(pedidos))\n",
    "        i += 1\n",
    "    return soluciones\n",
    "\n",
    "soluciones_periodistas = obtener_soluciones(pedidos_prensa_periodistas_graficar)"
   ]
  },
  {
   "cell_type": "code",
   "execution_count": null,
   "metadata": {},
   "outputs": [],
   "source": [
    "# Crear dos listas separadas para soluciones y tiempos\n",
    "soluciones = [len(sol[0]) for sol in soluciones_15_periodistas]\n",
    "tiempos_ejecucion = [sol[1] for sol in soluciones_15_periodistas]\n",
    "cantidad_jugadores = [i for i in range(1, 31)]"
   ]
  },
  {
   "cell_type": "code",
   "execution_count": null,
   "metadata": {},
   "outputs": [
    {
     "data": {
      "image/png": "[encoded data removed]",
      "text/plain": [
       "<Figure size 2000x800 with 1 Axes>"
      ]
     },
     "metadata": {},
     "output_type": "display_data"
    }
   ],
   "source": [
    "plt.figure(figsize=(20, 8))\n",
    "plt.plot(soluciones, tiempos_ejecucion)\n",
    "plt.xlabel('Cantidad de días analizados (n)', fontsize=20)\n",
    "plt.ylabel('Duración (segundos)', fontsize=20)\n",
    "plt.title('Variación de la duración en función de la cantidad de días analizados', fontsize=20)\n",
    "plt.grid(True)\n",
    "plt.xticks(fontsize=16)\n",
    "plt.yticks(fontsize=16)\n",
    "plt.show()"
   ]
  },
  {
   "cell_type": "markdown",
   "metadata": {},
   "source": [
    "### Aproximación "
   ]
  },
  {
   "cell_type": "code",
   "execution_count": null,
   "metadata": {},
   "outputs": [],
   "source": [
    "def solucion_para_Scaloni_LP_aprox(preseleccion, pedidos_de_prensa):\n",
    "    b = max(pedidos_de_prensa)\n",
    "    tiempo_inicial = time.time()\n",
    "    prob = pulp.LpProblem(\"Scaloni\", pulp.LpMinimize)\n",
    "    x = pulp.LpVariable.dicts(\"x\", preseleccion, lowBound=0, upBound=1, cat=\"Continuous\")\n",
    "    prob += pulp.lpSum([x[i] for i in preseleccion])\n",
    "    \n",
    "    for pedido in pedidos_de_prensa:\n",
    "        prob += pulp.lpSum([x[jugador] for jugador in pedido]) >= 1\n",
    "    prob.solve()\n",
    "    \n",
    "    # Redondeamos el resultado final\n",
    "    solucion = [i for i in preseleccion if pulp.value(x[i]) >= 1/b]\n",
    "    \n",
    "    tiempo_final = time.time()\n",
    "    tiempo_ejecucion = tiempo_final - tiempo_inicial\n",
    "    return solucion, tiempo_ejecucion"
   ]
  },
  {
   "cell_type": "markdown",
   "metadata": {},
   "source": [
    "### Algoritmo Greedy"
   ]
  },
  {
   "cell_type": "code",
   "execution_count": null,
   "metadata": {},
   "outputs": [],
   "source": [
    "# ordeno los pedidos de la prensa por cantidad de repeticiones y agarro los primeros k"
   ]
  }
 ],
 "metadata": {
  "kernelspec": {
   "display_name": "Python 3",
   "language": "python",
   "name": "python3"
  },
  "language_info": {
   "codemirror_mode": {
    "name": "ipython",
    "version": 3
   },
   "file_extension": ".py",
   "mimetype": "text/x-python",
   "name": "python",
   "nbconvert_exporter": "python",
   "pygments_lexer": "ipython3",
   "version": "3.10.12"
  }
 },
 "nbformat": 4,
 "nbformat_minor": 2
}
