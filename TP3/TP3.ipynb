{
 "cells": [
  {
   "cell_type": "markdown",
   "metadata": {},
   "source": [
    "# TP3: Problemas NP-Completos"
   ]
  },
  {
   "cell_type": "markdown",
   "metadata": {},
   "source": [
    "#### Funciones auxiliares\n"
   ]
  },
  {
   "cell_type": "code",
   "execution_count": 10,
   "metadata": {},
   "outputs": [],
   "source": [
    "# Recibe el path con el archivo a leer.\n",
    "# Leemos y devolvemos dos arrays. \n",
    "# - El primero corresponde a un array de listas, donde cada lista posee los jugadores que piden los diferentes medios y periodistas.\n",
    "# - El segundo array posee todos los jugadores que aparecen en el array anterior, siendo los jugadores que Scaloni puede elegir, su preselección.\n",
    "# Este algoritmo, devuelve una preselección sin orden.\n",
    "def obtener_preseleccion_y_pedidos_de_la_prensa(path):\n",
    "    with open(path, 'r') as archivo:\n",
    "        lineas = archivo.readlines()\n",
    "\n",
    "    pedidos_de_la_prensa = []\n",
    "    preseleccion = set()\n",
    "\n",
    "    for linea in lineas:\n",
    "        # Eliminar saltos de línea y dividir la línea en preseleccion\n",
    "        preseleccion_linea = linea.strip().split(',')\n",
    "\n",
    "        # Agregar la lista de preseleccion a 'pedidos_de_la_prensa'\n",
    "        pedidos_de_la_prensa.append(preseleccion_linea)\n",
    "\n",
    "        # Agregar cada nombre individual a 'preseleccion' si no existe previamente\n",
    "        preseleccion.update(set(preseleccion_linea))\n",
    "\n",
    "    return pedidos_de_la_prensa, list(preseleccion)\n",
    "\n"
   ]
  },
  {
   "cell_type": "code",
   "execution_count": 11,
   "metadata": {},
   "outputs": [],
   "source": [
    "# Recibe el path con el archivo a leer.\n",
    "# Leemos y devolvemos dos arrays. \n",
    "# - El primero corresponde a un array de listas, donde cada lista posee los jugadores que piden los diferentes medios y periodistas.\n",
    "# - El segundo array posee todos los jugadores que aparecen en el array anterior, siendo los jugadores que Scaloni puede elegir, su preselección.\n",
    "# Este algoritmo, devuelve una preselección en orden a medida que aparecen los jugadores en el archivo.\n",
    "def leer_archivo(path):\n",
    "    with open(path, 'r') as archivo:\n",
    "        lineas = archivo.readlines()\n",
    "\n",
    "    pedidos_de_la_prensa = []\n",
    "    preseleccion = []\n",
    "\n",
    "    for linea in lineas:\n",
    "        # Eliminar saltos de línea y dividir la línea en preseleccion\n",
    "        preseleccion_linea = linea.strip().split(',')\n",
    "\n",
    "        # Agregar la lista de preseleccion a 'pedidos_de_la_prensa'\n",
    "        pedidos_de_la_prensa.append(preseleccion_linea)\n",
    "\n",
    "        # Agregar cada nombre individual a 'preseleccion' si no existe previamente\n",
    "        for nombre in preseleccion_linea:\n",
    "            if nombre not in preseleccion:\n",
    "                preseleccion.append(nombre)\n",
    "\n",
    "    return pedidos_de_la_prensa, preseleccion\n"
   ]
  },
  {
   "cell_type": "code",
   "execution_count": 12,
   "metadata": {},
   "outputs": [],
   "source": [
    "#Paths de los archivos a utilizar\n",
    "path_5 = 'sets de la catedra/5.txt'\n",
    "path_7 = 'sets de la catedra/7.txt'\n",
    "path_10_pocos = 'sets de la catedra/10_pocos.txt'\n",
    "path_10_todos = 'sets de la catedra/10_todos.txt'\n",
    "path_10_varios = 'sets de la catedra/10_varios.txt'\n",
    "path_15 = 'sets de la catedra/15.txt'\n",
    "path_20 = 'sets de la catedra/20.txt'\n",
    "path_75 = 'sets de la catedra/75.txt'\n",
    "path_100 = 'sets de la catedra/100.txt'\n",
    "path_200 = 'sets de la catedra/200.txt'\n",
    "\n",
    "\n",
    "\n",
    "\n"
   ]
  },
  {
   "cell_type": "code",
   "execution_count": 16,
   "metadata": {},
   "outputs": [
    {
     "ename": "AttributeError",
     "evalue": "'list' object has no attribute 'cantidad_minima'",
     "output_type": "error",
     "traceback": [
      "\u001b[1;31m---------------------------------------------------------------------------\u001b[0m",
      "\u001b[1;31mAttributeError\u001b[0m                            Traceback (most recent call last)",
      "\u001b[1;32mc:\\Users\\tobia\\TDA-I-Fiuba\\TP3\\TP3.ipynb Cell 6\u001b[0m line \u001b[0;36m2\n\u001b[0;32m     <a href='vscode-notebook-cell:/c%3A/Users/tobia/TDA-I-Fiuba/TP3/TP3.ipynb#W5sZmlsZQ%3D%3D?line=24'>25</a>\u001b[0m \u001b[39m# Acceder a los datos almacenados en las estructuras\u001b[39;00m\n\u001b[0;32m     <a href='vscode-notebook-cell:/c%3A/Users/tobia/TDA-I-Fiuba/TP3/TP3.ipynb#W5sZmlsZQ%3D%3D?line=25'>26</a>\u001b[0m \u001b[39mfor\u001b[39;00m resultado \u001b[39min\u001b[39;00m resultados:\n\u001b[1;32m---> <a href='vscode-notebook-cell:/c%3A/Users/tobia/TDA-I-Fiuba/TP3/TP3.ipynb#W5sZmlsZQ%3D%3D?line=26'>27</a>\u001b[0m     \u001b[39mprint\u001b[39m(\u001b[39m\"\u001b[39m\u001b[39mCantidad mínima:\u001b[39m\u001b[39m\"\u001b[39m, resultado\u001b[39m.\u001b[39;49mcantidad_minima)\n\u001b[0;32m     <a href='vscode-notebook-cell:/c%3A/Users/tobia/TDA-I-Fiuba/TP3/TP3.ipynb#W5sZmlsZQ%3D%3D?line=27'>28</a>\u001b[0m     \u001b[39mprint\u001b[39m(\u001b[39m\"\u001b[39m\u001b[39mJugadores:\u001b[39m\u001b[39m\"\u001b[39m, \u001b[39m\"\u001b[39m\u001b[39m, \u001b[39m\u001b[39m\"\u001b[39m\u001b[39m.\u001b[39mjoin(resultado\u001b[39m.\u001b[39mjugadores))\n\u001b[0;32m     <a href='vscode-notebook-cell:/c%3A/Users/tobia/TDA-I-Fiuba/TP3/TP3.ipynb#W5sZmlsZQ%3D%3D?line=28'>29</a>\u001b[0m     \u001b[39mprint\u001b[39m()\n",
      "\u001b[1;31mAttributeError\u001b[0m: 'list' object has no attribute 'cantidad_minima'"
     ]
    }
   ],
   "source": [
    "#Me guardo los resultados esperados, dados por la cátedra\n",
    "class Resultado:\n",
    "    def __init__(self, cantidad_minima, jugadores):\n",
    "        self.cantidad_minima = cantidad_minima\n",
    "        self.jugadores = jugadores\n",
    "\n",
    "def obtener_resultados_esperados(nombre_archivo):\n",
    "    with open(nombre_archivo, 'r') as file:\n",
    "        lineas = file.readlines()\n",
    "        resultados = []\n",
    "\n",
    "        for linea in lineas:\n",
    "            if \"Cantidad mínima:\" in linea:\n",
    "                cantidad_minima = int(linea.split(\":\")[1].split(\"(\")[0].strip())\n",
    "                jugadores_linea = lineas[lineas.index(linea)]\n",
    "                jugadores = [jugador.strip() for jugador in jugadores_linea.split(\"(\")[1].split(\")\")[0].split(\",\")]\n",
    "                resultados.append(Resultado(cantidad_minima, jugadores))\n",
    "\n",
    "        return resultados\n",
    "    \n",
    "# Uso del código\n",
    "nombre_del_archivo = \"sets de la catedra/Resultados Esperados.txt\"  # Reemplaza con la ruta de tu archivo\n",
    "resultados = leer_archivo(nombre_del_archivo)\n",
    "\n",
    "# Acceder a los datos almacenados en las estructuras\n",
    "for resultado in resultados:\n",
    "    print(\"Cantidad mínima:\", resultado.cantidad_minima)\n",
    "    print(\"Jugadores:\", \", \".join(resultado.jugadores))\n",
    "    print()"
   ]
  }
 ],
 "metadata": {
  "kernelspec": {
   "display_name": "Python 3",
   "language": "python",
   "name": "python3"
  },
  "language_info": {
   "codemirror_mode": {
    "name": "ipython",
    "version": 3
   },
   "file_extension": ".py",
   "mimetype": "text/x-python",
   "name": "python",
   "nbconvert_exporter": "python",
   "pygments_lexer": "ipython3",
   "version": "3.11.4"
  }
 },
 "nbformat": 4,
 "nbformat_minor": 2
}
