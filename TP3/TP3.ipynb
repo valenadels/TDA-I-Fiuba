{
 "cells": [
  {
   "cell_type": "markdown",
   "metadata": {},
   "source": [
    "# TP3: Problemas NP-Completos"
   ]
  },
  {
   "cell_type": "markdown",
   "metadata": {},
   "source": [
    "### ¿Hitting-Set Problem está en NP?"
   ]
  },
  {
   "cell_type": "code",
   "execution_count": 104,
   "metadata": {},
   "outputs": [],
   "source": [
    "#Verificamos la solucion polinomialmente\n",
    "def verificar_solucion(B, C, k):\n",
    "    if len(C) > k:\n",
    "        return False\n",
    "    satisface_Bi = [False] * len(B)\n",
    "\n",
    "    for c in C:                      # O(#C) \n",
    "        for i in range(len(B)):\n",
    "            if c in B[i]:            # O(#B[i])\n",
    "                satisface_Bi[i] = True\n",
    "\n",
    "    return all(satisface_Bi)      # O(#B)         "
   ]
  },
  {
   "cell_type": "markdown",
   "metadata": {},
   "source": [
    "### Funciones auxiliares\n"
   ]
  },
  {
   "cell_type": "code",
   "execution_count": 105,
   "metadata": {},
   "outputs": [],
   "source": [
    "# Recibe el path con el archivo a leer.\n",
    "# Leemos y devolvemos dos arrays. \n",
    "# - El primero corresponde a un array de listas, donde cada lista posee los jugadores que piden los diferentes medios y periodistas.\n",
    "# - El segundo array posee todos los jugadores que aparecen en el array anterior, siendo los jugadores que Scaloni puede elegir, su preselección.\n",
    "# Este algoritmo, devuelve una preselección sin orden.\n",
    "def obtener_preseleccion_y_pedidos_de_la_prensa(path):\n",
    "    with open(path, 'r') as archivo:\n",
    "        lineas = archivo.readlines()\n",
    "\n",
    "    pedidos_de_la_prensa = []\n",
    "    preseleccion = set()\n",
    "\n",
    "    for linea in lineas:\n",
    "        preseleccion_linea = linea.strip().split(',')\n",
    "        pedidos_de_la_prensa.append(preseleccion_linea)\n",
    "        preseleccion.update(set(preseleccion_linea))\n",
    "\n",
    "    return pedidos_de_la_prensa, list(preseleccion)\n"
   ]
  },
  {
   "cell_type": "code",
   "execution_count": 106,
   "metadata": {},
   "outputs": [],
   "source": [
    "# Me guardo los resultados esperados, dados por la cátedra\n",
    "class Resultado:\n",
    "    def __init__(self, nombre_archivo, cantidad_minima, jugadores):\n",
    "        self.nombre_archivo = nombre_archivo\n",
    "        self.cantidad_minima = cantidad_minima\n",
    "        self.jugadores = jugadores\n",
    "\n",
    "def obtener_resultados_esperados(nombre_archivo):\n",
    "    with open(nombre_archivo, 'r') as archivo:\n",
    "        contenido = archivo.read() \n",
    "    resultados = []\n",
    "\n",
    "    # Separa el contenido en bloques\n",
    "    bloques = contenido.split('\\n\\n')\n",
    "    \n",
    "    # Itera a través de cada bloque y busca \"Ganancia maxima\" y \"Plan de entrenamiento\" dentro de cada uno\n",
    "    for bloque in bloques:\n",
    "        nombre_archivo = ''\n",
    "        cantidad_minima = 0\n",
    "        jugadores = []\n",
    "\n",
    "        lineas = bloque.split('\\n')\n",
    "        for linea in lineas:\n",
    "            if \".txt\" in linea:\n",
    "                nombre_archivo = linea\n",
    "            if 'Cantidad' in linea:\n",
    "                cantidad_minima = int(linea.split(\":\")[1].split(\"(\")[0].strip())\n",
    "                jugadores_linea = linea.split(\"(\")[1].split(\")\")[0]\n",
    "                jugadores = [jugador.strip() for jugador in jugadores_linea.split(\",\")]\n",
    "                resultados.append(Resultado(nombre_archivo, cantidad_minima, jugadores))\n",
    "\n",
    "    return resultados\n"
   ]
  },
  {
   "cell_type": "markdown",
   "metadata": {},
   "source": [
    "### Sets de datos"
   ]
  },
  {
   "cell_type": "code",
   "execution_count": 107,
   "metadata": {},
   "outputs": [],
   "source": [
    "#Paths de los archivos de la catedra\n",
    "path_5 = 'sets/sets de la catedra/5.txt'\n",
    "path_7 = 'sets/sets de la catedra/7.txt'\n",
    "path_10_pocos = 'sets/sets de la catedra/10_pocos.txt'\n",
    "path_10_todos = 'sets/sets de la catedra/10_todos.txt'\n",
    "path_10_varios = 'sets/sets de la catedra/10_varios.txt'\n",
    "path_15 = 'sets/sets de la catedra/15.txt'\n",
    "path_20 = 'sets/sets de la catedra/20.txt'\n",
    "path_50 = 'sets/sets de la catedra/50.txt'\n",
    "path_75 = 'sets/sets de la catedra/75.txt'\n",
    "path_100 = 'sets/sets de la catedra/100.txt'\n",
    "path_200 = 'sets/sets de la catedra/200.txt'\n",
    "resultados_sets_catedra = 'sets/sets de la catedra/Resultados Esperados.txt'"
   ]
  },
  {
   "cell_type": "markdown",
   "metadata": {},
   "source": [
    "#### Creación sets de datos propios"
   ]
  },
  {
   "cell_type": "code",
   "execution_count": 108,
   "metadata": {},
   "outputs": [],
   "source": [
    "import random\n",
    "\n",
    "random.seed(0)\n",
    "\n",
    "pedidos_de_prensa_max, _ = obtener_preseleccion_y_pedidos_de_la_prensa(path_200)\n",
    "universe = list(set([pedido for pedidos in pedidos_de_prensa_max for pedido in pedidos]))\n",
    "\n",
    "def generar_instancia(universe_size, num_sets, max_set_size):\n",
    "    sets = [{universe[random.randint(1, universe_size)] for _ in range(random.randint(1, max_set_size))} for _ in range(num_sets)]\n",
    "    return sets\n",
    "\n",
    "sets_5 = generar_instancia(30, 5, 6)\n",
    "sets_15 = generar_instancia(30, 15, 15)\n",
    "sets_15_un_elemento = generar_instancia(30, 15, 1)\n",
    "sets_20 = generar_instancia(30, 20, 6)\n",
    "sets_50 = generar_instancia(30, 50, 2)\n",
    "\n",
    "def crear_archivos(sets, nombre_archivo):\n",
    "    with open(nombre_archivo, 'w') as archivo:\n",
    "        for set in sets:\n",
    "            archivo.write(','.join(set) + '\\n')\n",
    "\n",
    "crear_archivos(sets_5, 'sets/nuestros/5.txt')\n",
    "crear_archivos(sets_15, 'sets/nuestros/15.txt')\n",
    "crear_archivos(sets_15_un_elemento, 'sets/nuestros/15_un_elemento.txt')\n",
    "crear_archivos(sets_20, 'sets/nuestros/20.txt')\n",
    "crear_archivos(sets_50, 'sets/nuestros/50.txt')\n"
   ]
  },
  {
   "cell_type": "code",
   "execution_count": 109,
   "metadata": {},
   "outputs": [],
   "source": [
    "#Paths de los archivos nuestros\n",
    "path_5_nuestro = 'sets/nuestros/5.txt'\n",
    "path_15_nuestro = 'sets/nuestros/15.txt'\n",
    "path_15_un_elemento_nuestro = 'sets/nuestros/15_un_elemento.txt'\n",
    "path_20_nuestro = 'sets/nuestros/20.txt'\n",
    "path_50_nuestro = 'sets/nuestros/50.txt'"
   ]
  },
  {
   "cell_type": "markdown",
   "metadata": {},
   "source": [
    "#### Obtención pedidos de la prensa y preselección"
   ]
  },
  {
   "cell_type": "code",
   "execution_count": 133,
   "metadata": {},
   "outputs": [],
   "source": [
    "# Sets de la catedra\n",
    "pedidos_prensa_5, preseleccion_5 = obtener_preseleccion_y_pedidos_de_la_prensa(path_5)\n",
    "pedidos_prensa_7, preseleccion_7 = obtener_preseleccion_y_pedidos_de_la_prensa(path_7)\n",
    "pedidos_prensa_10_pocos, preseleccion_10_pocos = obtener_preseleccion_y_pedidos_de_la_prensa(path_10_pocos)\n",
    "pedidos_prensa_10_todos, preseleccion_10_todos = obtener_preseleccion_y_pedidos_de_la_prensa(path_10_todos)\n",
    "pedidos_prensa_10_varios, preseleccion_10_varios = obtener_preseleccion_y_pedidos_de_la_prensa(path_10_varios)\n",
    "pedidos_prensa_15, preseleccion_15 = obtener_preseleccion_y_pedidos_de_la_prensa(path_15)\n",
    "pedidos_prensa_20, preseleccion_20 = obtener_preseleccion_y_pedidos_de_la_prensa(path_20)\n",
    "pedidos_prensa_50, preseleccion_50 = obtener_preseleccion_y_pedidos_de_la_prensa(path_50)\n",
    "pedidos_prensa_75, preseleccion_75 = obtener_preseleccion_y_pedidos_de_la_prensa(path_75)\n",
    "pedidos_prensa_100, preseleccion_100 = obtener_preseleccion_y_pedidos_de_la_prensa(path_100)\n",
    "pedidos_prensa_200, preseleccion_200 = obtener_preseleccion_y_pedidos_de_la_prensa(path_200)\n",
    "\n",
    "# Resultados esperados\n",
    "resultados_esperados = obtener_resultados_esperados(resultados_sets_catedra)\n",
    "pedidos_prensa = [pedidos_prensa_5, pedidos_prensa_7, pedidos_prensa_10_pocos,pedidos_prensa_10_varios,\\\n",
    "                  pedidos_prensa_10_todos, pedidos_prensa_15, pedidos_prensa_20, pedidos_prensa_50,\\\n",
    "                  pedidos_prensa_75, pedidos_prensa_100, pedidos_prensa_200]\n",
    "\n",
    "# Sets nuestros\n",
    "pedidos_prensa_5_nuestro, preseleccion_5_nuestro = obtener_preseleccion_y_pedidos_de_la_prensa(path_5_nuestro)\n",
    "pedidos_prensa_15_nuestro, preseleccion_15_nuestro = obtener_preseleccion_y_pedidos_de_la_prensa(path_15_nuestro)\n",
    "pedidos_prensa_15_un_elemento_nuestro, preseleccion_15_un_elemento_nuestro = obtener_preseleccion_y_pedidos_de_la_prensa(path_15_un_elemento_nuestro)\n",
    "pedidos_prensa_20_nuestro, preseleccion_20_nuestro = obtener_preseleccion_y_pedidos_de_la_prensa(path_20_nuestro)\n",
    "pedidos_prensa_50_nuestro, preseleccion_50_nuestro = obtener_preseleccion_y_pedidos_de_la_prensa(path_50_nuestro)\n",
    "\n",
    "archivos_nuestros = ['5.txt', '15.txt', '15_un_elemento.txt', '20.txt', '50.txt']\n",
    "pedidos_prensa_nuestro = [pedidos_prensa_5_nuestro, pedidos_prensa_15_nuestro, pedidos_prensa_15_un_elemento_nuestro,\\\n",
    "                          pedidos_prensa_20_nuestro, pedidos_prensa_50_nuestro]\n"
   ]
  },
  {
   "cell_type": "markdown",
   "metadata": {},
   "source": [
    "### Función verificadora"
   ]
  },
  {
   "cell_type": "code",
   "execution_count": 111,
   "metadata": {},
   "outputs": [],
   "source": [
    "#Tomamos como base la verificación del Hitting-Set Problem. Y lo ajustamos para nuestro problema.\n",
    "def verificar_solucion_para_Scaloni(B, C):\n",
    "    if len(C) == 0:\n",
    "        return False\n",
    "    \n",
    "    satisface_Bi = [False] * len(B)\n",
    "\n",
    "    for c in C:                      # O(#C) \n",
    "        for i in range(len(B)):\n",
    "            if c in B[i]:            # O(#B[i])\n",
    "                satisface_Bi[i] = True\n",
    "\n",
    "    return all(satisface_Bi)      # O(#B) "
   ]
  },
  {
   "cell_type": "markdown",
   "metadata": {},
   "source": [
    "### Solución por Backtracking"
   ]
  },
  {
   "cell_type": "code",
   "execution_count": 112,
   "metadata": {},
   "outputs": [
    {
     "name": "stdout",
     "output_type": "stream",
     "text": [
      "(['Colidio', \"Barcon't\"], 0.011459589004516602)\n"
     ]
    }
   ],
   "source": [
    "import time\n",
    "\n",
    "def conjunto_minimo_para_Scaloni(preseleccion, solucion_actual, pedidos_de_prensa, indice, solucion, max_jugadores):\n",
    "    cantidad_de_jugadores = len(solucion_actual)\n",
    "    \n",
    "    if(cantidad_de_jugadores >= len(pedidos_de_prensa) or cantidad_de_jugadores >= max_jugadores):\n",
    "        return \n",
    "    \n",
    "    for i in range(indice, (len(preseleccion)-1)):\n",
    "        solucion_actual.append(preseleccion[(i)])\n",
    "        if verificar_solucion_para_Scaloni(pedidos_de_prensa, solucion_actual):\n",
    "            if len(solucion_actual) < len(solucion) or len(solucion) == 0:\n",
    "                solucion[:] = solucion_actual\n",
    "        conjunto_minimo_para_Scaloni(preseleccion, solucion_actual, pedidos_de_prensa, i + 1, solucion, max_jugadores)\n",
    "        solucion_actual.remove(solucion_actual[len(solucion_actual) - 1])\n",
    "\n",
    "\n",
    "\n",
    "def solucion_para_Scaloni(preseleccion, pedidos_de_prensa):\n",
    "    solucion = []\n",
    "    solucion_actual = []\n",
    "    tiempo_inicial = time.time()\n",
    "    max_jugadores = len(set([pedido for pedidos in pedidos_de_prensa for pedido in pedidos])) # ver complejidad\n",
    "    conjunto_minimo_para_Scaloni(preseleccion, solucion_actual, pedidos_de_prensa, 0, solucion, max_jugadores)\n",
    "    tiempo_final = time.time()\n",
    "    tiempo_ejecucion = tiempo_final - tiempo_inicial\n",
    "    return solucion, tiempo_ejecucion\n",
    "\n",
    "\n",
    "# Ejemplo de uso\n",
    "archivo_path = path_7\n",
    "pedidos_de_la_prensa, preseleccion = obtener_preseleccion_y_pedidos_de_la_prensa(archivo_path)\n",
    "solucion = solucion_para_Scaloni(preseleccion, pedidos_de_la_prensa)\n",
    "print(solucion)"
   ]
  },
  {
   "cell_type": "markdown",
   "metadata": {},
   "source": [
    "#### Chequeo solución \n",
    "\n",
    "##### 1 - Usando sets de la cátedra"
   ]
  },
  {
   "cell_type": "code",
   "execution_count": 113,
   "metadata": {},
   "outputs": [],
   "source": [
    "# correr pip install tabulate en consola para poder usar esta libreria \n",
    "from tabulate import tabulate"
   ]
  },
  {
   "cell_type": "code",
   "execution_count": 114,
   "metadata": {},
   "outputs": [],
   "source": [
    "solucion_5, tiempo_ejecucion_5 = solucion_para_Scaloni(preseleccion_5, pedidos_prensa_5)\n",
    "solucion_7, tiempo_ejecucion_7 = solucion_para_Scaloni(preseleccion_7, pedidos_prensa_7)\n",
    "solucion_10_pocos, tiempo_ejecucion_10_pocos = solucion_para_Scaloni(preseleccion_10_pocos, pedidos_prensa_10_pocos)\n",
    "solucion_10_varios, tiempo_ejecucion_10_varios = solucion_para_Scaloni(preseleccion_10_varios, pedidos_prensa_10_varios)\n",
    "solucion_10_todos, tiempo_ejecucion_10_todos = solucion_para_Scaloni(preseleccion_10_todos, pedidos_prensa_10_todos)"
   ]
  },
  {
   "cell_type": "code",
   "execution_count": 115,
   "metadata": {},
   "outputs": [],
   "source": [
    "resultados_esperados_reducido = resultados_esperados[:5]\n",
    "resultados_obtenidos = [solucion_5, solucion_7, solucion_10_pocos,solucion_10_varios, solucion_10_todos]\n",
    "tiempos_ejecucion = [tiempo_ejecucion_5, tiempo_ejecucion_7, tiempo_ejecucion_10_pocos, tiempo_ejecucion_10_varios, tiempo_ejecucion_10_todos]"
   ]
  },
  {
   "cell_type": "code",
   "execution_count": 134,
   "metadata": {},
   "outputs": [
    {
     "name": "stdout",
     "output_type": "stream",
     "text": [
      "Archivo          Cantidad mínima esperada    Cantidad mínima obtenida  Se obtuvo el resultado esperado?      Tiempo de ejecución (s)\n",
      "-------------  --------------------------  --------------------------  ----------------------------------  -------------------------\n",
      "5.txt                                   2                           2  Sí                                                 0.00139999\n",
      "7.txt                                   2                           2  Sí                                                 0.00930905\n",
      "10_pocos.txt                            3                           3  Sí                                                 0.682141\n",
      "10_varios.txt                           6                           6  Sí                                                59.7369\n",
      "10_todos.txt                           10                          10  Sí                                               919.637\n"
     ]
    }
   ],
   "source": [
    "# Imprime los resultados obtenidos y los esperados en una tabla\n",
    "resultados = []\n",
    "i = 0\n",
    "for resultado_esperado in resultados_esperados_reducido:\n",
    "  es_correcto = \"Sí\" if resultado_esperado.cantidad_minima == len(resultados_obtenidos[i]) and \\\n",
    "    verificar_solucion_para_Scaloni(pedidos_prensa[i], resultados_obtenidos[i]) else \"No\"\n",
    "  resultados.append([resultado_esperado.nombre_archivo, resultado_esperado.cantidad_minima, len(resultados_obtenidos[i]), es_correcto, tiempos_ejecucion[i]]) \n",
    "  i += 1\n",
    "print(tabulate(resultados, headers=['Archivo', 'Cantidad mínima esperada', 'Cantidad mínima obtenida', 'Se obtuvo el resultado esperado?', 'Tiempo de ejecución (s)']))"
   ]
  },
  {
   "cell_type": "markdown",
   "metadata": {},
   "source": [
    "##### 2 - Usando sets propios"
   ]
  },
  {
   "cell_type": "code",
   "execution_count": 117,
   "metadata": {},
   "outputs": [],
   "source": [
    "solucion_5_nuestro = solucion_para_Scaloni(preseleccion_5_nuestro, pedidos_prensa_5_nuestro)\n",
    "solucion_15_nuestro = solucion_para_Scaloni(preseleccion_15_nuestro, pedidos_prensa_15_nuestro)\n",
    "solucion_15_un_elemento_nuestro = solucion_para_Scaloni(preseleccion_15_un_elemento_nuestro, pedidos_prensa_15_un_elemento_nuestro)\n",
    "solucion_20_nuestro = solucion_para_Scaloni(preseleccion_20_nuestro, pedidos_prensa_20_nuestro)\n",
    "solucion_50_nuestro = solucion_para_Scaloni(preseleccion_50_nuestro, pedidos_prensa_50_nuestro)"
   ]
  },
  {
   "cell_type": "code",
   "execution_count": 151,
   "metadata": {},
   "outputs": [
    {
     "name": "stdout",
     "output_type": "stream",
     "text": [
      "[['Riquelme'], ['Armani'], [\"Barcon't\"], ['Burrito Ortega'], ['Colo Barco'], ['Casco'], ['Chiquito Romero'], ['Cuti Romero'], ['Riquelme'], ['El fantasma de la B'], ['Tucu Pereyra'], ['Simeone'], ['Di Maria'], ['Dybala'], ['Buendia']]\n"
     ]
    }
   ],
   "source": [
    "resultados_obtenidos_nuestros = [solucion_5_nuestro, solucion_15_nuestro, solucion_15_un_elemento_nuestro, solucion_20_nuestro, solucion_50_nuestro]\n",
    "print(preseleccion_15_un_elemento_nuestro)"
   ]
  },
  {
   "cell_type": "code",
   "execution_count": 149,
   "metadata": {},
   "outputs": [
    {
     "name": "stdout",
     "output_type": "stream",
     "text": [
      "(['Cuti Romero', 'Beltran', 'Soule'], 0.002166748046875)\n",
      "(['Messi', 'Casco', 'Palermo', 'El fantasma de la B', 'Chiquito Romero'], 7605.932104349136)\n",
      "([], 0.0520327091217041)\n",
      "(['Messi', 'Armani', 'Casco', 'Simeone', 'Riquelme', 'Pity Martinez'], 3032.278930425644)\n",
      "(['Pezzella', 'Burrito Ortega', 'Messi', 'Cuti Romero', 'Langoni', 'Simeone', 'Chiquito Romero', 'Luka Romero', 'Zapelli', 'Colo Barco', 'Changuito Zeballos', 'Tucu Pereyra', 'Ogro Fabianni', 'Palermo', 'Dibu', 'Mauro Zarate', 'Riquelme', 'Buendia', 'Dybala', 'Armani'], 4992.127532482147)\n",
      "Archivo               Cantidad minima obtenida  Es válida la soliución?      Tiempo de ejecución (s)\n",
      "------------------  --------------------------  -------------------------  -------------------------\n",
      "5.txt                                        3  Sí                                        0.00216675\n",
      "15.txt                                       5  Sí                                     7605.93\n",
      "15_un_elemento.txt                           0  No                                        0.0520327\n",
      "20.txt                                       6  Sí                                     3032.28\n",
      "50.txt                                      20  Sí                                     4992.13\n"
     ]
    }
   ],
   "source": [
    "# Imprime los resultados obtenidos y los esperados en una tabla\n",
    "resultados = []\n",
    "i = 0\n",
    "for resultado_obtenido in resultados_obtenidos_nuestros:\n",
    "  print(resultado_obtenido)\n",
    "  es_correcto = \"Sí\" if verificar_solucion_para_Scaloni(pedidos_prensa_nuestro[i], resultado_obtenido[0]) else \"No\"\n",
    "  resultados.append([archivos_nuestros[i], len(resultado_obtenido[0]), es_correcto,resultado_obtenido[1] ]) \n",
    "  i += 1\n",
    "print(tabulate(resultados, headers=['Archivo', 'Cantidad minima obtenida', 'Es válida la soliución?', 'Tiempo de ejecución (s)']))"
   ]
  },
  {
   "cell_type": "markdown",
   "metadata": {},
   "source": [
    "### Solución por Programación Lineal"
   ]
  },
  {
   "cell_type": "code",
   "execution_count": 120,
   "metadata": {},
   "outputs": [],
   "source": [
    "# pip install pulp\n",
    "import pulp"
   ]
  },
  {
   "cell_type": "markdown",
   "metadata": {},
   "source": [
    "Buscamos minimizar la suma de los elementos del conjunto $C$, tal que se cumpla que para todo $B_i \\in B$, $B_i \\cap C \\neq \\emptyset$.\n",
    "Lo pensamos como que cada jugador es una variable $x_i$ que puede tomar valor 0 o 1. Para cada set se debe cumplir que $x_j = 1$ para algún $j$. Es decir que dadas $n$ ecuaciones, cada una con $m$ variables (que representan a los jugadores), buscamos minimizar la suma de las variables, tal que se cumpla que para cada ecuación, al menos una de las variables es 1."
   ]
  },
  {
   "cell_type": "code",
   "execution_count": 121,
   "metadata": {},
   "outputs": [],
   "source": [
    "def solucion_para_Scaloni_LP(preseleccion, pedidos_de_prensa):\n",
    "    tiempo_inicial = time.time()\n",
    "    prob = pulp.LpProblem(\"Scaloni\", pulp.LpMinimize)\n",
    "    x = pulp.LpVariable.dicts(\"x\", preseleccion, lowBound=0, upBound=1, cat=\"Integer\")\n",
    "    prob += pulp.lpSum([x[i] for i in preseleccion])\n",
    "    for pedido in pedidos_de_prensa:\n",
    "        prob += pulp.lpSum([x[jugador] for jugador in pedido]) >= 1\n",
    "    prob.solve()\n",
    "    solucion = [x[i] for i in preseleccion if x[i].value() == 1]\n",
    "    tiempo_final = time.time()\n",
    "    tiempo_ejecucion = tiempo_final - tiempo_inicial\n",
    "    return solucion, tiempo_ejecucion"
   ]
  },
  {
   "cell_type": "code",
   "execution_count": 122,
   "metadata": {},
   "outputs": [],
   "source": [
    "def arreglar_resultados(resultados):\n",
    "  if isinstance(resultados[0][0], str):\n",
    "    return resultados\n",
    "  for resultado in resultados:\n",
    "    resultado[:] = [jugador.name.replace('x_', '').replace('_', ' ') for jugador in resultado]"
   ]
  },
  {
   "cell_type": "markdown",
   "metadata": {},
   "source": [
    "##### 1 - Sets de la cátedra\n",
    "Chequeamos con todos los sets de la cátedra ya que a diferencia de la solución por backtracking, se puede resolver en un tiempo de ejecución razonable."
   ]
  },
  {
   "cell_type": "code",
   "execution_count": null,
   "metadata": {},
   "outputs": [],
   "source": [
    "solucion_5_lp, tiempo_ejecucion_5_lp = solucion_para_Scaloni_LP(preseleccion_5, pedidos_prensa_5)\n",
    "solucion_7_lp, tiempo_ejecucion_7_lp = solucion_para_Scaloni_LP(preseleccion_7, pedidos_prensa_7)\n",
    "solucion_10_pocos_lp, tiempo_ejecucion_10_pocos_lp = solucion_para_Scaloni_LP(preseleccion_10_pocos, pedidos_prensa_10_pocos)\n",
    "solucion_10_varios_lp, tiempo_ejecucion_10_varios_lp = solucion_para_Scaloni_LP(preseleccion_10_varios, pedidos_prensa_10_varios)\n",
    "solucion_10_todos_lp, tiempo_ejecucion_10_todos_lp = solucion_para_Scaloni_LP(preseleccion_10_todos, pedidos_prensa_10_todos)\n",
    "solucion_15_lp, tiempo_ejecucion_15_lp = solucion_para_Scaloni_LP(preseleccion_15, pedidos_prensa_15)\n",
    "solucion_20_lp, tiempo_ejecucion_20_lp = solucion_para_Scaloni_LP(preseleccion_20, pedidos_prensa_20)\n",
    "solucion_50_lp, tiempo_ejecucion_50_lp = solucion_para_Scaloni_LP(preseleccion_50, pedidos_prensa_50)\n",
    "solucion_75_lp, tiempo_ejecucion_75_lp = solucion_para_Scaloni_LP(preseleccion_75, pedidos_prensa_75)\n",
    "solucion_100_lp, tiempo_ejecucion_100_lp = solucion_para_Scaloni_LP(preseleccion_100, pedidos_prensa_100)\n",
    "solucion_200_lp, tiempo_ejecucion_200_lp = solucion_para_Scaloni_LP(preseleccion_200, pedidos_prensa_200)"
   ]
  },
  {
   "cell_type": "code",
   "execution_count": 135,
   "metadata": {},
   "outputs": [
    {
     "name": "stdout",
     "output_type": "stream",
     "text": [
      "Archivo          Cantidad mínima esperada    Cantidad mínima obtenida  Se obtuvo el resultado esperado?      Tiempo de ejecución (s)\n",
      "-------------  --------------------------  --------------------------  ----------------------------------  -------------------------\n",
      "5.txt                                   2                           2  Sí                                                 0.0127537\n",
      "7.txt                                   2                           2  Sí                                                 0.0107014\n",
      "10_pocos.txt                            3                           3  Sí                                                 0.0112841\n",
      "10_varios.txt                           6                           6  Sí                                                 0.0105374\n",
      "10_todos.txt                           10                          10  Sí                                                 0.00873256\n",
      "15.txt                                  4                           4  Sí                                                 0.0154879\n",
      "20.txt                                  5                           5  Sí                                                 0.0137143\n",
      "50.txt                                  6                           6  Sí                                                 0.019594\n",
      "75.txt                                  8                           8  Sí                                                 0.317014\n",
      "100.txt                                 9                           9  Sí                                                 0.403747\n",
      "200.txt                                 9                           9  Sí                                                 0.978266\n"
     ]
    }
   ],
   "source": [
    "resultados_obtenidos_lp = arreglar_resultados([solucion_5_lp, solucion_7_lp, solucion_10_pocos_lp, solucion_10_varios_lp, solucion_10_todos_lp,\\\n",
    "                        solucion_15_lp, solucion_20_lp,solucion_50_lp, solucion_75_lp, solucion_100_lp, solucion_200_lp])\n",
    "pedidos_prensa_lp = [pedidos_prensa_5, pedidos_prensa_7, pedidos_prensa_10_pocos,\\\n",
    "                          pedidos_prensa_10_varios, pedidos_prensa_10_todos, pedidos_prensa_15,\\\n",
    "                          pedidos_prensa_20, pedidos_prensa_50, pedidos_prensa_75, pedidos_prensa_100,\\\n",
    "                          pedidos_prensa_200]\n",
    "\n",
    "tiempos_ejecucion_lp = [tiempo_ejecucion_5_lp, tiempo_ejecucion_7_lp, tiempo_ejecucion_10_pocos_lp, tiempo_ejecucion_10_varios_lp,\\\n",
    "                      tiempo_ejecucion_10_todos_lp, tiempo_ejecucion_15_lp, tiempo_ejecucion_20_lp, tiempo_ejecucion_50_lp,\\\n",
    "                      tiempo_ejecucion_75_lp, tiempo_ejecucion_100_lp, tiempo_ejecucion_200_lp]\n",
    "\n",
    "# Imprime los resultados obtenidos y los esperados en una tabla\n",
    "resultados_lp = []\n",
    "i = 0\n",
    "for resultado_esperado in resultados_esperados:\n",
    "  es_correcto = \"Sí\" if resultado_esperado.cantidad_minima == len(resultados_obtenidos_lp[i]) and \\\n",
    "    verificar_solucion_para_Scaloni(pedidos_prensa_lp[i],resultados_obtenidos_lp[i]) else \"No\"\n",
    "  resultados_lp.append([resultado_esperado.nombre_archivo, resultado_esperado.cantidad_minima, len(resultados_obtenidos_lp[i]), es_correcto, tiempos_ejecucion_lp[i]]) \n",
    "  i += 1\n",
    "\n",
    "print(tabulate(resultados_lp, headers=['Archivo', 'Cantidad mínima esperada', 'Cantidad mínima obtenida', 'Se obtuvo el resultado esperado?', 'Tiempo de ejecución (s)']))\n"
   ]
  },
  {
   "cell_type": "markdown",
   "metadata": {},
   "source": [
    "##### 2 - Sets propios"
   ]
  },
  {
   "cell_type": "code",
   "execution_count": null,
   "metadata": {},
   "outputs": [],
   "source": [
    "solucion_5_lp_nuestro, tiempo_ejecucion_5_lp_nuestro = solucion_para_Scaloni_LP(preseleccion_5_nuestro, pedidos_prensa_5_nuestro)\n",
    "solucion_15_lp_nuestro, tiempo_ejecucion_15_lp_nuestro = solucion_para_Scaloni_LP(preseleccion_15_nuestro, pedidos_prensa_15_nuestro)\n",
    "solucion_15_un_elemento_lp_nuestro, tiempo_ejecucion_15_un_elemento_lp_nuestro = solucion_para_Scaloni_LP(preseleccion_15_un_elemento_nuestro,\\\n",
    "                                                                                  pedidos_prensa_15_un_elemento_nuestro)\n",
    "solucion_20_lp_nuestro, tiempo_ejecucion_20_lp_nuestro = solucion_para_Scaloni_LP(preseleccion_20_nuestro, pedidos_prensa_20_nuestro)\n",
    "solucion_50_lp_nuestro, tiempo_ejecucion_50_lp_nuestro = solucion_para_Scaloni_LP(preseleccion_50_nuestro, pedidos_prensa_50_nuestro)"
   ]
  },
  {
   "cell_type": "code",
   "execution_count": 147,
   "metadata": {},
   "outputs": [],
   "source": [
    "resultados_obtenidos_nuestros_lp = arreglar_resultados([solucion_5_lp_nuestro, solucion_15_lp_nuestro, solucion_15_un_elemento_lp_nuestro,\\\n",
    "                                              solucion_20_lp_nuestro, solucion_50_lp_nuestro])\n",
    "tiempos_ejecucion_nuestros_lp = [tiempo_ejecucion_5_lp_nuestro, tiempo_ejecucion_15_lp_nuestro, tiempo_ejecucion_15_un_elemento_lp_nuestro,\\\n",
    "                        tiempo_ejecucion_20_lp_nuestro, tiempo_ejecucion_50_lp_nuestro]"
   ]
  },
  {
   "cell_type": "code",
   "execution_count": 148,
   "metadata": {},
   "outputs": [
    {
     "name": "stdout",
     "output_type": "stream",
     "text": [
      "Archivo               Cantidad mínima obtenida  Es válida?      Tiempo de ejecución (s)\n",
      "------------------  --------------------------  ------------  -------------------------\n",
      "5.txt                                        3  Sí                           0.0127537\n",
      "15.txt                                       4  Sí                           0.0107014\n",
      "15_un_elemento.txt                          14  Sí                           0.0112841\n",
      "20.txt                                       6  Sí                           0.0105374\n",
      "50.txt                                      20  Sí                           0.00873256\n"
     ]
    }
   ],
   "source": [
    "# Imprime los resultados obtenidos y los esperados en una tabla\n",
    "resultados_lp_nuestros = []\n",
    "i = 0\n",
    "for resultado_obtenido in resultados_obtenidos_nuestros_lp:\n",
    "  es_correcto = \"Sí\" if verificar_solucion_para_Scaloni(pedidos_prensa_nuestro[i],resultados_obtenidos_nuestros_lp[i]) else \"No\"\n",
    "  resultados_lp_nuestros.append([archivos_nuestros[i], len(resultados_obtenidos_nuestros_lp[i]), es_correcto, tiempos_ejecucion_lp[i]]) \n",
    "  i += 1\n",
    "\n",
    "print(tabulate(resultados_lp_nuestros, headers=['Archivo', 'Cantidad mínima obtenida', 'Es válida?', 'Tiempo de ejecución (s)']))\n"
   ]
  }
 ],
 "metadata": {
  "kernelspec": {
   "display_name": "Python 3",
   "language": "python",
   "name": "python3"
  },
  "language_info": {
   "codemirror_mode": {
    "name": "ipython",
    "version": 3
   },
   "file_extension": ".py",
   "mimetype": "text/x-python",
   "name": "python",
   "nbconvert_exporter": "python",
   "pygments_lexer": "ipython3",
   "version": "3.10.12"
  }
 },
 "nbformat": 4,
 "nbformat_minor": 2
}
