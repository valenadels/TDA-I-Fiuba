{
 "cells": [
  {
   "cell_type": "markdown",
   "metadata": {},
   "source": [
    "# Resolución TP1 TDA\n",
    "Probamos los sets de prueba brindados por la cátedra con diferentes criterios greedy"
   ]
  },
  {
   "cell_type": "markdown",
   "metadata": {},
   "source": [
    "Definimos aquellas funciones a utilizar en los diferentes criterios, relacionadas con la carga de los datos, ordenamiento, y cálculo del resultado."
   ]
  },
  {
   "cell_type": "code",
   "execution_count": 1,
   "metadata": {},
   "outputs": [],
   "source": [
    "# Leemos el archivo de entrada y devolvemos una lista de tuplas con los tiempos de cada tarea \n",
    "# de la forma (si, ai)\n",
    "def obtener_tiempos(path):\n",
    "    with open(path, \"r\") as archivo:\n",
    "        lineas = archivo.readlines()\n",
    "\n",
    "    tiempos = []\n",
    "    i = 0\n",
    "\n",
    "    for linea in lineas:\n",
    "        if (i == 0):\n",
    "            i += 1\n",
    "            continue\n",
    "        valores = linea.strip().split(',')\n",
    "        tupla = (int(valores[0]), int(valores[1]))\n",
    "        tiempos.append(tupla)\n",
    "\n",
    "    return tiempos"
   ]
  },
  {
   "cell_type": "code",
   "execution_count": 2,
   "metadata": {},
   "outputs": [],
   "source": [
    "#Criterios de ordenamiento a utilizar\n",
    "sort_by_ai = lambda x: x[1]\n",
    "sort_by_si = lambda x: x[0]\n",
    "sort_by_ai_si = lambda x: x[1]/x[0]\n",
    "\n",
    "#Paths de los archivos a utilizar\n",
    "path_3_compilados = 'sets/catedra/3 elem.txt'\n",
    "path_10_compilados = 'sets/catedra/10 elem.txt'\n",
    "path_100_compilados = 'sets/catedra/100 elem.txt'\n",
    "path_10000_compilados = 'sets/catedra/10000 elem.txt'\n",
    "path_tiempos_optimos = 'sets/catedra/Tiempos optimos.txt'\n",
    "path_contraejemplo_si = 'sets/nuestros/contraej si.txt'\n",
    "path_repeticiones = 'sets/nuestros/set con repetidos.txt'\n",
    "path_todas_repeticiones_ayudantes = 'sets/nuestros/set con todos los ayudantes repetidos.txt'"
   ]
  },
  {
   "cell_type": "code",
   "execution_count": 3,
   "metadata": {},
   "outputs": [],
   "source": [
    "# Ordena la lista de tuplas (s_i, a_i) por el criterio pasado por parametro\n",
    "# de manera ascendente o descendente según el valor de reverse.\n",
    "# Devuelve la lista ordenada según dicho criterio.\n",
    "def ordenar_tupla(criterio, tiempos, reverse = False):\n",
    "    tiempos.sort(key = criterio, reverse = reverse)  #justificar O(nlogn )\n",
    "    return tiempos"
   ]
  },
  {
   "cell_type": "code",
   "execution_count": 4,
   "metadata": {},
   "outputs": [],
   "source": [
    "# Obtiene el tiempo en el que se termina de analizar el último video\n",
    "# Ejemplo:\n",
    "#    1,8 -> termina en el min 9\n",
    "#    3,3 -> termina en el min 7\n",
    "#    5,1 -> termina en el min 10 -> total = 10\n",
    "\n",
    "def tiempo_total(tiempos):\n",
    "    total_scaloni = 0\n",
    "    tiempos_por_video = []\n",
    "    for tupla in tiempos:\n",
    "        total_scaloni += tupla[0]\n",
    "        tiempos_por_video.append(total_scaloni + tupla[1])\n",
    "    return max(tiempos_por_video) "
   ]
  },
  {
   "cell_type": "code",
   "execution_count": 5,
   "metadata": {},
   "outputs": [],
   "source": [
    "# Obtiene los tiempos óptimos formateados esperados para cada set de datos.\n",
    "def tiempos_optimos(path):\n",
    "    with open(path, \"r\") as archivo:\n",
    "        lineas = archivo.readlines()\n",
    "    \n",
    "    tiempos = []\n",
    "    i = 0\n",
    "    for linea in lineas:\n",
    "        if (i == 0):\n",
    "            i += 1\n",
    "            continue\n",
    "        tiempo = linea.strip()\n",
    "        tiempos.append(tiempo)\n",
    "    return tiempos"
   ]
  },
  {
   "cell_type": "code",
   "execution_count": 6,
   "metadata": {},
   "outputs": [],
   "source": [
    "# Obtiene los tiempos óptimos sin formato (el valor entero) para cada set de datos.\n",
    "def obtener_valores_optimos(resultados_optimos):\n",
    "    valores = []\n",
    "    for resultado in resultados_optimos:\n",
    "        resultado = resultado.split(':')\n",
    "        valores.append(int(resultado[1]))\n",
    "    return valores\n",
    "   "
   ]
  },
  {
   "cell_type": "markdown",
   "metadata": {},
   "source": [
    "Cargamos todos los sets a utilizar"
   ]
  },
  {
   "cell_type": "code",
   "execution_count": 7,
   "metadata": {},
   "outputs": [],
   "source": [
    "tiempos_n3 = obtener_tiempos(path_3_compilados)\n",
    "tiempos_n10 = obtener_tiempos(path_10_compilados)\n",
    "tiempos_n100 = obtener_tiempos(path_100_compilados)\n",
    "tiempos_n10000 = obtener_tiempos(path_10000_compilados)\n",
    "resultados_optimos = tiempos_optimos(path_tiempos_optimos)\n",
    "valores_optimos = obtener_valores_optimos(resultados_optimos)\n",
    "tiempos_contraej_si = obtener_tiempos(path_contraejemplo_si)\n",
    "repeticiones = obtener_tiempos(path_repeticiones)\n",
    "repeticiones_ayudantes = obtener_tiempos(path_todas_repeticiones_ayudantes)"
   ]
  },
  {
   "cell_type": "code",
   "execution_count": 8,
   "metadata": {},
   "outputs": [],
   "source": [
    "#Función para calcular por fuerza bruta cual es el óptimo\n",
    "from itertools import permutations\n",
    "\n",
    "def calcular_optimo(n, s_i, a_i):\n",
    "    permutations_indices = permutations(range(n))\n",
    "\n",
    "    tiempo_minimo = float('inf')\n",
    "\n",
    "    for perm_indices in permutations_indices:\n",
    "        orden_rivales = [(s_i[i], a_i[i]) for i in perm_indices]\n",
    "        tiempo = tiempo_total(orden_rivales)\n",
    "        if tiempo < tiempo_minimo:\n",
    "            tiempo_minimo = tiempo\n",
    "    return tiempo_minimo"
   ]
  },
  {
   "cell_type": "markdown",
   "metadata": {},
   "source": [
    "### 1 - Tomamos como próximo al video que menos tiempo le lleve a Scaloni"
   ]
  },
  {
   "cell_type": "code",
   "execution_count": 9,
   "metadata": {},
   "outputs": [
    {
     "name": "stdout",
     "output_type": "stream",
     "text": [
      "Primer caso de prueba: [(3, 3), (5, 1), (1, 8)]\n",
      "Tiempo total para 3 compilados: 10\n",
      "Tiempo óptimo para 3 elementos: 10\n",
      "En este caso nos dió bien, pero mostramos un contraejemplo:\n",
      "Contraejemplo: [(3, 3), (5, 8), (1, 1)]\n",
      "Tiempo total para contraejemplo: 17\n",
      "Ese resultado no es el óptimo, porque por ejemplo:\n",
      " Si tomamos las tareas en este orden [(5, 8), (1, 1), (3, 3)] nos da un tiempo total de 13 que es menor a 17.\n"
     ]
    }
   ],
   "source": [
    "print(f\"Primer caso de prueba: {tiempos_n3}\")\n",
    "tiempos_n3_ordenados = ordenar_tupla(sort_by_si, tiempos_n3)\n",
    "\n",
    "print(f\"Tiempo total para 3 compilados: {tiempo_total(tiempos_n3_ordenados)}\")\n",
    "print(f\"Tiempo óptimo para {resultados_optimos[0]}\")\n",
    "\n",
    "print(\"En este caso nos dió bien, pero mostramos un contraejemplo:\")\n",
    "\n",
    "print(f\"Contraejemplo: {tiempos_contraej_si}\")\n",
    "tiempos_contraej_ordenados = ordenar_tupla(sort_by_si, tiempos_contraej_si)\n",
    "print(f\"Tiempo total para contraejemplo: {tiempo_total(tiempos_contraej_ordenados)}\")\n",
    "print(f\"Ese resultado no es el óptimo, porque por ejemplo:\\n Si tomamos las tareas en este orden [(5, 8), (1, 1), (3, 3)] nos da un tiempo total de 13 que es menor a 17.\")"
   ]
  },
  {
   "cell_type": "markdown",
   "metadata": {},
   "source": [
    "Vemos que esta solución no nos da la óptima siempre. Esto es justamente por un caso como el contraejemplo presentado, en donde el último ayudante tarda mucho!"
   ]
  },
  {
   "cell_type": "markdown",
   "metadata": {},
   "source": [
    "### 2 - Tomamos como próximo al video que más tiempo le lleve a Scaloni"
   ]
  },
  {
   "cell_type": "code",
   "execution_count": 10,
   "metadata": {},
   "outputs": [
    {
     "name": "stdout",
     "output_type": "stream",
     "text": [
      "Primer caso de prueba: [(1, 8), (3, 3), (5, 1)]\n",
      "Tiempo total para 3 compilados: 17\n",
      "Tiempo óptimo para 3 elementos: 10\n",
      "Es optimo? False\n",
      "\n",
      "Como podemos observar, el tiempo total es mayor al óptimo. Esto se debe a que al no estar teniendose en consideración el tiempo que tardan \n",
      "los atudantes en ver los videos, se puede dar el caso donde el último video que se vea por parte de Scaloni (menos tarda en analizar) \n",
      "sea uno en el cual los ayudantes tardan mucho en ver. En este caso, el ultimo video que analiza Scaloni es justamente en el que más tardan los ayudantes.\n",
      "\n"
     ]
    }
   ],
   "source": [
    "print(f\"Primer caso de prueba: {tiempos_n3}\")\n",
    "tiempos_n3_ordenados = ordenar_tupla(sort_by_si, tiempos_n3, True)\n",
    "\n",
    "print(f\"Tiempo total para 3 compilados: {tiempo_total(tiempos_n3_ordenados)}\")\n",
    "print(f\"Tiempo óptimo para {resultados_optimos[0]}\")\n",
    "print(f\"Es optimo? {tiempos_n3_ordenados ==  valores_optimos[0]}\\n\")\n",
    "\n",
    "print(\"Como podemos observar, el tiempo total es mayor al óptimo. Esto se debe a que al no estar teniendose en consideración el tiempo que tardan \\n\\\n",
    "los atudantes en ver los videos, se puede dar el caso donde el último video que se vea por parte de Scaloni (menos tarda en analizar) \\n\\\n",
    "sea uno en el cual los ayudantes tardan mucho en ver. En este caso, el ultimo video que analiza Scaloni es justamente en el que más tardan los ayudantes.\\n\")"
   ]
  },
  {
   "cell_type": "markdown",
   "metadata": {},
   "source": [
    "### 3 - Tomamos como próximo al video de mayor a menor según la relación a_i/s_i"
   ]
  },
  {
   "cell_type": "code",
   "execution_count": 11,
   "metadata": {},
   "outputs": [
    {
     "name": "stdout",
     "output_type": "stream",
     "text": [
      "Tiempo total para 3 compilados: 10\n",
      "Tiempo óptimo para 3 elementos: 10\n",
      "Es optimo? True\n",
      "\n",
      "Tiempo total para 10 compilados: 29\n",
      "Tiempo óptimo para 10 elementos: 29\n",
      "Es optimo? True\n",
      "\n",
      "Tiempo total para 100 compilados: 5226\n",
      "Tiempo óptimo para 100 elementos: 5223\n",
      "Es optimo? False\n",
      "\n",
      "Tiempo total para 10000 compilados: 497886767\n",
      "Tiempo óptimo para 10000 elementos: 497886735\n",
      "Es optimo? False\n",
      "\n"
     ]
    }
   ],
   "source": [
    "tiempos_n3_ordenados = ordenar_tupla(sort_by_ai_si, tiempos_n3, True)\n",
    "tiempo_n3_total = tiempo_total(tiempos_n3_ordenados)\n",
    "print(f\"Tiempo total para 3 compilados: {tiempo_n3_total}\")\n",
    "print(f\"Tiempo óptimo para {resultados_optimos[0]}\")\n",
    "print(f\"Es optimo? {tiempo_n3_total == valores_optimos[0]}\\n\")\n",
    "\n",
    "tiempos_n10_ordenados = ordenar_tupla(sort_by_ai_si, tiempos_n10, True)\n",
    "tiempo_n10_total = tiempo_total(tiempos_n10_ordenados)\n",
    "print(f\"Tiempo total para 10 compilados: {tiempo_n10_total}\")\n",
    "print(f\"Tiempo óptimo para {resultados_optimos[1]}\")\n",
    "print(f\"Es optimo? {tiempo_n10_total ==  valores_optimos[1]}\\n\")\n",
    "\n",
    "tiempos_n100_ordenados = ordenar_tupla(sort_by_ai_si, tiempos_n100, True)\n",
    "tiempo_n100_total = tiempo_total(tiempos_n100_ordenados)\n",
    "print(f\"Tiempo total para 100 compilados: {tiempo_n100_total}\")\n",
    "print(f\"Tiempo óptimo para {resultados_optimos[2]}\")\n",
    "print(f\"Es optimo? {tiempo_n100_total ==  valores_optimos[2]}\\n\")\n",
    "\n",
    "tiempos_n10000_ordenados = ordenar_tupla(sort_by_ai_si, tiempos_n10000, True)\n",
    "tiempo_n10000_total = tiempo_total(tiempos_n10000_ordenados)\n",
    "print(f\"Tiempo total para 10000 compilados: {tiempo_n10000_total}\")\n",
    "print(f\"Tiempo óptimo para {resultados_optimos[3]}\")\n",
    "print(f\"Es optimo? {tiempo_n10000_total ==  valores_optimos[3]}\\n\")"
   ]
  },
  {
   "cell_type": "markdown",
   "metadata": {},
   "source": [
    "### 4 - Tomamos como próximo al video que más tiempo le lleve a los Ayudantes"
   ]
  },
  {
   "cell_type": "code",
   "execution_count": 12,
   "metadata": {},
   "outputs": [
    {
     "name": "stdout",
     "output_type": "stream",
     "text": [
      "Tiempo total para 3 compilados: 10\n",
      "Tiempo óptimo para 3 elementos: 10\n",
      "Es optimo? True\n",
      "\n",
      "Tiempo total para 10 compilados: 29\n",
      "Tiempo óptimo para 10 elementos: 29\n",
      "Es optimo? True\n",
      "\n",
      "Tiempo total para 100 compilados: 5223\n",
      "Tiempo óptimo para 100 elementos: 5223\n",
      "Es optimo? True\n",
      "\n",
      "Tiempo total para 10000 compilados: 497886735\n",
      "Tiempo óptimo para 10000 elementos: 497886735\n",
      "Es optimo? True\n",
      "\n"
     ]
    }
   ],
   "source": [
    "tiempos_n3_ordenados = ordenar_tupla(sort_by_ai, tiempos_n3, True)\n",
    "tiempo_n3_total = tiempo_total(tiempos_n3_ordenados)\n",
    "print(f\"Tiempo total para 3 compilados: {tiempo_n3_total}\")\n",
    "print(f\"Tiempo óptimo para {resultados_optimos[0]}\")\n",
    "print(f\"Es optimo? {tiempo_n3_total == valores_optimos[0]}\\n\")\n",
    "\n",
    "tiempos_n10_ordenados = ordenar_tupla(sort_by_ai, tiempos_n10, True)\n",
    "tiempo_n10_total = tiempo_total(tiempos_n10_ordenados)\n",
    "print(f\"Tiempo total para 10 compilados: {tiempo_n10_total}\")\n",
    "print(f\"Tiempo óptimo para {resultados_optimos[1]}\")\n",
    "print(f\"Es optimo? {tiempo_n10_total ==  valores_optimos[1]}\\n\")\n",
    "\n",
    "tiempos_n100_ordenados = ordenar_tupla(sort_by_ai, tiempos_n100, True)\n",
    "tiempo_n100_total = tiempo_total(tiempos_n100_ordenados)\n",
    "print(f\"Tiempo total para 100 compilados: {tiempo_n100_total}\")\n",
    "print(f\"Tiempo óptimo para {resultados_optimos[2]}\")\n",
    "print(f\"Es optimo? {tiempo_n100_total ==  valores_optimos[2]}\\n\")\n",
    "\n",
    "tiempos_n10000_ordenados = ordenar_tupla(sort_by_ai, tiempos_n10000, True)\n",
    "tiempo_n10000_total = tiempo_total(tiempos_n10000_ordenados)\n",
    "print(f\"Tiempo total para 10000 compilados: {tiempo_n10000_total}\")\n",
    "print(f\"Tiempo óptimo para {resultados_optimos[3]}\")\n",
    "print(f\"Es optimo? {tiempo_n10000_total ==  valores_optimos[3]}\\n\")"
   ]
  },
  {
   "cell_type": "markdown",
   "metadata": {},
   "source": [
    "Llegamos a la solución óptima. Explicación: El tiempo no se ve afectado por cuánto tarde Scaloni, porque suponiendo una situación ideal en donde los ayudantes tarden 0min en revisar los compilados, daría igual el orden en el que se analizen, el tiempo total siempre sería la suma de los s_i.\n",
    "Por lo tanto, depende sólo de los tiempos de los ayudantes. ¿Por qué tomar el próximo video que más le lleve ver? Esto es para que mientras que uno lo analiza, se puedan ir analizando otros al mismo tiempo. Si dejáramos para el final el de mayor a_i nos tardaría mucho más."
   ]
  },
  {
   "cell_type": "markdown",
   "metadata": {},
   "source": [
    "### 5 - Tests con Sets Propios"
   ]
  },
  {
   "cell_type": "markdown",
   "metadata": {},
   "source": [
    "Calculamos en primer lugar los óptimos para nuestros sets de datos. Estos valores son los que nos debería dar nuestro algoritmo Greedy."
   ]
  },
  {
   "cell_type": "code",
   "execution_count": 13,
   "metadata": {},
   "outputs": [],
   "source": [
    "def optimos_fuerza_bruta(tiempos):\n",
    "    return calcular_optimo(len(tiempos), [tupla[0] for tupla in tiempos], [tupla[1] for tupla in tiempos])"
   ]
  },
  {
   "cell_type": "code",
   "execution_count": 14,
   "metadata": {},
   "outputs": [],
   "source": [
    "def calcular_y_mostrar_resultados(datos):\n",
    "    tiempos_con_repeticiones_ordenados = ordenar_tupla(sort_by_ai, datos, True)\n",
    "    tiempo_repetidos_total = tiempo_total(tiempos_con_repeticiones_ordenados)\n",
    "    optimo = optimos_fuerza_bruta(datos)\n",
    "    \n",
    "    print(f\"Tiempo total para videos con repeticiones con algoritmo Greedy: {tiempo_repetidos_total}\")\n",
    "    print(f\"Tiempo óptimo para videos con tiempos repetidos: {optimo}\")\n",
    "    print(f\"¿Es óptimo? {tiempo_repetidos_total == optimo}\\n\")"
   ]
  },
  {
   "cell_type": "markdown",
   "metadata": {},
   "source": [
    "Nos fue de interés ver qué sucedía con sets de datos con repeticiones. \n",
    "En primer lugar probaremos el caso en el que algunos se repiten, tanto para Scaloni como para sus ayudantes."
   ]
  },
  {
   "cell_type": "code",
   "execution_count": 15,
   "metadata": {},
   "outputs": [
    {
     "name": "stdout",
     "output_type": "stream",
     "text": [
      "Tiempo total para videos con repeticiones con algoritmo Greedy: 27\n",
      "Tiempo óptimo para videos con tiempos repetidos: 27\n",
      "¿Es óptimo? True\n",
      "\n"
     ]
    }
   ],
   "source": [
    "calcular_y_mostrar_resultados(repeticiones)"
   ]
  },
  {
   "cell_type": "markdown",
   "metadata": {},
   "source": [
    "Ahora vamos a analizar si la solución es óptima cuando todos los vídeos demoran lo mismo para los ayudantes."
   ]
  },
  {
   "cell_type": "code",
   "execution_count": 16,
   "metadata": {},
   "outputs": [
    {
     "name": "stdout",
     "output_type": "stream",
     "text": [
      "Tiempo total para videos con repeticiones con algoritmo Greedy: 27\n",
      "Tiempo óptimo para videos con tiempos repetidos: 27\n",
      "¿Es óptimo? True\n",
      "\n"
     ]
    }
   ],
   "source": [
    "calcular_y_mostrar_resultados(repeticiones_ayudantes)"
   ]
  },
  {
   "cell_type": "markdown",
   "metadata": {},
   "source": [
    "A continuación dejamos armado un entorno de ejecución para que puedan probar el algoritmo con cualquier set de datos:"
   ]
  },
  {
   "cell_type": "code",
   "execution_count": 17,
   "metadata": {},
   "outputs": [
    {
     "name": "stdout",
     "output_type": "stream",
     "text": [
      "Tiempo total para el set de videos customizado, otorgado por el usuario, con algoritmo Greedy: 10\n"
     ]
    }
   ],
   "source": [
    "def calcular_y_mostrar_resultados(datos):\n",
    "    tiempos_ordenados = ordenar_tupla(sort_by_ai, datos, True)\n",
    "    tiempo_optimo = tiempo_total(tiempos_ordenados)\n",
    "\n",
    "    print(f\"Tiempo total para el set de videos customizado, otorgado por el usuario, con algoritmo Greedy: {tiempo_optimo}\")\n",
    "\n",
    "path_customizado = 'sets/catedra/3 elem.txt' #CAMBIAR EL PATH\n",
    "tiempos_customizados = obtener_tiempos(path_customizado)\n",
    "calcular_y_mostrar_resultados(tiempos_customizados)"
   ]
  }
 ],
 "metadata": {
  "kernelspec": {
   "display_name": "Python 3",
   "language": "python",
   "name": "python3"
  },
  "language_info": {
   "codemirror_mode": {
    "name": "ipython",
    "version": 3
   },
   "file_extension": ".py",
   "mimetype": "text/x-python",
   "name": "python",
   "nbconvert_exporter": "python",
   "pygments_lexer": "ipython3",
   "version": "3.10.12"
  },
  "orig_nbformat": 4
 },
 "nbformat": 4,
 "nbformat_minor": 2
}
