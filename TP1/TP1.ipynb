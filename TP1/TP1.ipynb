{
 "cells": [
  {
   "cell_type": "markdown",
   "metadata": {},
   "source": [
    "# Resolución TP1 TDA\n",
    "Probamos los sets de prueba brindados por la cátedra con diferentes criterios greedy"
   ]
  },
  {
   "cell_type": "markdown",
   "metadata": {},
   "source": [
    "Definimos aquellas funciones a utilizar en los diferentes criterios, relacionadas con la carga de los datos, ordenamiento, y cálculo del resultado."
   ]
  },
  {
   "cell_type": "code",
   "execution_count": 65,
   "metadata": {},
   "outputs": [],
   "source": [
    "# Leemos el archivo de entrada y devolvemos una lista de tuplas con los tiempos de cada tarea \n",
    "# de la forma (si, ai)\n",
    "def obtener_tiempos(path):\n",
    "    with open(path, \"r\") as archivo:\n",
    "        lineas = archivo.readlines()\n",
    "\n",
    "    tiempos = []\n",
    "    i = 0\n",
    "\n",
    "    for linea in lineas:\n",
    "        if (i == 0):\n",
    "            i += 1\n",
    "            continue\n",
    "        valores = linea.strip().split(',')\n",
    "        tupla = (int(valores[0]), int(valores[1]))\n",
    "        tiempos.append(tupla)\n",
    "\n",
    "    return tiempos"
   ]
  },
  {
   "cell_type": "code",
   "execution_count": 131,
   "metadata": {},
   "outputs": [],
   "source": [
    "#Criterios de ordenamiento a utilizar\n",
    "sort_by_ai = lambda x: x[1]\n",
    "sort_by_si = lambda x: x[0]\n",
    "sort_by_ai_si = lambda x: x[1]/x[0]\n",
    "\n",
    "#Paths de los archivos a utilizar\n",
    "path_3_compilados = 'sets/catedra/3 elem.txt'\n",
    "path_10_compilados = 'sets/catedra/10 elem.txt'\n",
    "path_100_compilados = 'sets/catedra/100 elem.txt'\n",
    "path_10000_compilados = 'sets/catedra/10000 elem.txt'\n",
    "path_tiempos_optimos = 'sets/catedra/Tiempos optimos.txt'\n",
    "path_contraejemplo_si = 'sets/nuestros/contraej si.txt'"
   ]
  },
  {
   "cell_type": "code",
   "execution_count": 42,
   "metadata": {},
   "outputs": [],
   "source": [
    "# Función para ordenar según un criterio. \n",
    "# Tiempos es una lista de tuplas (s_i, a_i)\n",
    "def ordenar_tupla(criterio, tiempos, reverse = False):\n",
    "    tiempos.sort(key = criterio, reverse = reverse)  #justificar O(nlogn )\n",
    "    return tiempos"
   ]
  },
  {
   "cell_type": "code",
   "execution_count": 87,
   "metadata": {},
   "outputs": [],
   "source": [
    "# Función para obtener el tiempo total que le lleva ver todos los videos\n",
    "# Ejemplo:\n",
    "#    1,8 -> termina en min 9\n",
    "#    3,3 -> termina en min 7\n",
    "#    5,1 -> termina en min 10\n",
    "#    total = 10\n",
    "def tiempo_total(tiempos):\n",
    "    total_scaloni = 0\n",
    "    tiempos_por_video = []\n",
    "    for tupla in tiempos:\n",
    "        total_scaloni += tupla[0]\n",
    "        tiempos_por_video.append(total_scaloni + tupla[1])\n",
    "    return max(tiempos_por_video) #TODO complejidad?"
   ]
  },
  {
   "cell_type": "code",
   "execution_count": 35,
   "metadata": {},
   "outputs": [],
   "source": [
    "# Obtiene los tiempos óptimos, con formato\n",
    "def tiempos_optimos(path):\n",
    "    with open(path, \"r\") as archivo:\n",
    "        lineas = archivo.readlines()\n",
    "    \n",
    "    tiempos = []\n",
    "    i = 0\n",
    "    for linea in lineas:\n",
    "        if (i == 0):\n",
    "            i += 1\n",
    "            continue\n",
    "        tiempo = linea.strip()\n",
    "        tiempos.append(tiempo)\n",
    "    return tiempos"
   ]
  },
  {
   "cell_type": "code",
   "execution_count": 113,
   "metadata": {},
   "outputs": [],
   "source": [
    "# Obtiene los tiempos óptimos de un archivo, sin formato\n",
    "def obtener_valores_optimos(resultados_optimos):\n",
    "    valores = []\n",
    "    for resultado in resultados_optimos:\n",
    "        resultado = resultado.split(':')\n",
    "        valores.append(int(resultado[1]))\n",
    "    return valores\n",
    "   "
   ]
  },
  {
   "cell_type": "markdown",
   "metadata": {},
   "source": [
    "Cargamos todos los sets a utilizar"
   ]
  },
  {
   "cell_type": "code",
   "execution_count": 118,
   "metadata": {},
   "outputs": [],
   "source": [
    "tiempos_n3 = obtener_tiempos(path_3_compilados)\n",
    "tiempos_n10 = obtener_tiempos(path_10_compilados)\n",
    "tiempos_n100 = obtener_tiempos(path_100_compilados)\n",
    "tiempos_n10000 = obtener_tiempos(path_10000_compilados)\n",
    "resultados_optimos = tiempos_optimos(path_tiempos_optimos)\n",
    "valores_optimos = obtener_valores_optimos(resultados_optimos)\n",
    "tiempos_contraej_si = obtener_tiempos(path_contraejemplo_si)"
   ]
  },
  {
   "cell_type": "code",
   "execution_count": 140,
   "metadata": {},
   "outputs": [
    {
     "name": "stdout",
     "output_type": "stream",
     "text": [
      "602\n",
      "604\n",
      "602\n",
      "609\n",
      "608\n",
      "609\n",
      "Tiempo mínimo total: 602\n"
     ]
    }
   ],
   "source": [
    "from itertools import permutations\n",
    "\n",
    "\n",
    "n = 3\n",
    "s_i = [100, 1, 500]\n",
    "a_i = [8, 3, 1]\n",
    "\n",
    "# Combinaciones posibles de orden del array\n",
    "permutations_indices = permutations(range(n))\n",
    "\n",
    "# Inicializamos el tiempo mínimo con un valor grande\n",
    "tiempo_minimo = float('inf')\n",
    "\n",
    "# Iteramos a través de todas las combinaciones posibles\n",
    "for perm_indices in permutations_indices:\n",
    "    orden_rivales = [(s_i[i], a_i[i]) for i in perm_indices]\n",
    "    tiempo = tiempo_total(orden_rivales)\n",
    "    print(tiempo)\n",
    "    if tiempo < tiempo_minimo:\n",
    "        tiempo_minimo = tiempo\n",
    "\n",
    "print(\"Tiempo mínimo total:\", tiempo_minimo)"
   ]
  },
  {
   "cell_type": "markdown",
   "metadata": {},
   "source": [
    "### 1 - Tomamos como próximo al video que menos tiempo le lleve a Scaloni"
   ]
  },
  {
   "cell_type": "code",
   "execution_count": 111,
   "metadata": {},
   "outputs": [
    {
     "name": "stdout",
     "output_type": "stream",
     "text": [
      "Primer caso de prueba: [(3, 3), (5, 1), (1, 8)]\n",
      "Tiempo total para 3 compilados: 10\n",
      "Tiempo óptimo para 3 elementos: 10\n",
      "En este caso nos dió bien, pero mostramos un contraejemplo:\n",
      "Contraejemplo: [(1, 1), (3, 3), (5, 8)]\n",
      "Tiempo total para contraejemplo: 17\n",
      "Ese resultado no es el óptimo, porque por ejemplo:\n",
      " Si tomamos las tareas en este orden [(5, 8), (1, 1), (3, 3)] nos da un tiempo total de 13 que es menor a 17.\n"
     ]
    }
   ],
   "source": [
    "print(f\"Primer caso de prueba: {tiempos_n3}\")\n",
    "tiempos_n3_ordenados = ordenar_tupla(sort_by_si, tiempos_n3)\n",
    "\n",
    "print(f\"Tiempo total para 3 compilados: {tiempo_total(tiempos_n3_ordenados)}\")\n",
    "print(f\"Tiempo óptimo para {resultados_optimos[0]}\")\n",
    "\n",
    "print(\"En este caso nos dió bien, pero mostramos un contraejemplo:\")\n",
    "\n",
    "print(f\"Contraejemplo: {tiempos_contraej_si}\")\n",
    "tiempos_contraej_ordenados = ordenar_tupla(sort_by_si, tiempos_contraej_si)\n",
    "print(f\"Tiempo total para contraejemplo: {tiempo_total(tiempos_contraej_ordenados)}\")\n",
    "print(f\"Ese resultado no es el óptimo, porque por ejemplo:\\n Si tomamos las tareas en este orden [(5, 8), (1, 1), (3, 3)] nos da un tiempo total de 13 que es menor a 17.\")"
   ]
  },
  {
   "cell_type": "markdown",
   "metadata": {},
   "source": [
    "Vemos que esta solución no nos da la óptima siempre. Esto es justamente por un caso como el contraejemplo presentado, en donde el último ayudante tarda mucho!"
   ]
  },
  {
   "cell_type": "markdown",
   "metadata": {},
   "source": [
    "### 2 - Tomamos como próximo al video que más tiempo le lleve a Scaloni"
   ]
  },
  {
   "cell_type": "code",
   "execution_count": 124,
   "metadata": {},
   "outputs": [
    {
     "name": "stdout",
     "output_type": "stream",
     "text": [
      "Primer caso de prueba: [(5, 1), (3, 3), (1, 8)]\n",
      "Tiempo total para 3 compilados: 17\n",
      "Tiempo óptimo para 3 elementos: 10\n",
      "Es optimo? False\n",
      "\n",
      "Como podemos observar, el tiempo total es mayor al óptimo. Esto se debe a que al no estar teniendose en consideración el tiempo que tardan \n",
      "los atudantes en ver los videos, se puede dar el caso donde el último video que se vea por parte de Scaloni (menos tarda en analizar) \n",
      "sea uno en el cual los ayudantes tardan mucho en ver. En este caso, el ultimo video que analiza Scaloni es justamente en el que más tardan los ayudantes\n",
      "\n"
     ]
    }
   ],
   "source": [
    "print(f\"Primer caso de prueba: {tiempos_n3}\")\n",
    "tiempos_n3_ordenados = ordenar_tupla(sort_by_si, tiempos_n3, True)\n",
    "\n",
    "print(f\"Tiempo total para 3 compilados: {tiempo_total(tiempos_n3_ordenados)}\")\n",
    "print(f\"Tiempo óptimo para {resultados_optimos[0]}\")\n",
    "print(f\"Es optimo? {tiempos_n3_ordenados ==  valores_optimos[0]}\\n\")\n",
    "\n",
    "print(\"Como podemos observar, el tiempo total es mayor al óptimo. Esto se debe a que al no estar teniendose en consideración el tiempo que tardan \\n\\\n",
    "los atudantes en ver los videos, se puede dar el caso donde el último video que se vea por parte de Scaloni (menos tarda en analizar) \\n\\\n",
    "sea uno en el cual los ayudantes tardan mucho en ver. En este caso, el ultimo video que analiza Scaloni es justamente en el que más tardan los ayudantes.\\n\")"
   ]
  },
  {
   "cell_type": "markdown",
   "metadata": {},
   "source": [
    "### 3 - Tomamos como próximo al video de mayor a menor según la relación a_i/s_i"
   ]
  },
  {
   "cell_type": "code",
   "execution_count": 137,
   "metadata": {},
   "outputs": [
    {
     "name": "stdout",
     "output_type": "stream",
     "text": [
      "Tiempo total para 3 compilados: 10\n",
      "Tiempo óptimo para 3 elementos: 10\n",
      "Es optimo? True\n",
      "\n",
      "Tiempo total para 10 compilados: 29\n",
      "Tiempo óptimo para 10 elementos: 29\n",
      "Es optimo? True\n",
      "\n",
      "Tiempo total para 100 compilados: 5226\n",
      "Tiempo óptimo para 100 elementos: 5223\n",
      "Es optimo? False\n",
      "\n",
      "Tiempo total para 10000 compilados: 497886767\n",
      "Tiempo óptimo para 10000 elementos: 497886735\n",
      "Es optimo? False\n",
      "\n"
     ]
    }
   ],
   "source": [
    "tiempos_n3_ordenados = ordenar_tupla(sort_by_ai_si, tiempos_n3, True)\n",
    "tiempo_n3_total = tiempo_total(tiempos_n3_ordenados)\n",
    "print(f\"Tiempo total para 3 compilados: {tiempo_n3_total}\")\n",
    "print(f\"Tiempo óptimo para {resultados_optimos[0]}\")\n",
    "print(f\"Es optimo? {tiempo_n3_total == valores_optimos[0]}\\n\")\n",
    "\n",
    "tiempos_n10_ordenados = ordenar_tupla(sort_by_ai_si, tiempos_n10, True)\n",
    "tiempo_n10_total = tiempo_total(tiempos_n10_ordenados)\n",
    "print(f\"Tiempo total para 10 compilados: {tiempo_n10_total}\")\n",
    "print(f\"Tiempo óptimo para {resultados_optimos[1]}\")\n",
    "print(f\"Es optimo? {tiempo_n10_total ==  valores_optimos[1]}\\n\")\n",
    "\n",
    "tiempos_n100_ordenados = ordenar_tupla(sort_by_ai_si, tiempos_n100, True)\n",
    "tiempo_n100_total = tiempo_total(tiempos_n100_ordenados)\n",
    "print(f\"Tiempo total para 100 compilados: {tiempo_n100_total}\")\n",
    "print(f\"Tiempo óptimo para {resultados_optimos[2]}\")\n",
    "print(f\"Es optimo? {tiempo_n100_total ==  valores_optimos[2]}\\n\")\n",
    "\n",
    "tiempos_n10000_ordenados = ordenar_tupla(sort_by_ai_si, tiempos_n10000, True)\n",
    "tiempo_n10000_total = tiempo_total(tiempos_n10000_ordenados)\n",
    "print(f\"Tiempo total para 10000 compilados: {tiempo_n10000_total}\")\n",
    "print(f\"Tiempo óptimo para {resultados_optimos[3]}\")\n",
    "print(f\"Es optimo? {tiempo_n10000_total ==  valores_optimos[3]}\\n\")"
   ]
  },
  {
   "cell_type": "markdown",
   "metadata": {},
   "source": [
    "### 4 - Tomamos como próximo al video que más tiempo le lleve a los Ayudantes"
   ]
  },
  {
   "cell_type": "code",
   "execution_count": 138,
   "metadata": {},
   "outputs": [
    {
     "name": "stdout",
     "output_type": "stream",
     "text": [
      "Tiempo total para 3 compilados: 10\n",
      "Tiempo óptimo para 3 elementos: 10\n",
      "Es optimo? True\n",
      "\n",
      "Tiempo total para 10 compilados: 29\n",
      "Tiempo óptimo para 10 elementos: 29\n",
      "Es optimo? True\n",
      "\n",
      "Tiempo total para 100 compilados: 5223\n",
      "Tiempo óptimo para 100 elementos: 5223\n",
      "Es optimo? True\n",
      "\n",
      "Tiempo total para 10000 compilados: 497886735\n",
      "Tiempo óptimo para 10000 elementos: 497886735\n",
      "Es optimo? True\n",
      "\n"
     ]
    }
   ],
   "source": [
    "tiempos_n3_ordenados = ordenar_tupla(sort_by_ai, tiempos_n3, True)\n",
    "tiempo_n3_total = tiempo_total(tiempos_n3_ordenados)\n",
    "print(f\"Tiempo total para 3 compilados: {tiempo_n3_total}\")\n",
    "print(f\"Tiempo óptimo para {resultados_optimos[0]}\")\n",
    "print(f\"Es optimo? {tiempo_n3_total == valores_optimos[0]}\\n\")\n",
    "\n",
    "tiempos_n10_ordenados = ordenar_tupla(sort_by_ai, tiempos_n10, True)\n",
    "tiempo_n10_total = tiempo_total(tiempos_n10_ordenados)\n",
    "print(f\"Tiempo total para 10 compilados: {tiempo_n10_total}\")\n",
    "print(f\"Tiempo óptimo para {resultados_optimos[1]}\")\n",
    "print(f\"Es optimo? {tiempo_n10_total ==  valores_optimos[1]}\\n\")\n",
    "\n",
    "tiempos_n100_ordenados = ordenar_tupla(sort_by_ai, tiempos_n100, True)\n",
    "tiempo_n100_total = tiempo_total(tiempos_n100_ordenados)\n",
    "print(f\"Tiempo total para 100 compilados: {tiempo_n100_total}\")\n",
    "print(f\"Tiempo óptimo para {resultados_optimos[2]}\")\n",
    "print(f\"Es optimo? {tiempo_n100_total ==  valores_optimos[2]}\\n\")\n",
    "\n",
    "tiempos_n10000_ordenados = ordenar_tupla(sort_by_ai, tiempos_n10000, True)\n",
    "tiempo_n10000_total = tiempo_total(tiempos_n10000_ordenados)\n",
    "print(f\"Tiempo total para 10000 compilados: {tiempo_n10000_total}\")\n",
    "print(f\"Tiempo óptimo para {resultados_optimos[3]}\")\n",
    "print(f\"Es optimo? {tiempo_n10000_total ==  valores_optimos[3]}\\n\")"
   ]
  }
 ],
 "metadata": {
  "kernelspec": {
   "display_name": "Python 3",
   "language": "python",
   "name": "python3"
  },
  "language_info": {
   "codemirror_mode": {
    "name": "ipython",
    "version": 3
   },
   "file_extension": ".py",
   "mimetype": "text/x-python",
   "name": "python",
   "nbconvert_exporter": "python",
   "pygments_lexer": "ipython3",
   "version": "3.10.12"
  },
  "orig_nbformat": 4
 },
 "nbformat": 4,
 "nbformat_minor": 2
}
