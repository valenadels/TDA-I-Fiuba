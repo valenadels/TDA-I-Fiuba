{
 "cells": [
  {
   "cell_type": "markdown",
   "metadata": {},
   "source": [
    "# RESOLUCIÓN TP2"
   ]
  },
  {
   "cell_type": "markdown",
   "metadata": {},
   "source": [
    "#### Funciones auxiliares"
   ]
  },
  {
   "cell_type": "code",
   "execution_count": 82,
   "metadata": {},
   "outputs": [],
   "source": [
    "# Recibe el path con el archivo a leer.\n",
    "# Leemos y devolvemos dos arrays. \n",
    "# - El primero correspondiente a los e_i (ganancias de cada dia)\n",
    "# - El segundo a los s_i (energía que se cuenta al día i de estar entrenando sin haber descansando previamente)\n",
    "def obtener_ganancias_y_energias(path):\n",
    "    with open(path, \"r\") as archivo:\n",
    "        lineas = archivo.readlines()\n",
    "\n",
    "    ganancias_e_i = []\n",
    "    energias_s_i = []\n",
    "    i = 0\n",
    "    cantidad_elementos = 0\n",
    "\n",
    "    for linea in lineas:\n",
    "      if i == 0:\n",
    "        cantidad_elementos = int(linea)\n",
    "      else:\n",
    "        if i <= cantidad_elementos:\n",
    "          ganancias_e_i.append(int(linea))\n",
    "        else:\n",
    "          energias_s_i.append(int(linea))\n",
    "      i += 1\n",
    "      \n",
    "    return ganancias_e_i, energias_s_i"
   ]
  },
  {
   "cell_type": "code",
   "execution_count": 83,
   "metadata": {},
   "outputs": [],
   "source": [
    "#Paths de los archivos a utilizar\n",
    "path_3 = 'sets/catedra/3.txt'\n",
    "path_10 = 'sets/catedra/10.txt'\n",
    "path_10_bis = 'sets/catedra/10_bis.txt'\n",
    "path_10_todo_entreno = 'sets/catedra/10_todo_entreno.txt'\n",
    "path_50 = 'sets/catedra/50.txt'\n",
    "path_50_bis = 'sets/catedra/50_bis.txt'\n",
    "path_100 = 'sets/catedra/100.txt'\n",
    "path_500 = 'sets/catedra/500.txt'\n",
    "path_1000 = 'sets/catedra/1000.txt'\n",
    "path_5000 = 'sets/catedra/5000.txt'"
   ]
  },
  {
   "cell_type": "code",
   "execution_count": 84,
   "metadata": {},
   "outputs": [],
   "source": [
    "# Devuelve un array con los resultados esperados de los archivos brindaods por la catedra\n",
    "def obtener_ganancias_maximas_esperadas():\n",
    "  path = 'sets/catedra/Resultados Esperados.txt'\n",
    "  with open(path, 'r') as archivo:\n",
    "      contenido = archivo.read() \n",
    "\n",
    "  # Separa el contenido en bloques\n",
    "  bloques = contenido.split('\\n\\n')\n",
    "  ganancias_esperadas = []\n",
    "  nombre_archivo = ''\n",
    "\n",
    "  # Itera a través de cada bloque y busca \"Ganancia maxima\" dentro de cada uno\n",
    "  for bloque in bloques:\n",
    "      lineas = bloque.split('\\n')\n",
    "      for linea in lineas:\n",
    "          if \".txt\" in linea:\n",
    "              nombre_archivo = linea\n",
    "          if linea.startswith('Ganancia maxima:'):\n",
    "              ganancia_esperada = linea.split(':')[1].strip()\n",
    "              ganancias_esperadas.append([nombre_archivo, int(ganancia_esperada)])\n",
    "\n",
    "  return ganancias_esperadas\n"
   ]
  },
  {
   "cell_type": "markdown",
   "metadata": {},
   "source": [
    "#### Funciones de resolución "
   ]
  },
  {
   "cell_type": "code",
   "execution_count": 85,
   "metadata": {},
   "outputs": [],
   "source": [
    "# Recibe las ganancias de cada día (e_i), las energias con las que se cuenta cada día (s_i), el dia actual y la cantidad de días entrenados.\n",
    "# Devuelve la ganancia obtenida en el dia según la energía disponible.\n",
    "def ganancia_dia_actual(e_i, s_i, dia, dias_entrenados):\n",
    "  return min(e_i[dia], s_i[dias_entrenados])\n",
    "\n",
    "def reconstruir_solucion(ganancias):\n",
    "  index = len(ganancias) - 1\n",
    "  solucion = []\n",
    "  while index >= 0:\n",
    "    cant_dias_entrenados = ganancias[index].index(max(ganancias[index]))\n",
    "    solucion.append(\"Entreno\")\n",
    "    if cant_dias_entrenados == 0:\n",
    "      solucion.append(\"Descanso\")\n",
    "      index -= 1\n",
    "    index -= 1\n",
    "       \n",
    "  return solucion[::-1]\n",
    "\n",
    "# Recibe las ganancias de cada día (e_i) y las energias con las que se cuenta cada día (s_i).\n",
    "# Devuelve la ganancia máxima que se puede obtener a lo largo de varios días tomando decisiones \n",
    "# óptimas sobre cómo asignar la energía disponible\n",
    "def ganancia_maxima_posible(e_i, s_i):\n",
    "\n",
    "  cantidad_dias = len(e_i)\n",
    "\n",
    "  ganancias_obtenidas = [[0] * cantidad_dias for _ in range(cantidad_dias)]\n",
    "  dias_entrenados = 2\n",
    "  ganancias_obtenidas[0][0] = ganancia_dia_actual(e_i, s_i, 0, 0)\n",
    "  ganancias_obtenidas[1][0] = ganancia_dia_actual(e_i, s_i, 1, 0)\n",
    "  ganancias_obtenidas[1][1] = ganancia_dia_actual(e_i, s_i, 1, 1) + ganancias_obtenidas[0][0]\n",
    "  \n",
    "  for dia in range(2, cantidad_dias):\n",
    "    ganancias_obtenidas[dia][0] = ganancia_dia_actual(e_i, s_i, dia, 0)\n",
    "\n",
    "  for dia in range(2, cantidad_dias):\n",
    "    ganancias_obtenidas[dia][0] += max(ganancias_obtenidas[dia-2])\n",
    "    for dia_entrenado in range(1, dias_entrenados+1):\n",
    "      ganancias_obtenidas[dia][dia_entrenado] = ganancia_dia_actual(e_i, s_i, dia, dia_entrenado) + ganancias_obtenidas[dia-1][dia_entrenado-1]\n",
    "    dias_entrenados += 1\n",
    "  return ganancias_obtenidas, max(ganancias_obtenidas[cantidad_dias-1])\n"
   ]
  },
  {
   "cell_type": "markdown",
   "metadata": {},
   "source": [
    "### Pruebas"
   ]
  },
  {
   "cell_type": "markdown",
   "metadata": {},
   "source": [
    "#### Sets de la catedra "
   ]
  },
  {
   "cell_type": "code",
   "execution_count": 86,
   "metadata": {},
   "outputs": [],
   "source": [
    "e_i_3, s_i_3 = obtener_ganancias_y_energias(path_3)\n",
    "e_i_10, s_i_10 = obtener_ganancias_y_energias(path_10)\n",
    "e_i_10_bis, s_i_10_bis = obtener_ganancias_y_energias(path_10_bis)\n",
    "e_i_10_todo_entreno, s_i_10_todo_entreno = obtener_ganancias_y_energias(path_10_todo_entreno)\n",
    "e_i_50, s_i_50 = obtener_ganancias_y_energias(path_50)\n",
    "e_i_50_bis, s_i_50_bis = obtener_ganancias_y_energias(path_50_bis)\n",
    "e_i_100, s_i_100 = obtener_ganancias_y_energias(path_100)\n",
    "e_i_500, s_i_500 = obtener_ganancias_y_energias(path_500)\n",
    "e_i_1000, s_i_1000 = obtener_ganancias_y_energias(path_1000)\n",
    "e_i_5000, s_i_5000 = obtener_ganancias_y_energias(path_5000)"
   ]
  },
  {
   "cell_type": "code",
   "execution_count": 87,
   "metadata": {},
   "outputs": [],
   "source": [
    "g3, ganancia_max_3_dias = ganancia_maxima_posible(e_i_3, s_i_3)\n",
    "g10, ganancia_max_10_dias = ganancia_maxima_posible(e_i_10, s_i_10)\n",
    "g10bis, ganancia_max_10_dias_bis = ganancia_maxima_posible(e_i_10_bis, s_i_10_bis)\n",
    "g10te, ganancia_max_10_dias_todo_entreno = ganancia_maxima_posible(e_i_10_todo_entreno, s_i_10_todo_entreno)\n",
    "g50, ganancia_max_50_dias = ganancia_maxima_posible(e_i_50, s_i_50)\n",
    "g50bis, ganancia_max_50_dias_bis = ganancia_maxima_posible(e_i_50_bis, s_i_50_bis)\n",
    "g100, ganancia_max_100_dias = ganancia_maxima_posible(e_i_100, s_i_100)\n",
    "g500, ganancia_max_500_dias = ganancia_maxima_posible(e_i_500, s_i_500)\n",
    "g1000, ganancia_max_1000_dias = ganancia_maxima_posible(e_i_1000, s_i_1000)\n",
    "g5000, ganancia_max_5000_dias = ganancia_maxima_posible(e_i_5000, s_i_5000)"
   ]
  },
  {
   "cell_type": "code",
   "execution_count": 88,
   "metadata": {},
   "outputs": [
    {
     "name": "stdout",
     "output_type": "stream",
     "text": [
      "['Descanso', 'Entreno', 'Descanso', 'Entreno', 'Entreno', 'Entreno', 'Entreno', 'Entreno', 'Entreno', 'Entreno', 'Entreno']\n"
     ]
    }
   ],
   "source": [
    "print(reconstruir_solucion(g10))"
   ]
  },
  {
   "cell_type": "code",
   "execution_count": 89,
   "metadata": {},
   "outputs": [],
   "source": [
    "ganancias_obtenidas = [ganancia_max_3_dias, ganancia_max_10_dias, ganancia_max_10_dias_bis, ganancia_max_10_dias_todo_entreno,\\\n",
    "                      ganancia_max_50_dias, ganancia_max_50_dias_bis, ganancia_max_100_dias, ganancia_max_500_dias, ganancia_max_1000_dias,\\\n",
    "                      ganancia_max_5000_dias]\n",
    "ganancias_maximas_esperadas = obtener_ganancias_maximas_esperadas()"
   ]
  },
  {
   "cell_type": "code",
   "execution_count": 90,
   "metadata": {},
   "outputs": [
    {
     "name": "stdout",
     "output_type": "stream",
     "text": [
      "Archivo                Ganancia Esperada    Ganancia Obtenida  Se obtuvo el resultado esperado?\n",
      "-------------------  -------------------  -------------------  ----------------------------------\n",
      "3.txt                                  7                    7  Sí\n",
      "10.txt                               380                  380  Sí\n",
      "10_bis.txt                           523                  523  Sí\n",
      "10_todo_entreno.txt                  860                  860  Sí\n",
      "50.txt                              1870                 1870  Sí\n",
      "50_bis.txt                          2136                 2136  Sí\n",
      "100.txt                             5325                 5325  Sí\n",
      "500.txt                            27158                27158  Sí\n",
      "1000.txt                           54021                54021  Sí\n",
      "5000.txt                          279175               279175  Sí\n"
     ]
    }
   ],
   "source": [
    "# correr pip install tabulate en consola para poder usar esta libreria \n",
    "from tabulate import tabulate\n",
    "\n",
    "# Imprime los resultados obtenidos y los esperados en una tabla\n",
    "resultados = []\n",
    "i = 0\n",
    "for ganancia_esperada in ganancias_maximas_esperadas:\n",
    "  es_correcto = \"Sí\" if ganancia_esperada[1] == ganancias_obtenidas[i] else \"No\"\n",
    "  resultados.append([ganancia_esperada[0], ganancia_esperada[1], ganancias_obtenidas[i], es_correcto])\n",
    "  i += 1\n",
    "\n",
    "print(tabulate(resultados, headers=['Archivo', 'Ganancia Esperada', 'Ganancia Obtenida', 'Se obtuvo el resultado esperado?']))"
   ]
  }
 ],
 "metadata": {
  "kernelspec": {
   "display_name": "Python 3",
   "language": "python",
   "name": "python3"
  },
  "language_info": {
   "codemirror_mode": {
    "name": "ipython",
    "version": 3
   },
   "file_extension": ".py",
   "mimetype": "text/x-python",
   "name": "python",
   "nbconvert_exporter": "python",
   "pygments_lexer": "ipython3",
   "version": "3.10.12"
  }
 },
 "nbformat": 4,
 "nbformat_minor": 2
}
