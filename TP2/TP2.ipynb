{
 "cells": [
  {
   "cell_type": "markdown",
   "metadata": {},
   "source": [
    "# RESOLUCIÓN TP2"
   ]
  },
  {
   "cell_type": "code",
   "execution_count": null,
   "metadata": {},
   "outputs": [],
   "source": [
    "# Leemos el archivo de entrada y devolvemos dos arrays. El primero correspondiente a los e_i y el segundo a los s_i\n",
    "def obtener_ganancias_y_energias(path):\n",
    "    with open(path, \"r\") as archivo:\n",
    "        lineas = archivo.readlines()\n",
    "\n",
    "    ganancias = []\n",
    "    energias = []\n",
    "    i = 0\n",
    "    cantidad_elementos = 0\n",
    "\n",
    "    for linea in lineas:\n",
    "      if i == 0:\n",
    "        cantidad_elementos = int(linea)\n",
    "      else:\n",
    "        if i <= cantidad_elementos:\n",
    "          ganancias.append(int(linea))\n",
    "        else:\n",
    "          energias.append(int(linea))\n",
    "      i += 1\n",
    "      \n",
    "    return ganancias, energias"
   ]
  },
  {
   "cell_type": "code",
   "execution_count": null,
   "metadata": {},
   "outputs": [],
   "source": [
    "#Paths de los archivos a utilizar\n",
    "path_3 = 'sets/catedra/3.txt'\n",
    "path_10 = 'sets/catedra/10.txt'\n",
    "path_10_bis = 'sets/catedra/10_bis.txt'\n",
    "path_10_todo_entreno = 'sets/catedra/10_todo_entreno.txt'\n",
    "path_50 = 'sets/catedra/50.txt'\n",
    "path_50_bis = 'sets/catedra/50_bis.txt'\n",
    "path_100 = 'sets/catedra/100.txt'\n",
    "path_500 = 'sets/catedra/500.txt'\n",
    "path_1000 = 'sets/catedra/1000.txt'\n",
    "path_5000 = 'sets/catedra/5000.txt'"
   ]
  },
  {
   "cell_type": "code",
   "execution_count": null,
   "metadata": {},
   "outputs": [],
   "source": [
    "def ganancia_dia_actual(ganancias, energias, dia, dias_entrenados):\n",
    "  return min(ganancias[dia], energias[dias_entrenados])\n",
    "\n",
    "\n",
    "def ganancia_obtenida(ganancias, energias):\n",
    "\n",
    "  cantidad_dias = len(ganancias)\n",
    "\n",
    "  ganancias_obtenidas = [[0] * cantidad_dias for _ in range(cantidad_dias)]\n",
    "  dias_entrenados = 2\n",
    "  ganancias_obtenidas[0][0] = ganancia_dia_actual(ganancias, energias, 0, 0)\n",
    "  ganancias_obtenidas[1][0] = ganancia_dia_actual(ganancias, energias, 1, 0)\n",
    "  ganancias_obtenidas[1][1] = ganancia_dia_actual(ganancias, energias, 1, 1) + ganancias_obtenidas[0][0]\n",
    "  \n",
    "  for dia in range(2, cantidad_dias):\n",
    "    ganancias_obtenidas[dia][0] = ganancia_dia_actual(ganancias, energias, dia, 0)\n",
    "\n",
    "  for dia in range(2, cantidad_dias):\n",
    "    ganancias_obtenidas[dia][0] += max(ganancias_obtenidas[dia-2])\n",
    "    for dia_entrenado in range(1, dias_entrenados+1):\n",
    "      ganancias_obtenidas[dia][dia_entrenado] = ganancia_dia_actual(ganancias, energias, dia, dia_entrenado) + ganancias_obtenidas[dia-1][dia_entrenado-1]\n",
    "    dias_entrenados += 1\n",
    "  return max(ganancias_obtenidas[cantidad_dias-1])\n"
   ]
  },
  {
   "cell_type": "code",
   "execution_count": null,
   "metadata": {},
   "outputs": [],
   "source": [
    "# Desarollo de la solucion\n",
    "ganancias, energias = obtener_ganancias_y_energias(path_10)"
   ]
  }
 ],
 "metadata": {
  "kernelspec": {
   "display_name": "Python 3",
   "language": "python",
   "name": "python3"
  },
  "language_info": {
   "name": "python",
   "version": "3.10.12"
  }
 },
 "nbformat": 4,
 "nbformat_minor": 2
}
